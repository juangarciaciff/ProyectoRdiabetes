{
 "cells": [
  {
   "cell_type": "markdown",
   "metadata": {},
   "source": [
    "# Proyecto R - Diabetes\n",
    "***\n",
    "- Autor: Juan Antonio García Cuevas\n",
    "- Fecha: 03/07/2016\n",
    "***\n",
    "\n",
    "**Con el conjunto de datos diabetes.data dplyr**:"
   ]
  },
  {
   "cell_type": "markdown",
   "metadata": {},
   "source": [
    "## - Cargar las librerías"
   ]
  },
  {
   "cell_type": "code",
   "execution_count": 35,
   "metadata": {
    "collapsed": false
   },
   "outputs": [],
   "source": [
    "library(ggplot2)\n",
    "library(dplyr)\n",
    "library(plyr)"
   ]
  },
  {
   "cell_type": "markdown",
   "metadata": {},
   "source": [
    "## - Cargar los datos en R."
   ]
  },
  {
   "cell_type": "code",
   "execution_count": 36,
   "metadata": {
    "collapsed": false
   },
   "outputs": [
    {
     "data": {
      "text/html": [
       "<table>\n",
       "<thead><tr><th></th><th scope=col>AGE</th><th scope=col>SEX</th><th scope=col>BMI</th><th scope=col>BP</th><th scope=col>S1</th><th scope=col>S2</th><th scope=col>S3</th><th scope=col>S4</th><th scope=col>S5</th><th scope=col>S6</th><th scope=col>Y</th></tr></thead>\n",
       "<tbody>\n",
       "\t<tr><th scope=row>1</th><td>59</td><td>F</td><td>32.1</td><td>101</td><td>157</td><td>93.2</td><td>38</td><td>4</td><td>4.8598</td><td>87</td><td>151</td></tr>\n",
       "\t<tr><th scope=row>2</th><td>48</td><td>M</td><td>21.6</td><td>87</td><td>183</td><td>103.2</td><td>70</td><td>3</td><td>3.8918</td><td>69</td><td>75</td></tr>\n",
       "\t<tr><th scope=row>3</th><td>72</td><td>F</td><td>30.5</td><td>93</td><td>156</td><td>93.6</td><td>41</td><td>4</td><td>4.6728</td><td>85</td><td>141</td></tr>\n",
       "\t<tr><th scope=row>4</th><td>24</td><td>M</td><td>25.3</td><td>84</td><td>198</td><td>131.4</td><td>40</td><td>5</td><td>4.8903</td><td>89</td><td>206</td></tr>\n",
       "\t<tr><th scope=row>5</th><td>50</td><td>M</td><td>23</td><td>101</td><td>192</td><td>125.4</td><td>52</td><td>4</td><td>4.2905</td><td>80</td><td>135</td></tr>\n",
       "\t<tr><th scope=row>6</th><td>23</td><td>M</td><td>22.6</td><td>89</td><td>139</td><td>64.8</td><td>61</td><td>2</td><td>4.1897</td><td>68</td><td>97</td></tr>\n",
       "</tbody>\n",
       "</table>\n"
      ],
      "text/latex": [
       "\\begin{tabular}{r|lllllllllll}\n",
       "  & AGE & SEX & BMI & BP & S1 & S2 & S3 & S4 & S5 & S6 & Y\\\\\n",
       "\\hline\n",
       "\t1 & 59 & F & 32.1 & 101 & 157 & 93.2 & 38 & 4 & 4.8598 & 87 & 151\\\\\n",
       "\t2 & 48 & M & 21.6 & 87 & 183 & 103.2 & 70 & 3 & 3.8918 & 69 & 75\\\\\n",
       "\t3 & 72 & F & 30.5 & 93 & 156 & 93.6 & 41 & 4 & 4.6728 & 85 & 141\\\\\n",
       "\t4 & 24 & M & 25.3 & 84 & 198 & 131.4 & 40 & 5 & 4.8903 & 89 & 206\\\\\n",
       "\t5 & 50 & M & 23 & 101 & 192 & 125.4 & 52 & 4 & 4.2905 & 80 & 135\\\\\n",
       "\t6 & 23 & M & 22.6 & 89 & 139 & 64.8 & 61 & 2 & 4.1897 & 68 & 97\\\\\n",
       "\\end{tabular}\n"
      ],
      "text/plain": [
       "  AGE SEX  BMI  BP  S1    S2 S3 S4     S5 S6   Y\n",
       "1  59   F 32.1 101 157  93.2 38  4 4.8598 87 151\n",
       "2  48   M 21.6  87 183 103.2 70  3 3.8918 69  75\n",
       "3  72   F 30.5  93 156  93.6 41  4 4.6728 85 141\n",
       "4  24   M 25.3  84 198 131.4 40  5 4.8903 89 206\n",
       "5  50   M 23.0 101 192 125.4 52  4 4.2905 80 135\n",
       "6  23   M 22.6  89 139  64.8 61  2 4.1897 68  97"
      ]
     },
     "execution_count": 36,
     "metadata": {},
     "output_type": "execute_result"
    },
    {
     "name": "stdout",
     "output_type": "stream",
     "text": [
      "'data.frame':\t442 obs. of  11 variables:\n",
      " $ AGE: int  59 48 72 24 50 23 36 66 60 29 ...\n",
      " $ SEX: Factor w/ 2 levels \"F\",\"M\": 1 2 1 2 2 2 1 1 1 2 ...\n",
      " $ BMI: num  32.1 21.6 30.5 25.3 23 22.6 22 26.2 32.1 30 ...\n",
      " $ BP : num  101 87 93 84 101 89 90 114 83 85 ...\n",
      " $ S1 : int  157 183 156 198 192 139 160 255 179 180 ...\n",
      " $ S2 : num  93.2 103.2 93.6 131.4 125.4 ...\n",
      " $ S3 : num  38 70 41 40 52 61 50 56 42 43 ...\n",
      " $ S4 : num  4 3 4 5 4 2 3 4.55 4 4 ...\n",
      " $ S5 : num  4.86 3.89 4.67 4.89 4.29 ...\n",
      " $ S6 : int  87 69 85 89 80 68 82 92 94 88 ...\n",
      " $ Y  : int  151 75 141 206 135 97 138 63 110 310 ...\n"
     ]
    }
   ],
   "source": [
    "## Carga los datos del fichero\n",
    "data <- read.table(\"diabetes.data\", header=T)\n",
    "\n",
    "## Muestra información (primeras filas, nº de filas y columnas, variables ...)\n",
    "head(data)\n",
    "str(data)"
   ]
  },
  {
   "cell_type": "markdown",
   "metadata": {},
   "source": [
    "## - Eliminar los missing values, que están codificados como -9999.00."
   ]
  },
  {
   "cell_type": "code",
   "execution_count": 37,
   "metadata": {
    "collapsed": false
   },
   "outputs": [
    {
     "name": "stdout",
     "output_type": "stream",
     "text": [
      "[1] \"Antes:\"\n"
     ]
    },
    {
     "data": {
      "text/html": [
       "<table>\n",
       "<thead><tr><th></th><th scope=col>AGE</th><th scope=col>SEX</th><th scope=col>BMI</th><th scope=col>BP</th><th scope=col>S1</th><th scope=col>S2</th><th scope=col>S3</th><th scope=col>S4</th><th scope=col>S5</th><th scope=col>S6</th><th scope=col>Y</th></tr></thead>\n",
       "<tbody>\n",
       "\t<tr><th scope=row>18</th><td>68</td><td>F</td><td>27.5</td><td>111</td><td>214</td><td>147</td><td>39</td><td>5</td><td>4.9416</td><td>91</td><td>144</td></tr>\n",
       "\t<tr><th scope=row>19</th><td>38</td><td>M</td><td>25.4</td><td>84</td><td>162</td><td>103</td><td>42</td><td>4</td><td>-9999</td><td>87</td><td>97</td></tr>\n",
       "\t<tr><th scope=row>20</th><td>41</td><td>M</td><td>24.7</td><td>83</td><td>187</td><td>108.2</td><td>60</td><td>3</td><td>4.5433</td><td>78</td><td>168</td></tr>\n",
       "</tbody>\n",
       "</table>\n"
      ],
      "text/latex": [
       "\\begin{tabular}{r|lllllllllll}\n",
       "  & AGE & SEX & BMI & BP & S1 & S2 & S3 & S4 & S5 & S6 & Y\\\\\n",
       "\\hline\n",
       "\t18 & 68 & F & 27.5 & 111 & 214 & 147 & 39 & 5 & 4.9416 & 91 & 144\\\\\n",
       "\t19 & 38 & M & 25.4 & 84 & 162 & 103 & 42 & 4 & -9999 & 87 & 97\\\\\n",
       "\t20 & 41 & M & 24.7 & 83 & 187 & 108.2 & 60 & 3 & 4.5433 & 78 & 168\\\\\n",
       "\\end{tabular}\n"
      ],
      "text/plain": [
       "   AGE SEX  BMI  BP  S1    S2 S3 S4         S5 S6   Y\n",
       "18  68   F 27.5 111 214 147.0 39  5     4.9416 91 144\n",
       "19  38   M 25.4  84 162 103.0 42  4 -9999.0000 87  97\n",
       "20  41   M 24.7  83 187 108.2 60  3     4.5433 78 168"
      ]
     },
     "execution_count": 37,
     "metadata": {},
     "output_type": "execute_result"
    },
    {
     "data": {
      "text/html": [
       "<ol class=list-inline>\n",
       "\t<li>442</li>\n",
       "\t<li>11</li>\n",
       "</ol>\n"
      ],
      "text/latex": [
       "\\begin{enumerate*}\n",
       "\\item 442\n",
       "\\item 11\n",
       "\\end{enumerate*}\n"
      ],
      "text/markdown": [
       "1. 442\n",
       "2. 11\n",
       "\n",
       "\n"
      ],
      "text/plain": [
       "[1] 442  11"
      ]
     },
     "execution_count": 37,
     "metadata": {},
     "output_type": "execute_result"
    },
    {
     "name": "stdout",
     "output_type": "stream",
     "text": [
      "[1] \"Después:\"\n"
     ]
    },
    {
     "data": {
      "text/html": [
       "<table>\n",
       "<thead><tr><th></th><th scope=col>AGE</th><th scope=col>SEX</th><th scope=col>BMI</th><th scope=col>BP</th><th scope=col>S1</th><th scope=col>S2</th><th scope=col>S3</th><th scope=col>S4</th><th scope=col>S5</th><th scope=col>S6</th><th scope=col>Y</th></tr></thead>\n",
       "<tbody>\n",
       "\t<tr><th scope=row>18</th><td>68</td><td>F</td><td>27.5</td><td>111</td><td>214</td><td>147</td><td>39</td><td>5</td><td>4.9416</td><td>91</td><td>144</td></tr>\n",
       "\t<tr><th scope=row>19</th><td>38</td><td>M</td><td>25.4</td><td>84</td><td>162</td><td>103</td><td>42</td><td>4</td><td>NA</td><td>87</td><td>97</td></tr>\n",
       "\t<tr><th scope=row>20</th><td>41</td><td>M</td><td>24.7</td><td>83</td><td>187</td><td>108.2</td><td>60</td><td>3</td><td>4.5433</td><td>78</td><td>168</td></tr>\n",
       "</tbody>\n",
       "</table>\n"
      ],
      "text/latex": [
       "\\begin{tabular}{r|lllllllllll}\n",
       "  & AGE & SEX & BMI & BP & S1 & S2 & S3 & S4 & S5 & S6 & Y\\\\\n",
       "\\hline\n",
       "\t18 & 68 & F & 27.5 & 111 & 214 & 147 & 39 & 5 & 4.9416 & 91 & 144\\\\\n",
       "\t19 & 38 & M & 25.4 & 84 & 162 & 103 & 42 & 4 & NA & 87 & 97\\\\\n",
       "\t20 & 41 & M & 24.7 & 83 & 187 & 108.2 & 60 & 3 & 4.5433 & 78 & 168\\\\\n",
       "\\end{tabular}\n"
      ],
      "text/plain": [
       "   AGE SEX  BMI  BP  S1    S2 S3 S4     S5 S6   Y\n",
       "18  68   F 27.5 111 214 147.0 39  5 4.9416 91 144\n",
       "19  38   M 25.4  84 162 103.0 42  4     NA 87  97\n",
       "20  41   M 24.7  83 187 108.2 60  3 4.5433 78 168"
      ]
     },
     "execution_count": 37,
     "metadata": {},
     "output_type": "execute_result"
    },
    {
     "name": "stdout",
     "output_type": "stream",
     "text": [
      "[1] \"Dimensiones del nuevo dataframe sin filas con valores NA:\"\n"
     ]
    },
    {
     "data": {
      "text/html": [
       "<ol class=list-inline>\n",
       "\t<li>433</li>\n",
       "\t<li>11</li>\n",
       "</ol>\n"
      ],
      "text/latex": [
       "\\begin{enumerate*}\n",
       "\\item 433\n",
       "\\item 11\n",
       "\\end{enumerate*}\n"
      ],
      "text/markdown": [
       "1. 433\n",
       "2. 11\n",
       "\n",
       "\n"
      ],
      "text/plain": [
       "[1] 433  11"
      ]
     },
     "execution_count": 37,
     "metadata": {},
     "output_type": "execute_result"
    }
   ],
   "source": [
    "# Muestra algunas filas en las que pueden verse algunos valores -9999.00 \n",
    "print(\"Antes:\")\n",
    "data[c(18 : 20), 1 : ncol(data)]\n",
    "dim(data)\n",
    "\n",
    "# Reemplaza los valores -9999.00 por NA \n",
    "data[data == -9999 ] <- NA\n",
    "\n",
    "# Muestra las filas anteriores después de la modificación\n",
    "print(\"Después:\")\n",
    "data[c(18 : 20), 1 : ncol(data)]\n",
    "\n",
    "# Elimina las filas con valores NA y muestra información del nuevo dataframe resultante\n",
    "data <- na.omit(data)\n",
    "print(\"Dimensiones del nuevo dataframe sin filas con valores NA:\")\n",
    "dim(data)"
   ]
  },
  {
   "cell_type": "markdown",
   "metadata": {},
   "source": [
    "## - Ver el tipo de cada una de las variables."
   ]
  },
  {
   "cell_type": "code",
   "execution_count": 38,
   "metadata": {
    "collapsed": false
   },
   "outputs": [
    {
     "name": "stdout",
     "output_type": "stream",
     "text": [
      "'data.frame':\t433 obs. of  11 variables:\n",
      " $ AGE: int  59 48 72 24 50 23 36 66 60 29 ...\n",
      " $ SEX: Factor w/ 2 levels \"F\",\"M\": 1 2 1 2 2 2 1 1 1 2 ...\n",
      " $ BMI: num  32.1 21.6 30.5 25.3 23 22.6 22 26.2 32.1 30 ...\n",
      " $ BP : num  101 87 93 84 101 89 90 114 83 85 ...\n",
      " $ S1 : int  157 183 156 198 192 139 160 255 179 180 ...\n",
      " $ S2 : num  93.2 103.2 93.6 131.4 125.4 ...\n",
      " $ S3 : num  38 70 41 40 52 61 50 56 42 43 ...\n",
      " $ S4 : num  4 3 4 5 4 2 3 4.55 4 4 ...\n",
      " $ S5 : num  4.86 3.89 4.67 4.89 4.29 ...\n",
      " $ S6 : int  87 69 85 89 80 68 82 92 94 88 ...\n",
      " $ Y  : int  151 75 141 206 135 97 138 63 110 310 ...\n",
      " - attr(*, \"na.action\")=Class 'omit'  Named int [1:9] 19 25 74 86 342 384 421 433 440\n",
      "  .. ..- attr(*, \"names\")= chr [1:9] \"19\" \"25\" \"74\" \"86\" ...\n"
     ]
    }
   ],
   "source": [
    "str(data)"
   ]
  },
  {
   "cell_type": "markdown",
   "metadata": {},
   "source": [
    "## - Realizar un análisis estadı́stico de las variables: calcular la media, varianza, rangos, etc. ¿Tienen las distintas variables rangos muy diferentes?."
   ]
  },
  {
   "cell_type": "code",
   "execution_count": 39,
   "metadata": {
    "collapsed": false
   },
   "outputs": [
    {
     "data": {
      "text/plain": [
       "      AGE        SEX          BMI              BP               S1       \n",
       " Min.   :19.00   F:203   Min.   :18.00   Min.   : 62.00   Min.   : 97.0  \n",
       " 1st Qu.:38.00   M:230   1st Qu.:23.10   1st Qu.: 84.00   1st Qu.:164.0  \n",
       " Median :50.00           Median :25.70   Median : 93.00   Median :186.0  \n",
       " Mean   :48.48           Mean   :26.35   Mean   : 94.65   Mean   :189.3  \n",
       " 3rd Qu.:59.00           3rd Qu.:29.20   3rd Qu.:105.00   3rd Qu.:210.0  \n",
       " Max.   :79.00           Max.   :42.20   Max.   :133.00   Max.   :301.0  \n",
       "       S2              S3              S4              S5       \n",
       " Min.   : 41.6   Min.   :22.00   Min.   :2.000   Min.   :3.258  \n",
       " 1st Qu.: 95.4   1st Qu.:40.00   1st Qu.:3.000   1st Qu.:4.277  \n",
       " Median :113.0   Median :48.00   Median :4.000   Median :4.635  \n",
       " Mean   :115.4   Mean   :49.86   Mean   :4.071   Mean   :4.645  \n",
       " 3rd Qu.:134.2   3rd Qu.:58.00   3rd Qu.:5.000   3rd Qu.:4.997  \n",
       " Max.   :242.4   Max.   :99.00   Max.   :9.090   Max.   :6.107  \n",
       "       S6               Y        \n",
       " Min.   : 58.00   Min.   : 25.0  \n",
       " 1st Qu.: 83.00   1st Qu.: 85.0  \n",
       " Median : 91.00   Median :140.0  \n",
       " Mean   : 91.25   Mean   :152.2  \n",
       " 3rd Qu.: 98.00   3rd Qu.:214.0  \n",
       " Max.   :124.00   Max.   :346.0  "
      ]
     },
     "execution_count": 39,
     "metadata": {},
     "output_type": "execute_result"
    },
    {
     "name": "stdout",
     "output_type": "stream",
     "text": [
      "[1] \"Desviación típica:\"\n"
     ]
    },
    {
     "data": {
      "text/html": [
       "<dl class=dl-horizontal>\n",
       "\t<dt>AGE</dt>\n",
       "\t\t<dd>13.1712364943272</dd>\n",
       "\t<dt>BMI</dt>\n",
       "\t\t<dd>4.42820307164883</dd>\n",
       "\t<dt>BP</dt>\n",
       "\t\t<dd>13.9364284993168</dd>\n",
       "\t<dt>S1</dt>\n",
       "\t\t<dd>34.789296672193</dd>\n",
       "\t<dt>S2</dt>\n",
       "\t\t<dd>30.6081828868624</dd>\n",
       "\t<dt>S3</dt>\n",
       "\t\t<dd>13.036748843842</dd>\n",
       "\t<dt>S4</dt>\n",
       "\t\t<dd>1.29980298688747</dd>\n",
       "\t<dt>S5</dt>\n",
       "\t\t<dd>0.525124433374918</dd>\n",
       "\t<dt>S6</dt>\n",
       "\t\t<dd>11.473909852564</dd>\n",
       "\t<dt>Y</dt>\n",
       "\t\t<dd>77.5470653481539</dd>\n",
       "</dl>\n"
      ],
      "text/latex": [
       "\\begin{description*}\n",
       "\\item[AGE] 13.1712364943272\n",
       "\\item[BMI] 4.42820307164883\n",
       "\\item[BP] 13.9364284993168\n",
       "\\item[S1] 34.789296672193\n",
       "\\item[S2] 30.6081828868624\n",
       "\\item[S3] 13.036748843842\n",
       "\\item[S4] 1.29980298688747\n",
       "\\item[S5] 0.525124433374918\n",
       "\\item[S6] 11.473909852564\n",
       "\\item[Y] 77.5470653481539\n",
       "\\end{description*}\n"
      ],
      "text/markdown": [
       "AGE\n",
       ":   13.1712364943272BMI\n",
       ":   4.42820307164883BP\n",
       ":   13.9364284993168S1\n",
       ":   34.789296672193S2\n",
       ":   30.6081828868624S3\n",
       ":   13.036748843842S4\n",
       ":   1.29980298688747S5\n",
       ":   0.525124433374918S6\n",
       ":   11.473909852564Y\n",
       ":   77.5470653481539\n",
       "\n"
      ],
      "text/plain": [
       "       AGE        BMI         BP         S1         S2         S3         S4 \n",
       "13.1712365  4.4282031 13.9364285 34.7892967 30.6081829 13.0367488  1.2998030 \n",
       "        S5         S6          Y \n",
       " 0.5251244 11.4739099 77.5470653 "
      ]
     },
     "execution_count": 39,
     "metadata": {},
     "output_type": "execute_result"
    },
    {
     "name": "stdout",
     "output_type": "stream",
     "text": [
      "[1] \"Varianza:\"\n"
     ]
    },
    {
     "data": {
      "text/html": [
       "<dl class=dl-horizontal>\n",
       "\t<dt>AGE</dt>\n",
       "\t\t<dd>173.481470789496</dd>\n",
       "\t<dt>BMI</dt>\n",
       "\t\t<dd>19.6089824437602</dd>\n",
       "\t<dt>BP</dt>\n",
       "\t\t<dd>194.224039316568</dd>\n",
       "\t<dt>S1</dt>\n",
       "\t\t<dd>1210.29516294586</dd>\n",
       "\t<dt>S2</dt>\n",
       "\t\t<dd>936.860859635617</dd>\n",
       "\t<dt>S3</dt>\n",
       "\t\t<dd>169.956820417415</dd>\n",
       "\t<dt>S4</dt>\n",
       "\t\t<dd>1.68948780472158</dd>\n",
       "\t<dt>S5</dt>\n",
       "\t\t<dd>0.275755670527329</dd>\n",
       "\t<dt>S6</dt>\n",
       "\t\t<dd>131.650607304764</dd>\n",
       "\t<dt>Y</dt>\n",
       "\t\t<dd>6013.54734411085</dd>\n",
       "</dl>\n"
      ],
      "text/latex": [
       "\\begin{description*}\n",
       "\\item[AGE] 173.481470789496\n",
       "\\item[BMI] 19.6089824437602\n",
       "\\item[BP] 194.224039316568\n",
       "\\item[S1] 1210.29516294586\n",
       "\\item[S2] 936.860859635617\n",
       "\\item[S3] 169.956820417415\n",
       "\\item[S4] 1.68948780472158\n",
       "\\item[S5] 0.275755670527329\n",
       "\\item[S6] 131.650607304764\n",
       "\\item[Y] 6013.54734411085\n",
       "\\end{description*}\n"
      ],
      "text/markdown": [
       "AGE\n",
       ":   173.481470789496BMI\n",
       ":   19.6089824437602BP\n",
       ":   194.224039316568S1\n",
       ":   1210.29516294586S2\n",
       ":   936.860859635617S3\n",
       ":   169.956820417415S4\n",
       ":   1.68948780472158S5\n",
       ":   0.275755670527329S6\n",
       ":   131.650607304764Y\n",
       ":   6013.54734411085\n",
       "\n"
      ],
      "text/plain": [
       "         AGE          BMI           BP           S1           S2           S3 \n",
       " 173.4814708   19.6089824  194.2240393 1210.2951629  936.8608596  169.9568204 \n",
       "          S4           S5           S6            Y \n",
       "   1.6894878    0.2757557  131.6506073 6013.5473441 "
      ]
     },
     "execution_count": 39,
     "metadata": {},
     "output_type": "execute_result"
    }
   ],
   "source": [
    "summary(data)\n",
    "print(\"Desviación típica:\")\n",
    "apply(data[-2], 2, sd)\n",
    "print(\"Varianza:\")\n",
    "apply(data[-2], 2, var)"
   ]
  },
  {
   "cell_type": "markdown",
   "metadata": {},
   "source": [
    "Las variables muestran rangos de valores muy dispares. Destacan, por un lado, las variables S4 y S5 como las de menor rango y valores menores. Por otro lado, la variable Y es la que presenta mayor amplitud de rango."
   ]
  },
  {
   "cell_type": "markdown",
   "metadata": {},
   "source": [
    "## - Hacer un gráfico de cajas (boxplot) dónde se pueda ver la información anterior de forma gráfica."
   ]
  },
  {
   "cell_type": "code",
   "execution_count": 40,
   "metadata": {
    "collapsed": false
   },
   "outputs": [
    {
     "data": {
      "image/png": "[encoded data removed]",
      "image/svg+xml": [
       "<?xml version=\"1.0\" encoding=\"UTF-8\"?>\n",
       "<svg xmlns=\"http://www.w3.org/2000/svg\" xmlns:xlink=\"http://www.w3.org/1999/xlink\" width=\"504pt\" height=\"504pt\" viewBox=\"0 0 504 504\" version=\"1.1\">\n",
       "<defs>\n",
       "<g>\n",
       "<symbol overflow=\"visible\" id=\"glyph0-0\">\n",
       "<path style=\"stroke:none;\" d=\"\"/>\n",
       "</symbol>\n",
       "<symbol overflow=\"visible\" id=\"glyph0-1\">\n",
       "<path style=\"stroke:none;\" d=\"M 5.6875 -2.625 L 6.59375 0 L 7.84375 0 L 4.765625 -8.75 L 3.328125 -8.75 L 0.203125 0 L 1.390625 0 L 2.3125 -2.625 Z M 5.375 -3.5625 L 2.59375 -3.5625 L 4.03125 -7.546875 Z \"/>\n",
       "</symbol>\n",
       "<symbol overflow=\"visible\" id=\"glyph0-2\">\n",
       "<path style=\"stroke:none;\" d=\"M 8.515625 -4.625 L 4.859375 -4.625 L 4.859375 -3.640625 L 7.53125 -3.640625 L 7.53125 -3.390625 C 7.53125 -1.84375 6.375 -0.703125 4.78125 -0.703125 C 3.890625 -0.703125 3.078125 -1.03125 2.5625 -1.59375 C 1.984375 -2.21875 1.640625 -3.265625 1.640625 -4.34375 C 1.640625 -6.484375 2.875 -7.90625 4.71875 -7.90625 C 6.046875 -7.90625 7.015625 -7.21875 7.25 -6.09375 L 8.390625 -6.09375 C 8.078125 -7.875 6.734375 -8.890625 4.734375 -8.890625 C 3.65625 -8.890625 2.796875 -8.609375 2.109375 -8.046875 C 1.109375 -7.21875 0.53125 -5.859375 0.53125 -4.28125 C 0.53125 -1.59375 2.171875 0.28125 4.53125 0.28125 C 5.71875 0.28125 6.671875 -0.171875 7.53125 -1.109375 L 7.796875 0.046875 L 8.515625 0.046875 Z \"/>\n",
       "</symbol>\n",
       "<symbol overflow=\"visible\" id=\"glyph0-3\">\n",
       "<path style=\"stroke:none;\" d=\"M 2.203125 -3.984375 L 6.953125 -3.984375 L 6.953125 -4.96875 L 2.203125 -4.96875 L 2.203125 -7.765625 L 7.140625 -7.765625 L 7.140625 -8.75 L 1.078125 -8.75 L 1.078125 0 L 7.359375 0 L 7.359375 -0.984375 L 2.203125 -0.984375 Z \"/>\n",
       "</symbol>\n",
       "<symbol overflow=\"visible\" id=\"glyph0-4\">\n",
       "<path style=\"stroke:none;\" d=\"M 0.953125 0 L 4.890625 0 C 5.71875 0 6.34375 -0.234375 6.796875 -0.734375 C 7.234375 -1.1875 7.46875 -1.8125 7.46875 -2.5 C 7.46875 -3.546875 7 -4.1875 5.875 -4.625 C 6.671875 -4.984375 7.09375 -5.640625 7.09375 -6.53125 C 7.09375 -7.15625 6.859375 -7.734375 6.390625 -8.140625 C 5.9375 -8.5625 5.34375 -8.75 4.5 -8.75 L 0.953125 -8.75 Z M 2.0625 -4.984375 L 2.0625 -7.765625 L 4.21875 -7.765625 C 4.84375 -7.765625 5.203125 -7.6875 5.5 -7.453125 C 5.8125 -7.21875 5.96875 -6.859375 5.96875 -6.375 C 5.96875 -5.90625 5.8125 -5.53125 5.5 -5.296875 C 5.203125 -5.0625 4.84375 -4.984375 4.21875 -4.984375 Z M 2.0625 -0.984375 L 2.0625 -4 L 4.78125 -4 C 5.328125 -4 5.6875 -3.859375 5.953125 -3.578125 C 6.21875 -3.296875 6.359375 -2.921875 6.359375 -2.484375 C 6.359375 -2.0625 6.21875 -1.6875 5.953125 -1.40625 C 5.6875 -1.109375 5.328125 -0.984375 4.78125 -0.984375 Z \"/>\n",
       "</symbol>\n",
       "<symbol overflow=\"visible\" id=\"glyph0-5\">\n",
       "<path style=\"stroke:none;\" d=\"M 5.609375 0 L 8.078125 -7.328125 L 8.078125 0 L 9.125 0 L 9.125 -8.75 L 7.578125 -8.75 L 5.046875 -1.125 L 2.453125 -8.75 L 0.90625 -8.75 L 0.90625 0 L 1.953125 0 L 1.953125 -7.328125 L 4.4375 0 Z \"/>\n",
       "</symbol>\n",
       "<symbol overflow=\"visible\" id=\"glyph0-6\">\n",
       "<path style=\"stroke:none;\" d=\"M 2.328125 -8.75 L 1.203125 -8.75 L 1.203125 0 L 2.328125 0 Z \"/>\n",
       "</symbol>\n",
       "<symbol overflow=\"visible\" id=\"glyph0-7\">\n",
       "<path style=\"stroke:none;\" d=\"M 2.203125 -3.703125 L 4.953125 -3.703125 C 5.640625 -3.703125 6.1875 -3.90625 6.640625 -4.328125 C 7.171875 -4.8125 7.40625 -5.375 7.40625 -6.1875 C 7.40625 -7.828125 6.4375 -8.75 4.703125 -8.75 L 1.09375 -8.75 L 1.09375 0 L 2.203125 0 Z M 2.203125 -4.6875 L 2.203125 -7.765625 L 4.53125 -7.765625 C 5.609375 -7.765625 6.234375 -7.1875 6.234375 -6.234375 C 6.234375 -5.265625 5.609375 -4.6875 4.53125 -4.6875 Z \"/>\n",
       "</symbol>\n",
       "<symbol overflow=\"visible\" id=\"glyph0-8\">\n",
       "<path style=\"stroke:none;\" d=\"M 7.15625 -6.1875 C 7.140625 -7.890625 5.96875 -8.890625 3.953125 -8.890625 C 2.03125 -8.890625 0.84375 -7.90625 0.84375 -6.328125 C 0.84375 -5.25 1.40625 -4.578125 2.5625 -4.28125 L 4.734375 -3.703125 C 5.828125 -3.421875 6.34375 -2.96875 6.34375 -2.296875 C 6.34375 -1.828125 6.078125 -1.34375 5.71875 -1.078125 C 5.359375 -0.84375 4.8125 -0.703125 4.109375 -0.703125 C 3.15625 -0.703125 2.515625 -0.9375 2.09375 -1.4375 C 1.765625 -1.828125 1.625 -2.25 1.625 -2.78125 L 0.578125 -2.78125 C 0.59375 -1.984375 0.75 -1.453125 1.09375 -0.96875 C 1.6875 -0.15625 2.703125 0.28125 4.03125 0.28125 C 5.078125 0.28125 5.921875 0.03125 6.484375 -0.390625 C 7.078125 -0.859375 7.453125 -1.640625 7.453125 -2.40625 C 7.453125 -3.484375 6.78125 -4.265625 5.59375 -4.59375 L 3.390625 -5.1875 C 2.34375 -5.46875 1.953125 -5.8125 1.953125 -6.484375 C 1.953125 -7.375 2.734375 -7.953125 3.90625 -7.953125 C 5.296875 -7.953125 6.078125 -7.3125 6.09375 -6.1875 Z \"/>\n",
       "</symbol>\n",
       "<symbol overflow=\"visible\" id=\"glyph0-9\">\n",
       "<path style=\"stroke:none;\" d=\"M 3.109375 -6.0625 L 3.109375 0 L 4.15625 0 L 4.15625 -8.515625 L 3.46875 -8.515625 C 3.09375 -7.203125 2.859375 -7.015625 1.21875 -6.8125 L 1.21875 -6.0625 Z \"/>\n",
       "</symbol>\n",
       "<symbol overflow=\"visible\" id=\"glyph0-10\">\n",
       "<path style=\"stroke:none;\" d=\"M 6.078125 -1.046875 L 1.59375 -1.046875 C 1.703125 -1.734375 2.09375 -2.1875 3.125 -2.796875 L 4.328125 -3.4375 C 5.515625 -4.09375 6.125 -4.96875 6.125 -6.015625 C 6.125 -6.71875 5.84375 -7.375 5.34375 -7.84375 C 4.84375 -8.296875 4.21875 -8.515625 3.40625 -8.515625 C 2.328125 -8.515625 1.53125 -8.125 1.0625 -7.40625 C 0.75 -6.953125 0.625 -6.421875 0.59375 -5.5625 L 1.65625 -5.5625 C 1.6875 -6.125 1.765625 -6.484375 1.90625 -6.75 C 2.1875 -7.265625 2.734375 -7.578125 3.375 -7.578125 C 4.328125 -7.578125 5.046875 -6.90625 5.046875 -5.984375 C 5.046875 -5.3125 4.65625 -4.734375 3.90625 -4.3125 L 2.796875 -3.6875 C 1.015625 -2.671875 0.5 -1.875 0.40625 0 L 6.078125 0 Z \"/>\n",
       "</symbol>\n",
       "<symbol overflow=\"visible\" id=\"glyph0-11\">\n",
       "<path style=\"stroke:none;\" d=\"M 2.65625 -3.90625 L 3.234375 -3.90625 C 4.390625 -3.90625 4.984375 -3.390625 4.984375 -2.359375 C 4.984375 -1.296875 4.328125 -0.65625 3.234375 -0.65625 C 2.078125 -0.65625 1.515625 -1.234375 1.4375 -2.46875 L 0.390625 -2.46875 C 0.4375 -1.78125 0.546875 -1.34375 0.75 -0.953125 C 1.1875 -0.140625 2.03125 0.28125 3.1875 0.28125 C 4.9375 0.28125 6.078125 -0.765625 6.078125 -2.375 C 6.078125 -3.453125 5.65625 -4.0625 4.625 -4.40625 C 5.421875 -4.71875 5.8125 -5.3125 5.8125 -6.171875 C 5.8125 -7.625 4.84375 -8.515625 3.234375 -8.515625 C 1.515625 -8.515625 0.59375 -7.578125 0.5625 -5.765625 L 1.625 -5.765625 C 1.625 -6.28125 1.6875 -6.5625 1.8125 -6.828125 C 2.046875 -7.296875 2.578125 -7.578125 3.234375 -7.578125 C 4.171875 -7.578125 4.734375 -7.03125 4.734375 -6.125 C 4.734375 -5.53125 4.53125 -5.171875 4.0625 -4.984375 C 3.765625 -4.859375 3.390625 -4.8125 2.65625 -4.796875 Z \"/>\n",
       "</symbol>\n",
       "<symbol overflow=\"visible\" id=\"glyph0-12\">\n",
       "<path style=\"stroke:none;\" d=\"M 3.921875 -2.046875 L 3.921875 0 L 4.984375 0 L 4.984375 -2.046875 L 6.234375 -2.046875 L 6.234375 -2.984375 L 4.984375 -2.984375 L 4.984375 -8.515625 L 4.203125 -8.515625 L 0.34375 -3.15625 L 0.34375 -2.046875 Z M 3.921875 -2.984375 L 1.265625 -2.984375 L 3.921875 -6.703125 Z \"/>\n",
       "</symbol>\n",
       "<symbol overflow=\"visible\" id=\"glyph0-13\">\n",
       "<path style=\"stroke:none;\" d=\"M 5.71875 -8.515625 L 1.3125 -8.515625 L 0.6875 -3.875 L 1.65625 -3.875 C 2.140625 -4.46875 2.5625 -4.671875 3.21875 -4.671875 C 4.359375 -4.671875 5.078125 -3.890625 5.078125 -2.625 C 5.078125 -1.40625 4.375 -0.65625 3.21875 -0.65625 C 2.296875 -0.65625 1.734375 -1.125 1.46875 -2.09375 L 0.421875 -2.09375 C 0.5625 -1.390625 0.6875 -1.0625 0.9375 -0.75 C 1.421875 -0.09375 2.28125 0.28125 3.234375 0.28125 C 4.953125 0.28125 6.15625 -0.96875 6.15625 -2.765625 C 6.15625 -4.453125 5.046875 -5.609375 3.40625 -5.609375 C 2.8125 -5.609375 2.328125 -5.453125 1.84375 -5.09375 L 2.171875 -7.46875 L 5.71875 -7.46875 Z \"/>\n",
       "</symbol>\n",
       "<symbol overflow=\"visible\" id=\"glyph0-14\">\n",
       "<path style=\"stroke:none;\" d=\"M 5.96875 -6.28125 C 5.765625 -7.6875 4.859375 -8.515625 3.5625 -8.515625 C 2.625 -8.515625 1.78125 -8.046875 1.28125 -7.296875 C 0.75 -6.46875 0.515625 -5.421875 0.515625 -3.875 C 0.515625 -2.453125 0.734375 -1.53125 1.234375 -0.78125 C 1.6875 -0.09375 2.4375 0.28125 3.375 0.28125 C 4.984375 0.28125 6.15625 -0.921875 6.15625 -2.59375 C 6.15625 -4.171875 5.078125 -5.296875 3.546875 -5.296875 C 2.71875 -5.296875 2.046875 -4.96875 1.59375 -4.34375 C 1.609375 -6.421875 2.28125 -7.578125 3.484375 -7.578125 C 4.234375 -7.578125 4.75 -7.109375 4.921875 -6.28125 Z M 3.421875 -4.359375 C 4.4375 -4.359375 5.078125 -3.640625 5.078125 -2.515625 C 5.078125 -1.4375 4.359375 -0.65625 3.390625 -0.65625 C 2.40625 -0.65625 1.65625 -1.46875 1.65625 -2.5625 C 1.65625 -3.625 2.375 -4.359375 3.421875 -4.359375 Z \"/>\n",
       "</symbol>\n",
       "<symbol overflow=\"visible\" id=\"glyph0-15\">\n",
       "<path style=\"stroke:none;\" d=\"M 4.640625 -3.4375 L 7.9375 -8.75 L 6.59375 -8.75 L 4.109375 -4.484375 L 1.53125 -8.75 L 0.15625 -8.75 L 3.53125 -3.4375 L 3.53125 0 L 4.640625 0 Z \"/>\n",
       "</symbol>\n",
       "<symbol overflow=\"visible\" id=\"glyph1-0\">\n",
       "<path style=\"stroke:none;\" d=\"\"/>\n",
       "</symbol>\n",
       "<symbol overflow=\"visible\" id=\"glyph1-1\">\n",
       "<path style=\"stroke:none;\" d=\"M -8.515625 -3.296875 C -8.515625 -2.515625 -8.15625 -1.78125 -7.578125 -1.34375 C -6.828125 -0.796875 -5.6875 -0.515625 -4.109375 -0.515625 C -1.25 -0.515625 0.28125 -1.46875 0.28125 -3.296875 C 0.28125 -5.09375 -1.25 -6.078125 -4.046875 -6.078125 C -5.703125 -6.078125 -6.796875 -5.8125 -7.578125 -5.25 C -8.171875 -4.8125 -8.515625 -4.109375 -8.515625 -3.296875 Z M -7.578125 -3.296875 C -7.578125 -4.4375 -6.421875 -5 -4.140625 -5 C -1.734375 -5 -0.59375 -4.453125 -0.59375 -3.28125 C -0.59375 -2.15625 -1.78125 -1.59375 -4.109375 -1.59375 C -6.4375 -1.59375 -7.578125 -2.15625 -7.578125 -3.296875 Z \"/>\n",
       "</symbol>\n",
       "<symbol overflow=\"visible\" id=\"glyph1-2\">\n",
       "<path style=\"stroke:none;\" d=\"M -8.515625 -5.71875 L -8.515625 -1.3125 L -3.875 -0.6875 L -3.875 -1.65625 C -4.46875 -2.140625 -4.671875 -2.5625 -4.671875 -3.21875 C -4.671875 -4.359375 -3.890625 -5.078125 -2.625 -5.078125 C -1.40625 -5.078125 -0.65625 -4.375 -0.65625 -3.21875 C -0.65625 -2.296875 -1.125 -1.734375 -2.09375 -1.46875 L -2.09375 -0.421875 C -1.390625 -0.5625 -1.0625 -0.6875 -0.75 -0.9375 C -0.09375 -1.421875 0.28125 -2.28125 0.28125 -3.234375 C 0.28125 -4.953125 -0.96875 -6.15625 -2.765625 -6.15625 C -4.453125 -6.15625 -5.609375 -5.046875 -5.609375 -3.40625 C -5.609375 -2.8125 -5.453125 -2.328125 -5.09375 -1.84375 L -7.46875 -2.171875 L -7.46875 -5.71875 Z \"/>\n",
       "</symbol>\n",
       "<symbol overflow=\"visible\" id=\"glyph1-3\">\n",
       "<path style=\"stroke:none;\" d=\"M -6.0625 -3.109375 L 0 -3.109375 L 0 -4.15625 L -8.515625 -4.15625 L -8.515625 -3.46875 C -7.203125 -3.09375 -7.015625 -2.859375 -6.8125 -1.21875 L -6.0625 -1.21875 Z \"/>\n",
       "</symbol>\n",
       "<symbol overflow=\"visible\" id=\"glyph1-4\">\n",
       "<path style=\"stroke:none;\" d=\"M -1.046875 -6.078125 L -1.046875 -1.59375 C -1.734375 -1.703125 -2.1875 -2.09375 -2.796875 -3.125 L -3.4375 -4.328125 C -4.09375 -5.515625 -4.96875 -6.125 -6.015625 -6.125 C -6.71875 -6.125 -7.375 -5.84375 -7.84375 -5.34375 C -8.296875 -4.84375 -8.515625 -4.21875 -8.515625 -3.40625 C -8.515625 -2.328125 -8.125 -1.53125 -7.40625 -1.0625 C -6.953125 -0.75 -6.421875 -0.625 -5.5625 -0.59375 L -5.5625 -1.65625 C -6.125 -1.6875 -6.484375 -1.765625 -6.75 -1.90625 C -7.265625 -2.1875 -7.578125 -2.734375 -7.578125 -3.375 C -7.578125 -4.328125 -6.90625 -5.046875 -5.984375 -5.046875 C -5.3125 -5.046875 -4.734375 -4.65625 -4.3125 -3.90625 L -3.6875 -2.796875 C -2.671875 -1.015625 -1.875 -0.5 0 -0.40625 L 0 -6.078125 Z \"/>\n",
       "</symbol>\n",
       "<symbol overflow=\"visible\" id=\"glyph1-5\">\n",
       "<path style=\"stroke:none;\" d=\"M -3.90625 -2.65625 L -3.90625 -3.234375 C -3.90625 -4.390625 -3.390625 -4.984375 -2.359375 -4.984375 C -1.296875 -4.984375 -0.65625 -4.328125 -0.65625 -3.234375 C -0.65625 -2.078125 -1.234375 -1.515625 -2.46875 -1.4375 L -2.46875 -0.390625 C -1.78125 -0.4375 -1.34375 -0.546875 -0.953125 -0.75 C -0.140625 -1.1875 0.28125 -2.03125 0.28125 -3.1875 C 0.28125 -4.9375 -0.765625 -6.078125 -2.375 -6.078125 C -3.453125 -6.078125 -4.0625 -5.65625 -4.40625 -4.625 C -4.71875 -5.421875 -5.3125 -5.8125 -6.171875 -5.8125 C -7.625 -5.8125 -8.515625 -4.84375 -8.515625 -3.234375 C -8.515625 -1.515625 -7.578125 -0.59375 -5.765625 -0.5625 L -5.765625 -1.625 C -6.28125 -1.625 -6.5625 -1.6875 -6.828125 -1.8125 C -7.296875 -2.046875 -7.578125 -2.578125 -7.578125 -3.234375 C -7.578125 -4.171875 -7.03125 -4.734375 -6.125 -4.734375 C -5.53125 -4.734375 -5.171875 -4.53125 -4.984375 -4.0625 C -4.859375 -3.765625 -4.8125 -3.390625 -4.796875 -2.65625 Z \"/>\n",
       "</symbol>\n",
       "</g>\n",
       "</defs>\n",
       "<g id=\"surface195\">\n",
       "<rect x=\"0\" y=\"0\" width=\"504\" height=\"504\" style=\"fill:rgb(100%,100%,100%);fill-opacity:1;stroke:none;\"/>\n",
       "<path style=\"fill:none;stroke-width:2.25;stroke-linecap:butt;stroke-linejoin:round;stroke:rgb(0%,0%,0%);stroke-opacity:1;stroke-miterlimit:10;\" d=\"M 78.238281 368.800781 L 108.960938 368.800781 \"/>\n",
       "<path style=\"fill:none;stroke-width:0.75;stroke-linecap:round;stroke-linejoin:round;stroke:rgb(0%,0%,0%);stroke-opacity:1;stroke-dasharray:3,3;stroke-miterlimit:10;\" d=\"M 93.601562 399.800781 L 93.601562 380.800781 \"/>\n",
       "<path style=\"fill:none;stroke-width:0.75;stroke-linecap:round;stroke-linejoin:round;stroke:rgb(0%,0%,0%);stroke-opacity:1;stroke-dasharray:3,3;stroke-miterlimit:10;\" d=\"M 93.601562 339.800781 L 93.601562 359.800781 \"/>\n",
       "<path style=\"fill:none;stroke-width:0.75;stroke-linecap:round;stroke-linejoin:round;stroke:rgb(0%,0%,0%);stroke-opacity:1;stroke-miterlimit:10;\" d=\"M 85.921875 399.800781 L 101.28125 399.800781 \"/>\n",
       "<path style=\"fill:none;stroke-width:0.75;stroke-linecap:round;stroke-linejoin:round;stroke:rgb(0%,0%,0%);stroke-opacity:1;stroke-miterlimit:10;\" d=\"M 85.921875 339.800781 L 101.28125 339.800781 \"/>\n",
       "<path style=\"fill:none;stroke-width:0.75;stroke-linecap:round;stroke-linejoin:round;stroke:rgb(0%,0%,0%);stroke-opacity:1;stroke-miterlimit:10;\" d=\"M 78.238281 380.800781 L 108.960938 380.800781 L 108.960938 359.800781 L 78.238281 359.800781 L 78.238281 380.800781 \"/>\n",
       "<path style=\"fill:none;stroke-width:2.25;stroke-linecap:butt;stroke-linejoin:round;stroke:rgb(0%,0%,0%);stroke-opacity:1;stroke-miterlimit:10;\" d=\"M 116.640625 393.101562 L 147.359375 393.101562 \"/>\n",
       "<path style=\"fill:none;stroke-width:0.75;stroke-linecap:round;stroke-linejoin:round;stroke:rgb(0%,0%,0%);stroke-opacity:1;stroke-dasharray:3,3;stroke-miterlimit:10;\" d=\"M 132 400.800781 L 132 395.699219 \"/>\n",
       "<path style=\"fill:none;stroke-width:0.75;stroke-linecap:round;stroke-linejoin:round;stroke:rgb(0%,0%,0%);stroke-opacity:1;stroke-dasharray:3,3;stroke-miterlimit:10;\" d=\"M 132 380.5 L 132 389.601562 \"/>\n",
       "<path style=\"fill:none;stroke-width:0.75;stroke-linecap:round;stroke-linejoin:round;stroke:rgb(0%,0%,0%);stroke-opacity:1;stroke-miterlimit:10;\" d=\"M 124.320312 400.800781 L 139.679688 400.800781 \"/>\n",
       "<path style=\"fill:none;stroke-width:0.75;stroke-linecap:round;stroke-linejoin:round;stroke:rgb(0%,0%,0%);stroke-opacity:1;stroke-miterlimit:10;\" d=\"M 124.320312 380.5 L 139.679688 380.5 \"/>\n",
       "<path style=\"fill:none;stroke-width:0.75;stroke-linecap:round;stroke-linejoin:round;stroke:rgb(0%,0%,0%);stroke-opacity:1;stroke-miterlimit:10;\" d=\"M 116.640625 395.699219 L 147.359375 395.699219 L 147.359375 389.601562 L 116.640625 389.601562 L 116.640625 395.699219 \"/>\n",
       "<path style=\"fill:none;stroke-width:0.75;stroke-linecap:round;stroke-linejoin:round;stroke:rgb(0%,0%,0%);stroke-opacity:1;stroke-miterlimit:10;\" d=\"M 134.699219 377.5 C 134.699219 381.101562 129.300781 381.101562 129.300781 377.5 C 129.300781 373.898438 134.699219 373.898438 134.699219 377.5 \"/>\n",
       "<path style=\"fill:none;stroke-width:0.75;stroke-linecap:round;stroke-linejoin:round;stroke:rgb(0%,0%,0%);stroke-opacity:1;stroke-miterlimit:10;\" d=\"M 134.699219 379.699219 C 134.699219 383.300781 129.300781 383.300781 129.300781 379.699219 C 129.300781 376.101562 134.699219 376.101562 134.699219 379.699219 \"/>\n",
       "<path style=\"fill:none;stroke-width:0.75;stroke-linecap:round;stroke-linejoin:round;stroke:rgb(0%,0%,0%);stroke-opacity:1;stroke-miterlimit:10;\" d=\"M 134.699219 376.601562 C 134.699219 380.199219 129.300781 380.199219 129.300781 376.601562 C 129.300781 373 134.699219 373 134.699219 376.601562 \"/>\n",
       "<path style=\"fill:none;stroke-width:2.25;stroke-linecap:butt;stroke-linejoin:round;stroke:rgb(0%,0%,0%);stroke-opacity:1;stroke-miterlimit:10;\" d=\"M 155.039062 325.800781 L 185.761719 325.800781 \"/>\n",
       "<path style=\"fill:none;stroke-width:0.75;stroke-linecap:round;stroke-linejoin:round;stroke:rgb(0%,0%,0%);stroke-opacity:1;stroke-dasharray:3,3;stroke-miterlimit:10;\" d=\"M 170.398438 356.800781 L 170.398438 334.800781 \"/>\n",
       "<path style=\"fill:none;stroke-width:0.75;stroke-linecap:round;stroke-linejoin:round;stroke:rgb(0%,0%,0%);stroke-opacity:1;stroke-dasharray:3,3;stroke-miterlimit:10;\" d=\"M 170.398438 285.800781 L 170.398438 313.800781 \"/>\n",
       "<path style=\"fill:none;stroke-width:0.75;stroke-linecap:round;stroke-linejoin:round;stroke:rgb(0%,0%,0%);stroke-opacity:1;stroke-miterlimit:10;\" d=\"M 162.71875 356.800781 L 178.078125 356.800781 \"/>\n",
       "<path style=\"fill:none;stroke-width:0.75;stroke-linecap:round;stroke-linejoin:round;stroke:rgb(0%,0%,0%);stroke-opacity:1;stroke-miterlimit:10;\" d=\"M 162.71875 285.800781 L 178.078125 285.800781 \"/>\n",
       "<path style=\"fill:none;stroke-width:0.75;stroke-linecap:round;stroke-linejoin:round;stroke:rgb(0%,0%,0%);stroke-opacity:1;stroke-miterlimit:10;\" d=\"M 155.039062 334.800781 L 185.761719 334.800781 L 185.761719 313.800781 L 155.039062 313.800781 L 155.039062 334.800781 \"/>\n",
       "<path style=\"fill:none;stroke-width:2.25;stroke-linecap:butt;stroke-linejoin:round;stroke:rgb(0%,0%,0%);stroke-opacity:1;stroke-miterlimit:10;\" d=\"M 193.441406 232.800781 L 224.160156 232.800781 \"/>\n",
       "<path style=\"fill:none;stroke-width:0.75;stroke-linecap:round;stroke-linejoin:round;stroke:rgb(0%,0%,0%);stroke-opacity:1;stroke-dasharray:3,3;stroke-miterlimit:10;\" d=\"M 208.800781 321.800781 L 208.800781 254.800781 \"/>\n",
       "<path style=\"fill:none;stroke-width:0.75;stroke-linecap:round;stroke-linejoin:round;stroke:rgb(0%,0%,0%);stroke-opacity:1;stroke-dasharray:3,3;stroke-miterlimit:10;\" d=\"M 208.800781 142.800781 L 208.800781 208.800781 \"/>\n",
       "<path style=\"fill:none;stroke-width:0.75;stroke-linecap:round;stroke-linejoin:round;stroke:rgb(0%,0%,0%);stroke-opacity:1;stroke-miterlimit:10;\" d=\"M 201.121094 321.800781 L 216.480469 321.800781 \"/>\n",
       "<path style=\"fill:none;stroke-width:0.75;stroke-linecap:round;stroke-linejoin:round;stroke:rgb(0%,0%,0%);stroke-opacity:1;stroke-miterlimit:10;\" d=\"M 201.121094 142.800781 L 216.480469 142.800781 \"/>\n",
       "<path style=\"fill:none;stroke-width:0.75;stroke-linecap:round;stroke-linejoin:round;stroke:rgb(0%,0%,0%);stroke-opacity:1;stroke-miterlimit:10;\" d=\"M 193.441406 254.800781 L 224.160156 254.800781 L 224.160156 208.800781 L 193.441406 208.800781 L 193.441406 254.800781 \"/>\n",
       "<path style=\"fill:none;stroke-width:0.75;stroke-linecap:round;stroke-linejoin:round;stroke:rgb(0%,0%,0%);stroke-opacity:1;stroke-miterlimit:10;\" d=\"M 211.5 118.800781 C 211.5 122.398438 206.101562 122.398438 206.101562 118.800781 C 206.101562 115.199219 211.5 115.199219 211.5 118.800781 \"/>\n",
       "<path style=\"fill:none;stroke-width:0.75;stroke-linecap:round;stroke-linejoin:round;stroke:rgb(0%,0%,0%);stroke-opacity:1;stroke-miterlimit:10;\" d=\"M 211.5 132.800781 C 211.5 136.398438 206.101562 136.398438 206.101562 132.800781 C 206.101562 129.199219 211.5 129.199219 211.5 132.800781 \"/>\n",
       "<path style=\"fill:none;stroke-width:0.75;stroke-linecap:round;stroke-linejoin:round;stroke:rgb(0%,0%,0%);stroke-opacity:1;stroke-miterlimit:10;\" d=\"M 211.5 137.800781 C 211.5 141.398438 206.101562 141.398438 206.101562 137.800781 C 206.101562 134.199219 211.5 134.199219 211.5 137.800781 \"/>\n",
       "<path style=\"fill:none;stroke-width:0.75;stroke-linecap:round;stroke-linejoin:round;stroke:rgb(0%,0%,0%);stroke-opacity:1;stroke-miterlimit:10;\" d=\"M 211.5 117.800781 C 211.5 121.398438 206.101562 121.398438 206.101562 117.800781 C 206.101562 114.199219 211.5 114.199219 211.5 117.800781 \"/>\n",
       "<path style=\"fill:none;stroke-width:0.75;stroke-linecap:round;stroke-linejoin:round;stroke:rgb(0%,0%,0%);stroke-opacity:1;stroke-miterlimit:10;\" d=\"M 211.5 136.800781 C 211.5 140.398438 206.101562 140.398438 206.101562 136.800781 C 206.101562 133.199219 211.5 133.199219 211.5 136.800781 \"/>\n",
       "<path style=\"fill:none;stroke-width:0.75;stroke-linecap:round;stroke-linejoin:round;stroke:rgb(0%,0%,0%);stroke-opacity:1;stroke-miterlimit:10;\" d=\"M 211.5 138.800781 C 211.5 142.398438 206.101562 142.398438 206.101562 138.800781 C 206.101562 135.199219 211.5 135.199219 211.5 138.800781 \"/>\n",
       "<path style=\"fill:none;stroke-width:0.75;stroke-linecap:round;stroke-linejoin:round;stroke:rgb(0%,0%,0%);stroke-opacity:1;stroke-miterlimit:10;\" d=\"M 211.5 138.800781 C 211.5 142.398438 206.101562 142.398438 206.101562 138.800781 C 206.101562 135.199219 211.5 135.199219 211.5 138.800781 \"/>\n",
       "<path style=\"fill:none;stroke-width:0.75;stroke-linecap:round;stroke-linejoin:round;stroke:rgb(0%,0%,0%);stroke-opacity:1;stroke-miterlimit:10;\" d=\"M 211.5 136.800781 C 211.5 140.398438 206.101562 140.398438 206.101562 136.800781 C 206.101562 133.199219 211.5 133.199219 211.5 136.800781 \"/>\n",
       "<path style=\"fill:none;stroke-width:2.25;stroke-linecap:butt;stroke-linejoin:round;stroke:rgb(0%,0%,0%);stroke-opacity:1;stroke-miterlimit:10;\" d=\"M 231.839844 305.800781 L 262.558594 305.800781 \"/>\n",
       "<path style=\"fill:none;stroke-width:0.75;stroke-linecap:round;stroke-linejoin:round;stroke:rgb(0%,0%,0%);stroke-opacity:1;stroke-dasharray:3,3;stroke-miterlimit:10;\" d=\"M 247.199219 377.199219 L 247.199219 323.398438 \"/>\n",
       "<path style=\"fill:none;stroke-width:0.75;stroke-linecap:round;stroke-linejoin:round;stroke:rgb(0%,0%,0%);stroke-opacity:1;stroke-dasharray:3,3;stroke-miterlimit:10;\" d=\"M 247.199219 228.601562 L 247.199219 284.601562 \"/>\n",
       "<path style=\"fill:none;stroke-width:0.75;stroke-linecap:round;stroke-linejoin:round;stroke:rgb(0%,0%,0%);stroke-opacity:1;stroke-miterlimit:10;\" d=\"M 239.519531 377.199219 L 254.878906 377.199219 \"/>\n",
       "<path style=\"fill:none;stroke-width:0.75;stroke-linecap:round;stroke-linejoin:round;stroke:rgb(0%,0%,0%);stroke-opacity:1;stroke-miterlimit:10;\" d=\"M 239.519531 228.601562 L 254.878906 228.601562 \"/>\n",
       "<path style=\"fill:none;stroke-width:0.75;stroke-linecap:round;stroke-linejoin:round;stroke:rgb(0%,0%,0%);stroke-opacity:1;stroke-miterlimit:10;\" d=\"M 231.839844 323.398438 L 262.558594 323.398438 L 262.558594 284.601562 L 231.839844 284.601562 L 231.839844 323.398438 \"/>\n",
       "<path style=\"fill:none;stroke-width:0.75;stroke-linecap:round;stroke-linejoin:round;stroke:rgb(0%,0%,0%);stroke-opacity:1;stroke-miterlimit:10;\" d=\"M 249.898438 176.398438 C 249.898438 180 244.5 180 244.5 176.398438 C 244.5 172.800781 249.898438 172.800781 249.898438 176.398438 \"/>\n",
       "<path style=\"fill:none;stroke-width:0.75;stroke-linecap:round;stroke-linejoin:round;stroke:rgb(0%,0%,0%);stroke-opacity:1;stroke-miterlimit:10;\" d=\"M 249.898438 219.398438 C 249.898438 223 244.5 223 244.5 219.398438 C 244.5 215.800781 249.898438 215.800781 249.898438 219.398438 \"/>\n",
       "<path style=\"fill:none;stroke-width:0.75;stroke-linecap:round;stroke-linejoin:round;stroke:rgb(0%,0%,0%);stroke-opacity:1;stroke-miterlimit:10;\" d=\"M 249.898438 203.800781 C 249.898438 207.398438 244.5 207.398438 244.5 203.800781 C 244.5 200.199219 249.898438 200.199219 249.898438 203.800781 \"/>\n",
       "<path style=\"fill:none;stroke-width:0.75;stroke-linecap:round;stroke-linejoin:round;stroke:rgb(0%,0%,0%);stroke-opacity:1;stroke-miterlimit:10;\" d=\"M 249.898438 221.601562 C 249.898438 225.199219 244.5 225.199219 244.5 221.601562 C 244.5 218 249.898438 218 249.898438 221.601562 \"/>\n",
       "<path style=\"fill:none;stroke-width:0.75;stroke-linecap:round;stroke-linejoin:round;stroke:rgb(0%,0%,0%);stroke-opacity:1;stroke-miterlimit:10;\" d=\"M 249.898438 223.398438 C 249.898438 227 244.5 227 244.5 223.398438 C 244.5 219.800781 249.898438 219.800781 249.898438 223.398438 \"/>\n",
       "<path style=\"fill:none;stroke-width:0.75;stroke-linecap:round;stroke-linejoin:round;stroke:rgb(0%,0%,0%);stroke-opacity:1;stroke-miterlimit:10;\" d=\"M 249.898438 222 C 249.898438 225.601562 244.5 225.601562 244.5 222 C 244.5 218.398438 249.898438 218.398438 249.898438 222 \"/>\n",
       "<path style=\"fill:none;stroke-width:0.75;stroke-linecap:round;stroke-linejoin:round;stroke:rgb(0%,0%,0%);stroke-opacity:1;stroke-miterlimit:10;\" d=\"M 249.898438 220.199219 C 249.898438 223.800781 244.5 223.800781 244.5 220.199219 C 244.5 216.601562 249.898438 216.601562 249.898438 220.199219 \"/>\n",
       "<path style=\"fill:none;stroke-width:2.25;stroke-linecap:butt;stroke-linejoin:round;stroke:rgb(0%,0%,0%);stroke-opacity:1;stroke-miterlimit:10;\" d=\"M 270.238281 370.800781 L 300.960938 370.800781 \"/>\n",
       "<path style=\"fill:none;stroke-width:0.75;stroke-linecap:round;stroke-linejoin:round;stroke:rgb(0%,0%,0%);stroke-opacity:1;stroke-dasharray:3,3;stroke-miterlimit:10;\" d=\"M 285.601562 396.800781 L 285.601562 378.800781 \"/>\n",
       "<path style=\"fill:none;stroke-width:0.75;stroke-linecap:round;stroke-linejoin:round;stroke:rgb(0%,0%,0%);stroke-opacity:1;stroke-dasharray:3,3;stroke-miterlimit:10;\" d=\"M 285.601562 335.800781 L 285.601562 360.800781 \"/>\n",
       "<path style=\"fill:none;stroke-width:0.75;stroke-linecap:round;stroke-linejoin:round;stroke:rgb(0%,0%,0%);stroke-opacity:1;stroke-miterlimit:10;\" d=\"M 277.921875 396.800781 L 293.28125 396.800781 \"/>\n",
       "<path style=\"fill:none;stroke-width:0.75;stroke-linecap:round;stroke-linejoin:round;stroke:rgb(0%,0%,0%);stroke-opacity:1;stroke-miterlimit:10;\" d=\"M 277.921875 335.800781 L 293.28125 335.800781 \"/>\n",
       "<path style=\"fill:none;stroke-width:0.75;stroke-linecap:round;stroke-linejoin:round;stroke:rgb(0%,0%,0%);stroke-opacity:1;stroke-miterlimit:10;\" d=\"M 270.238281 378.800781 L 300.960938 378.800781 L 300.960938 360.800781 L 270.238281 360.800781 L 270.238281 378.800781 \"/>\n",
       "<path style=\"fill:none;stroke-width:0.75;stroke-linecap:round;stroke-linejoin:round;stroke:rgb(0%,0%,0%);stroke-opacity:1;stroke-miterlimit:10;\" d=\"M 288.300781 332.800781 C 288.300781 336.398438 282.898438 336.398438 282.898438 332.800781 C 282.898438 329.199219 288.300781 329.199219 288.300781 332.800781 \"/>\n",
       "<path style=\"fill:none;stroke-width:0.75;stroke-linecap:round;stroke-linejoin:round;stroke:rgb(0%,0%,0%);stroke-opacity:1;stroke-miterlimit:10;\" d=\"M 288.300781 319.800781 C 288.300781 323.398438 282.898438 323.398438 282.898438 319.800781 C 282.898438 316.199219 288.300781 316.199219 288.300781 319.800781 \"/>\n",
       "<path style=\"fill:none;stroke-width:0.75;stroke-linecap:round;stroke-linejoin:round;stroke:rgb(0%,0%,0%);stroke-opacity:1;stroke-miterlimit:10;\" d=\"M 288.300781 327.800781 C 288.300781 331.398438 282.898438 331.398438 282.898438 327.800781 C 282.898438 324.199219 288.300781 324.199219 288.300781 327.800781 \"/>\n",
       "<path style=\"fill:none;stroke-width:0.75;stroke-linecap:round;stroke-linejoin:round;stroke:rgb(0%,0%,0%);stroke-opacity:1;stroke-miterlimit:10;\" d=\"M 288.300781 320.800781 C 288.300781 324.398438 282.898438 324.398438 282.898438 320.800781 C 282.898438 317.199219 288.300781 317.199219 288.300781 320.800781 \"/>\n",
       "<path style=\"fill:none;stroke-width:0.75;stroke-linecap:round;stroke-linejoin:round;stroke:rgb(0%,0%,0%);stroke-opacity:1;stroke-miterlimit:10;\" d=\"M 288.300781 325.800781 C 288.300781 329.398438 282.898438 329.398438 282.898438 325.800781 C 282.898438 322.199219 288.300781 322.199219 288.300781 325.800781 \"/>\n",
       "<path style=\"fill:none;stroke-width:0.75;stroke-linecap:round;stroke-linejoin:round;stroke:rgb(0%,0%,0%);stroke-opacity:1;stroke-miterlimit:10;\" d=\"M 288.300781 330.800781 C 288.300781 334.398438 282.898438 334.398438 282.898438 330.800781 C 282.898438 327.199219 288.300781 327.199219 288.300781 330.800781 \"/>\n",
       "<path style=\"fill:none;stroke-width:0.75;stroke-linecap:round;stroke-linejoin:round;stroke:rgb(0%,0%,0%);stroke-opacity:1;stroke-miterlimit:10;\" d=\"M 288.300781 321.800781 C 288.300781 325.398438 282.898438 325.398438 282.898438 321.800781 C 282.898438 318.199219 288.300781 318.199219 288.300781 321.800781 \"/>\n",
       "<path style=\"fill:none;stroke-width:2.25;stroke-linecap:butt;stroke-linejoin:round;stroke:rgb(0%,0%,0%);stroke-opacity:1;stroke-miterlimit:10;\" d=\"M 308.640625 414.800781 L 339.359375 414.800781 \"/>\n",
       "<path style=\"fill:none;stroke-width:0.75;stroke-linecap:round;stroke-linejoin:round;stroke:rgb(0%,0%,0%);stroke-opacity:1;stroke-dasharray:3,3;stroke-miterlimit:10;\" d=\"M 324 416.800781 L 324 415.800781 \"/>\n",
       "<path style=\"fill:none;stroke-width:0.75;stroke-linecap:round;stroke-linejoin:round;stroke:rgb(0%,0%,0%);stroke-opacity:1;stroke-dasharray:3,3;stroke-miterlimit:10;\" d=\"M 324 410.800781 L 324 413.800781 \"/>\n",
       "<path style=\"fill:none;stroke-width:0.75;stroke-linecap:round;stroke-linejoin:round;stroke:rgb(0%,0%,0%);stroke-opacity:1;stroke-miterlimit:10;\" d=\"M 316.320312 416.800781 L 331.679688 416.800781 \"/>\n",
       "<path style=\"fill:none;stroke-width:0.75;stroke-linecap:round;stroke-linejoin:round;stroke:rgb(0%,0%,0%);stroke-opacity:1;stroke-miterlimit:10;\" d=\"M 316.320312 410.800781 L 331.679688 410.800781 \"/>\n",
       "<path style=\"fill:none;stroke-width:0.75;stroke-linecap:round;stroke-linejoin:round;stroke:rgb(0%,0%,0%);stroke-opacity:1;stroke-miterlimit:10;\" d=\"M 308.640625 415.800781 L 339.359375 415.800781 L 339.359375 413.800781 L 308.640625 413.800781 L 308.640625 415.800781 \"/>\n",
       "<path style=\"fill:none;stroke-width:0.75;stroke-linecap:round;stroke-linejoin:round;stroke:rgb(0%,0%,0%);stroke-opacity:1;stroke-miterlimit:10;\" d=\"M 326.699219 409.710938 C 326.699219 413.308594 321.300781 413.308594 321.300781 409.710938 C 321.300781 406.109375 326.699219 406.109375 326.699219 409.710938 \"/>\n",
       "<path style=\"fill:none;stroke-width:0.75;stroke-linecap:round;stroke-linejoin:round;stroke:rgb(0%,0%,0%);stroke-opacity:1;stroke-miterlimit:10;\" d=\"M 326.699219 410.519531 C 326.699219 414.121094 321.300781 414.121094 321.300781 410.519531 C 321.300781 406.921875 326.699219 406.921875 326.699219 410.519531 \"/>\n",
       "<path style=\"fill:none;stroke-width:2.25;stroke-linecap:butt;stroke-linejoin:round;stroke:rgb(0%,0%,0%);stroke-opacity:1;stroke-miterlimit:10;\" d=\"M 347.039062 414.164062 L 377.761719 414.164062 \"/>\n",
       "<path style=\"fill:none;stroke-width:0.75;stroke-linecap:round;stroke-linejoin:round;stroke:rgb(0%,0%,0%);stroke-opacity:1;stroke-dasharray:3,3;stroke-miterlimit:10;\" d=\"M 362.398438 415.542969 L 362.398438 414.523438 \"/>\n",
       "<path style=\"fill:none;stroke-width:0.75;stroke-linecap:round;stroke-linejoin:round;stroke:rgb(0%,0%,0%);stroke-opacity:1;stroke-dasharray:3,3;stroke-miterlimit:10;\" d=\"M 362.398438 412.730469 L 362.398438 413.804688 \"/>\n",
       "<path style=\"fill:none;stroke-width:0.75;stroke-linecap:round;stroke-linejoin:round;stroke:rgb(0%,0%,0%);stroke-opacity:1;stroke-miterlimit:10;\" d=\"M 354.71875 415.542969 L 370.078125 415.542969 \"/>\n",
       "<path style=\"fill:none;stroke-width:0.75;stroke-linecap:round;stroke-linejoin:round;stroke:rgb(0%,0%,0%);stroke-opacity:1;stroke-miterlimit:10;\" d=\"M 354.71875 412.730469 L 370.078125 412.730469 \"/>\n",
       "<path style=\"fill:none;stroke-width:0.75;stroke-linecap:round;stroke-linejoin:round;stroke:rgb(0%,0%,0%);stroke-opacity:1;stroke-miterlimit:10;\" d=\"M 347.039062 414.523438 L 377.761719 414.523438 L 377.761719 413.804688 L 347.039062 413.804688 L 347.039062 414.523438 \"/>\n",
       "<path style=\"fill:none;stroke-width:0.75;stroke-linecap:round;stroke-linejoin:round;stroke:rgb(0%,0%,0%);stroke-opacity:1;stroke-miterlimit:10;\" d=\"M 365.101562 412.691406 C 365.101562 416.292969 359.699219 416.292969 359.699219 412.691406 C 359.699219 409.09375 365.101562 409.09375 365.101562 412.691406 \"/>\n",
       "<path style=\"fill:none;stroke-width:0.75;stroke-linecap:round;stroke-linejoin:round;stroke:rgb(0%,0%,0%);stroke-opacity:1;stroke-miterlimit:10;\" d=\"M 365.101562 412.691406 C 365.101562 416.292969 359.699219 416.292969 359.699219 412.691406 C 359.699219 409.09375 365.101562 409.09375 365.101562 412.691406 \"/>\n",
       "<path style=\"fill:none;stroke-width:0.75;stroke-linecap:round;stroke-linejoin:round;stroke:rgb(0%,0%,0%);stroke-opacity:1;stroke-miterlimit:10;\" d=\"M 365.101562 412.695312 C 365.101562 416.296875 359.699219 416.296875 359.699219 412.695312 C 359.699219 409.09375 365.101562 409.09375 365.101562 412.695312 \"/>\n",
       "<path style=\"fill:none;stroke-width:0.75;stroke-linecap:round;stroke-linejoin:round;stroke:rgb(0%,0%,0%);stroke-opacity:1;stroke-miterlimit:10;\" d=\"M 365.101562 412.707031 C 365.101562 416.304688 359.699219 416.304688 359.699219 412.707031 C 359.699219 409.105469 365.101562 409.105469 365.101562 412.707031 \"/>\n",
       "<path style=\"fill:none;stroke-width:2.25;stroke-linecap:butt;stroke-linejoin:round;stroke:rgb(0%,0%,0%);stroke-opacity:1;stroke-miterlimit:10;\" d=\"M 385.441406 327.800781 L 416.160156 327.800781 \"/>\n",
       "<path style=\"fill:none;stroke-width:0.75;stroke-linecap:round;stroke-linejoin:round;stroke:rgb(0%,0%,0%);stroke-opacity:1;stroke-dasharray:3,3;stroke-miterlimit:10;\" d=\"M 400.800781 352.800781 L 400.800781 335.800781 \"/>\n",
       "<path style=\"fill:none;stroke-width:0.75;stroke-linecap:round;stroke-linejoin:round;stroke:rgb(0%,0%,0%);stroke-opacity:1;stroke-dasharray:3,3;stroke-miterlimit:10;\" d=\"M 400.800781 298.800781 L 400.800781 320.800781 \"/>\n",
       "<path style=\"fill:none;stroke-width:0.75;stroke-linecap:round;stroke-linejoin:round;stroke:rgb(0%,0%,0%);stroke-opacity:1;stroke-miterlimit:10;\" d=\"M 393.121094 352.800781 L 408.480469 352.800781 \"/>\n",
       "<path style=\"fill:none;stroke-width:0.75;stroke-linecap:round;stroke-linejoin:round;stroke:rgb(0%,0%,0%);stroke-opacity:1;stroke-miterlimit:10;\" d=\"M 393.121094 298.800781 L 408.480469 298.800781 \"/>\n",
       "<path style=\"fill:none;stroke-width:0.75;stroke-linecap:round;stroke-linejoin:round;stroke:rgb(0%,0%,0%);stroke-opacity:1;stroke-miterlimit:10;\" d=\"M 385.441406 335.800781 L 416.160156 335.800781 L 416.160156 320.800781 L 385.441406 320.800781 L 385.441406 335.800781 \"/>\n",
       "<path style=\"fill:none;stroke-width:0.75;stroke-linecap:round;stroke-linejoin:round;stroke:rgb(0%,0%,0%);stroke-opacity:1;stroke-miterlimit:10;\" d=\"M 403.5 294.800781 C 403.5 298.398438 398.101562 298.398438 398.101562 294.800781 C 398.101562 291.199219 403.5 291.199219 403.5 294.800781 \"/>\n",
       "<path style=\"fill:none;stroke-width:0.75;stroke-linecap:round;stroke-linejoin:round;stroke:rgb(0%,0%,0%);stroke-opacity:1;stroke-miterlimit:10;\" d=\"M 403.5 358.800781 C 403.5 362.398438 398.101562 362.398438 398.101562 358.800781 C 398.101562 355.199219 403.5 355.199219 403.5 358.800781 \"/>\n",
       "<path style=\"fill:none;stroke-width:0.75;stroke-linecap:round;stroke-linejoin:round;stroke:rgb(0%,0%,0%);stroke-opacity:1;stroke-miterlimit:10;\" d=\"M 403.5 294.800781 C 403.5 298.398438 398.101562 298.398438 398.101562 294.800781 C 398.101562 291.199219 403.5 291.199219 403.5 294.800781 \"/>\n",
       "<path style=\"fill:none;stroke-width:0.75;stroke-linecap:round;stroke-linejoin:round;stroke:rgb(0%,0%,0%);stroke-opacity:1;stroke-miterlimit:10;\" d=\"M 403.5 295.800781 C 403.5 299.398438 398.101562 299.398438 398.101562 295.800781 C 398.101562 292.199219 403.5 292.199219 403.5 295.800781 \"/>\n",
       "<path style=\"fill:none;stroke-width:0.75;stroke-linecap:round;stroke-linejoin:round;stroke:rgb(0%,0%,0%);stroke-opacity:1;stroke-miterlimit:10;\" d=\"M 403.5 296.800781 C 403.5 300.398438 398.101562 300.398438 398.101562 296.800781 C 398.101562 293.199219 403.5 293.199219 403.5 296.800781 \"/>\n",
       "<path style=\"fill:none;stroke-width:0.75;stroke-linecap:round;stroke-linejoin:round;stroke:rgb(0%,0%,0%);stroke-opacity:1;stroke-miterlimit:10;\" d=\"M 403.5 358.800781 C 403.5 362.398438 398.101562 362.398438 398.101562 358.800781 C 398.101562 355.199219 403.5 355.199219 403.5 358.800781 \"/>\n",
       "<path style=\"fill:none;stroke-width:0.75;stroke-linecap:round;stroke-linejoin:round;stroke:rgb(0%,0%,0%);stroke-opacity:1;stroke-miterlimit:10;\" d=\"M 403.5 294.800781 C 403.5 298.398438 398.101562 298.398438 398.101562 294.800781 C 398.101562 291.199219 403.5 291.199219 403.5 294.800781 \"/>\n",
       "<path style=\"fill:none;stroke-width:0.75;stroke-linecap:round;stroke-linejoin:round;stroke:rgb(0%,0%,0%);stroke-opacity:1;stroke-miterlimit:10;\" d=\"M 403.5 360.800781 C 403.5 364.398438 398.101562 364.398438 398.101562 360.800781 C 398.101562 357.199219 403.5 357.199219 403.5 360.800781 \"/>\n",
       "<path style=\"fill:none;stroke-width:0.75;stroke-linecap:round;stroke-linejoin:round;stroke:rgb(0%,0%,0%);stroke-opacity:1;stroke-miterlimit:10;\" d=\"M 403.5 295.800781 C 403.5 299.398438 398.101562 299.398438 398.101562 295.800781 C 398.101562 292.199219 403.5 292.199219 403.5 295.800781 \"/>\n",
       "<path style=\"fill:none;stroke-width:2.25;stroke-linecap:butt;stroke-linejoin:round;stroke:rgb(0%,0%,0%);stroke-opacity:1;stroke-miterlimit:10;\" d=\"M 423.839844 278.800781 L 454.558594 278.800781 \"/>\n",
       "<path style=\"fill:none;stroke-width:0.75;stroke-linecap:round;stroke-linejoin:round;stroke:rgb(0%,0%,0%);stroke-opacity:1;stroke-dasharray:3,3;stroke-miterlimit:10;\" d=\"M 439.199219 393.800781 L 439.199219 333.800781 \"/>\n",
       "<path style=\"fill:none;stroke-width:0.75;stroke-linecap:round;stroke-linejoin:round;stroke:rgb(0%,0%,0%);stroke-opacity:1;stroke-dasharray:3,3;stroke-miterlimit:10;\" d=\"M 439.199219 72.800781 L 439.199219 204.800781 \"/>\n",
       "<path style=\"fill:none;stroke-width:0.75;stroke-linecap:round;stroke-linejoin:round;stroke:rgb(0%,0%,0%);stroke-opacity:1;stroke-miterlimit:10;\" d=\"M 431.519531 393.800781 L 446.878906 393.800781 \"/>\n",
       "<path style=\"fill:none;stroke-width:0.75;stroke-linecap:round;stroke-linejoin:round;stroke:rgb(0%,0%,0%);stroke-opacity:1;stroke-miterlimit:10;\" d=\"M 431.519531 72.800781 L 446.878906 72.800781 \"/>\n",
       "<path style=\"fill:none;stroke-width:0.75;stroke-linecap:round;stroke-linejoin:round;stroke:rgb(0%,0%,0%);stroke-opacity:1;stroke-miterlimit:10;\" d=\"M 423.839844 333.800781 L 454.558594 333.800781 L 454.558594 204.800781 L 423.839844 204.800781 L 423.839844 333.800781 \"/>\n",
       "<path style=\"fill:none;stroke-width:0.75;stroke-linecap:round;stroke-linejoin:round;stroke:rgb(0%,0%,0%);stroke-opacity:1;stroke-miterlimit:10;\" d=\"M 93.601562 430.558594 L 439.199219 430.558594 \"/>\n",
       "<path style=\"fill:none;stroke-width:0.75;stroke-linecap:round;stroke-linejoin:round;stroke:rgb(0%,0%,0%);stroke-opacity:1;stroke-miterlimit:10;\" d=\"M 93.601562 430.558594 L 93.601562 437.761719 \"/>\n",
       "<path style=\"fill:none;stroke-width:0.75;stroke-linecap:round;stroke-linejoin:round;stroke:rgb(0%,0%,0%);stroke-opacity:1;stroke-miterlimit:10;\" d=\"M 132 430.558594 L 132 437.761719 \"/>\n",
       "<path style=\"fill:none;stroke-width:0.75;stroke-linecap:round;stroke-linejoin:round;stroke:rgb(0%,0%,0%);stroke-opacity:1;stroke-miterlimit:10;\" d=\"M 170.398438 430.558594 L 170.398438 437.761719 \"/>\n",
       "<path style=\"fill:none;stroke-width:0.75;stroke-linecap:round;stroke-linejoin:round;stroke:rgb(0%,0%,0%);stroke-opacity:1;stroke-miterlimit:10;\" d=\"M 208.800781 430.558594 L 208.800781 437.761719 \"/>\n",
       "<path style=\"fill:none;stroke-width:0.75;stroke-linecap:round;stroke-linejoin:round;stroke:rgb(0%,0%,0%);stroke-opacity:1;stroke-miterlimit:10;\" d=\"M 247.199219 430.558594 L 247.199219 437.761719 \"/>\n",
       "<path style=\"fill:none;stroke-width:0.75;stroke-linecap:round;stroke-linejoin:round;stroke:rgb(0%,0%,0%);stroke-opacity:1;stroke-miterlimit:10;\" d=\"M 285.601562 430.558594 L 285.601562 437.761719 \"/>\n",
       "<path style=\"fill:none;stroke-width:0.75;stroke-linecap:round;stroke-linejoin:round;stroke:rgb(0%,0%,0%);stroke-opacity:1;stroke-miterlimit:10;\" d=\"M 324 430.558594 L 324 437.761719 \"/>\n",
       "<path style=\"fill:none;stroke-width:0.75;stroke-linecap:round;stroke-linejoin:round;stroke:rgb(0%,0%,0%);stroke-opacity:1;stroke-miterlimit:10;\" d=\"M 362.398438 430.558594 L 362.398438 437.761719 \"/>\n",
       "<path style=\"fill:none;stroke-width:0.75;stroke-linecap:round;stroke-linejoin:round;stroke:rgb(0%,0%,0%);stroke-opacity:1;stroke-miterlimit:10;\" d=\"M 400.800781 430.558594 L 400.800781 437.761719 \"/>\n",
       "<path style=\"fill:none;stroke-width:0.75;stroke-linecap:round;stroke-linejoin:round;stroke:rgb(0%,0%,0%);stroke-opacity:1;stroke-miterlimit:10;\" d=\"M 439.199219 430.558594 L 439.199219 437.761719 \"/>\n",
       "<g style=\"fill:rgb(0%,0%,0%);fill-opacity:1;\">\n",
       "  <use xlink:href=\"#glyph0-1\" x=\"80.601562\" y=\"455.916016\"/>\n",
       "  <use xlink:href=\"#glyph0-2\" x=\"88.605469\" y=\"455.916016\"/>\n",
       "  <use xlink:href=\"#glyph0-3\" x=\"97.941406\" y=\"455.916016\"/>\n",
       "</g>\n",
       "<g style=\"fill:rgb(0%,0%,0%);fill-opacity:1;\">\n",
       "  <use xlink:href=\"#glyph0-4\" x=\"121\" y=\"455.916016\"/>\n",
       "  <use xlink:href=\"#glyph0-5\" x=\"129.003906\" y=\"455.916016\"/>\n",
       "  <use xlink:href=\"#glyph0-6\" x=\"139\" y=\"455.916016\"/>\n",
       "</g>\n",
       "<g style=\"fill:rgb(0%,0%,0%);fill-opacity:1;\">\n",
       "  <use xlink:href=\"#glyph0-4\" x=\"161.898438\" y=\"455.916016\"/>\n",
       "  <use xlink:href=\"#glyph0-7\" x=\"169.902344\" y=\"455.916016\"/>\n",
       "</g>\n",
       "<g style=\"fill:rgb(0%,0%,0%);fill-opacity:1;\">\n",
       "  <use xlink:href=\"#glyph0-8\" x=\"201.300781\" y=\"455.916016\"/>\n",
       "  <use xlink:href=\"#glyph0-9\" x=\"209.304688\" y=\"455.916016\"/>\n",
       "</g>\n",
       "<g style=\"fill:rgb(0%,0%,0%);fill-opacity:1;\">\n",
       "  <use xlink:href=\"#glyph0-8\" x=\"239.699219\" y=\"455.916016\"/>\n",
       "  <use xlink:href=\"#glyph0-10\" x=\"247.703125\" y=\"455.916016\"/>\n",
       "</g>\n",
       "<g style=\"fill:rgb(0%,0%,0%);fill-opacity:1;\">\n",
       "  <use xlink:href=\"#glyph0-8\" x=\"278.101562\" y=\"455.916016\"/>\n",
       "  <use xlink:href=\"#glyph0-11\" x=\"286.105469\" y=\"455.916016\"/>\n",
       "</g>\n",
       "<g style=\"fill:rgb(0%,0%,0%);fill-opacity:1;\">\n",
       "  <use xlink:href=\"#glyph0-8\" x=\"316.5\" y=\"455.916016\"/>\n",
       "  <use xlink:href=\"#glyph0-12\" x=\"324.503906\" y=\"455.916016\"/>\n",
       "</g>\n",
       "<g style=\"fill:rgb(0%,0%,0%);fill-opacity:1;\">\n",
       "  <use xlink:href=\"#glyph0-8\" x=\"354.898438\" y=\"455.916016\"/>\n",
       "  <use xlink:href=\"#glyph0-13\" x=\"362.902344\" y=\"455.916016\"/>\n",
       "</g>\n",
       "<g style=\"fill:rgb(0%,0%,0%);fill-opacity:1;\">\n",
       "  <use xlink:href=\"#glyph0-8\" x=\"393.300781\" y=\"455.916016\"/>\n",
       "  <use xlink:href=\"#glyph0-14\" x=\"401.304688\" y=\"455.916016\"/>\n",
       "</g>\n",
       "<g style=\"fill:rgb(0%,0%,0%);fill-opacity:1;\">\n",
       "  <use xlink:href=\"#glyph0-15\" x=\"434.699219\" y=\"455.916016\"/>\n",
       "</g>\n",
       "<path style=\"fill:none;stroke-width:0.75;stroke-linecap:round;stroke-linejoin:round;stroke:rgb(0%,0%,0%);stroke-opacity:1;stroke-miterlimit:10;\" d=\"M 59.039062 418.800781 L 59.039062 68.800781 \"/>\n",
       "<path style=\"fill:none;stroke-width:0.75;stroke-linecap:round;stroke-linejoin:round;stroke:rgb(0%,0%,0%);stroke-opacity:1;stroke-miterlimit:10;\" d=\"M 59.039062 418.800781 L 51.839844 418.800781 \"/>\n",
       "<path style=\"fill:none;stroke-width:0.75;stroke-linecap:round;stroke-linejoin:round;stroke:rgb(0%,0%,0%);stroke-opacity:1;stroke-miterlimit:10;\" d=\"M 59.039062 368.800781 L 51.839844 368.800781 \"/>\n",
       "<path style=\"fill:none;stroke-width:0.75;stroke-linecap:round;stroke-linejoin:round;stroke:rgb(0%,0%,0%);stroke-opacity:1;stroke-miterlimit:10;\" d=\"M 59.039062 318.800781 L 51.839844 318.800781 \"/>\n",
       "<path style=\"fill:none;stroke-width:0.75;stroke-linecap:round;stroke-linejoin:round;stroke:rgb(0%,0%,0%);stroke-opacity:1;stroke-miterlimit:10;\" d=\"M 59.039062 268.800781 L 51.839844 268.800781 \"/>\n",
       "<path style=\"fill:none;stroke-width:0.75;stroke-linecap:round;stroke-linejoin:round;stroke:rgb(0%,0%,0%);stroke-opacity:1;stroke-miterlimit:10;\" d=\"M 59.039062 218.800781 L 51.839844 218.800781 \"/>\n",
       "<path style=\"fill:none;stroke-width:0.75;stroke-linecap:round;stroke-linejoin:round;stroke:rgb(0%,0%,0%);stroke-opacity:1;stroke-miterlimit:10;\" d=\"M 59.039062 168.800781 L 51.839844 168.800781 \"/>\n",
       "<path style=\"fill:none;stroke-width:0.75;stroke-linecap:round;stroke-linejoin:round;stroke:rgb(0%,0%,0%);stroke-opacity:1;stroke-miterlimit:10;\" d=\"M 59.039062 118.800781 L 51.839844 118.800781 \"/>\n",
       "<path style=\"fill:none;stroke-width:0.75;stroke-linecap:round;stroke-linejoin:round;stroke:rgb(0%,0%,0%);stroke-opacity:1;stroke-miterlimit:10;\" d=\"M 59.039062 68.800781 L 51.839844 68.800781 \"/>\n",
       "<g style=\"fill:rgb(0%,0%,0%);fill-opacity:1;\">\n",
       "  <use xlink:href=\"#glyph1-1\" x=\"41.197266\" y=\"422.300781\"/>\n",
       "</g>\n",
       "<g style=\"fill:rgb(0%,0%,0%);fill-opacity:1;\">\n",
       "  <use xlink:href=\"#glyph1-2\" x=\"41.197266\" y=\"375.800781\"/>\n",
       "  <use xlink:href=\"#glyph1-1\" x=\"41.197266\" y=\"369.128906\"/>\n",
       "</g>\n",
       "<g style=\"fill:rgb(0%,0%,0%);fill-opacity:1;\">\n",
       "  <use xlink:href=\"#glyph1-3\" x=\"41.197266\" y=\"329.300781\"/>\n",
       "  <use xlink:href=\"#glyph1-1\" x=\"41.197266\" y=\"322.628906\"/>\n",
       "  <use xlink:href=\"#glyph1-1\" x=\"41.197266\" y=\"315.957031\"/>\n",
       "</g>\n",
       "<g style=\"fill:rgb(0%,0%,0%);fill-opacity:1;\">\n",
       "  <use xlink:href=\"#glyph1-3\" x=\"41.197266\" y=\"279.300781\"/>\n",
       "  <use xlink:href=\"#glyph1-2\" x=\"41.197266\" y=\"272.628906\"/>\n",
       "  <use xlink:href=\"#glyph1-1\" x=\"41.197266\" y=\"265.957031\"/>\n",
       "</g>\n",
       "<g style=\"fill:rgb(0%,0%,0%);fill-opacity:1;\">\n",
       "  <use xlink:href=\"#glyph1-4\" x=\"41.197266\" y=\"229.300781\"/>\n",
       "  <use xlink:href=\"#glyph1-1\" x=\"41.197266\" y=\"222.628906\"/>\n",
       "  <use xlink:href=\"#glyph1-1\" x=\"41.197266\" y=\"215.957031\"/>\n",
       "</g>\n",
       "<g style=\"fill:rgb(0%,0%,0%);fill-opacity:1;\">\n",
       "  <use xlink:href=\"#glyph1-4\" x=\"41.197266\" y=\"179.300781\"/>\n",
       "  <use xlink:href=\"#glyph1-2\" x=\"41.197266\" y=\"172.628906\"/>\n",
       "  <use xlink:href=\"#glyph1-1\" x=\"41.197266\" y=\"165.957031\"/>\n",
       "</g>\n",
       "<g style=\"fill:rgb(0%,0%,0%);fill-opacity:1;\">\n",
       "  <use xlink:href=\"#glyph1-5\" x=\"41.197266\" y=\"129.300781\"/>\n",
       "  <use xlink:href=\"#glyph1-1\" x=\"41.197266\" y=\"122.628906\"/>\n",
       "  <use xlink:href=\"#glyph1-1\" x=\"41.197266\" y=\"115.957031\"/>\n",
       "</g>\n",
       "<g style=\"fill:rgb(0%,0%,0%);fill-opacity:1;\">\n",
       "  <use xlink:href=\"#glyph1-5\" x=\"41.197266\" y=\"79.300781\"/>\n",
       "  <use xlink:href=\"#glyph1-2\" x=\"41.197266\" y=\"72.628906\"/>\n",
       "  <use xlink:href=\"#glyph1-1\" x=\"41.197266\" y=\"65.957031\"/>\n",
       "</g>\n",
       "<path style=\"fill:none;stroke-width:0.75;stroke-linecap:round;stroke-linejoin:round;stroke:rgb(0%,0%,0%);stroke-opacity:1;stroke-miterlimit:10;\" d=\"M 59.039062 430.558594 L 473.761719 430.558594 L 473.761719 59.039062 L 59.039062 59.039062 L 59.039062 430.558594 \"/>\n",
       "</g>\n",
       "</svg>\n"
      ],
      "text/plain": [
       "plot without title"
      ]
     },
     "metadata": {
      "image/svg+xml": {
       "isolated": true
      }
     },
     "output_type": "display_data"
    }
   ],
   "source": [
    "boxplot(data[-2])"
   ]
  },
  {
   "cell_type": "markdown",
   "metadata": {},
   "source": [
    "## - Calcular la media para las filas que tienen SEX=M y la media para las filas que tienen SEX=F, utilizando la función tapply."
   ]
  },
  {
   "cell_type": "code",
   "execution_count": 41,
   "metadata": {
    "collapsed": false
   },
   "outputs": [
    {
     "name": "stdout",
     "output_type": "stream",
     "text": [
      "[1] \"AGE\"\n",
      "       F        M \n",
      "50.86700 46.36522 \n",
      "[1] \"BMI\"\n",
      "       F        M \n",
      "26.80099 25.95609 \n",
      "[1] \"BP\"\n",
      "       F        M \n",
      "98.17562 91.53474 \n",
      "[1] \"S1\"\n",
      "       F        M \n",
      "190.6552 188.0304 \n",
      "[1] \"S2\"\n",
      "       F        M \n",
      "120.1103 111.1726 \n",
      "[1] \"S3\"\n",
      "       F        M \n",
      "44.54187 54.56304 \n",
      "[1] \"S4\"\n",
      "       F        M \n",
      "4.537882 3.658217 \n",
      "[1] \"S5\"\n",
      "       F        M \n",
      "4.731533 4.569392 \n",
      "[1] \"S6\"\n",
      "       F        M \n",
      "93.86207 88.94348 \n",
      "[1] \"Y\"\n",
      "       F        M \n",
      "155.8079 149.0391 \n"
     ]
    }
   ],
   "source": [
    "# Calcula la media para cada variable mumérica\n",
    "datax = data[-2]\n",
    "for (i in 1:ncol(datax)) {\n",
    "    print(colnames(datax[i]))\n",
    "    print(tapply(datax[[i]], data$SEX, mean))\n",
    "}"
   ]
  },
  {
   "cell_type": "markdown",
   "metadata": {},
   "source": [
    "## - Calcular la correlación de todas las variables numéricas con la variable Y."
   ]
  },
  {
   "cell_type": "code",
   "execution_count": 42,
   "metadata": {
    "collapsed": false
   },
   "outputs": [
    {
     "data": {
      "text/html": [
       "<dl class=dl-horizontal>\n",
       "\t<dt>AGE</dt>\n",
       "\t\t<dd>0.188954038793953</dd>\n",
       "\t<dt>BMI</dt>\n",
       "\t\t<dd>0.586367259235741</dd>\n",
       "\t<dt>BP</dt>\n",
       "\t\t<dd>0.439851499380188</dd>\n",
       "\t<dt>S1</dt>\n",
       "\t\t<dd>0.213332490878324</dd>\n",
       "\t<dt>S2</dt>\n",
       "\t\t<dd>0.174718904453884</dd>\n",
       "\t<dt>S3</dt>\n",
       "\t\t<dd>-0.396307612147098</dd>\n",
       "\t<dt>S4</dt>\n",
       "\t\t<dd>0.432563966311011</dd>\n",
       "\t<dt>S5</dt>\n",
       "\t\t<dd>0.570316410426104</dd>\n",
       "\t<dt>S6</dt>\n",
       "\t\t<dd>0.38922455398282</dd>\n",
       "\t<dt>Y</dt>\n",
       "\t\t<dd>1</dd>\n",
       "</dl>\n"
      ],
      "text/latex": [
       "\\begin{description*}\n",
       "\\item[AGE] 0.188954038793953\n",
       "\\item[BMI] 0.586367259235741\n",
       "\\item[BP] 0.439851499380188\n",
       "\\item[S1] 0.213332490878324\n",
       "\\item[S2] 0.174718904453884\n",
       "\\item[S3] -0.396307612147098\n",
       "\\item[S4] 0.432563966311011\n",
       "\\item[S5] 0.570316410426104\n",
       "\\item[S6] 0.38922455398282\n",
       "\\item[Y] 1\n",
       "\\end{description*}\n"
      ],
      "text/markdown": [
       "AGE\n",
       ":   0.188954038793953BMI\n",
       ":   0.586367259235741BP\n",
       ":   0.439851499380188S1\n",
       ":   0.213332490878324S2\n",
       ":   0.174718904453884S3\n",
       ":   -0.396307612147098S4\n",
       ":   0.432563966311011S5\n",
       ":   0.570316410426104S6\n",
       ":   0.38922455398282Y\n",
       ":   1\n",
       "\n"
      ],
      "text/plain": [
       "       AGE        BMI         BP         S1         S2         S3         S4 \n",
       " 0.1889540  0.5863673  0.4398515  0.2133325  0.1747189 -0.3963076  0.4325640 \n",
       "        S5         S6          Y \n",
       " 0.5703164  0.3892246  1.0000000 "
      ]
     },
     "execution_count": 42,
     "metadata": {},
     "output_type": "execute_result"
    }
   ],
   "source": [
    "correlacionY <- cor(data[-2])[,ncol(data[-2])]\n",
    "head(correlacionY, ncol(data[-2]))"
   ]
  },
  {
   "cell_type": "markdown",
   "metadata": {},
   "source": [
    "La variable BMI tiene la máxima correlación con Y, y la variable S2 la mínima."
   ]
  },
  {
   "cell_type": "markdown",
   "metadata": {},
   "source": [
    "## - Realizar un gráfico de dispersión para las variables que tienen más y menos correlación con Y y comentar los resultados. ¿Como serı́a el gráfico de dispersión entre dos cosas con correlación 1?.\n"
   ]
  },
  {
   "cell_type": "code",
   "execution_count": 43,
   "metadata": {
    "collapsed": false
   },
   "outputs": [
    {
     "data": {
      "image/png": "[encoded data removed]",
      "image/svg+xml": [
       "<?xml version=\"1.0\" encoding=\"UTF-8\"?>\n",
       "<svg xmlns=\"http://www.w3.org/2000/svg\" xmlns:xlink=\"http://www.w3.org/1999/xlink\" width=\"504pt\" height=\"504pt\" viewBox=\"0 0 504 504\" version=\"1.1\">\n",
       "<defs>\n",
       "<g>\n",
       "<symbol overflow=\"visible\" id=\"glyph0-0\">\n",
       "<path style=\"stroke:none;\" d=\"\"/>\n",
       "</symbol>\n",
       "<symbol overflow=\"visible\" id=\"glyph0-1\">\n",
       "<path style=\"stroke:none;\" d=\"M 2.484375 -4.84375 L 2.484375 0 L 3.328125 0 L 3.328125 -6.796875 L 2.765625 -6.796875 C 2.46875 -5.75 2.28125 -5.609375 0.984375 -5.453125 L 0.984375 -4.84375 Z \"/>\n",
       "</symbol>\n",
       "<symbol overflow=\"visible\" id=\"glyph0-2\">\n",
       "<path style=\"stroke:none;\" d=\"M 2.640625 -6.796875 C 2 -6.796875 1.421875 -6.53125 1.078125 -6.046875 C 0.640625 -5.453125 0.40625 -4.546875 0.40625 -3.296875 C 0.40625 -1 1.1875 0.21875 2.640625 0.21875 C 4.078125 0.21875 4.859375 -1 4.859375 -3.234375 C 4.859375 -4.5625 4.65625 -5.4375 4.203125 -6.046875 C 3.84375 -6.53125 3.28125 -6.796875 2.640625 -6.796875 Z M 2.640625 -6.046875 C 3.546875 -6.046875 4 -5.125 4 -3.3125 C 4 -1.375 3.5625 -0.484375 2.625 -0.484375 C 1.734375 -0.484375 1.28125 -1.421875 1.28125 -3.28125 C 1.28125 -5.140625 1.734375 -6.046875 2.640625 -6.046875 Z \"/>\n",
       "</symbol>\n",
       "<symbol overflow=\"visible\" id=\"glyph0-3\">\n",
       "<path style=\"stroke:none;\" d=\"M 4.859375 -0.828125 L 1.28125 -0.828125 C 1.359375 -1.390625 1.671875 -1.75 2.5 -2.234375 L 3.46875 -2.75 C 4.40625 -3.265625 4.90625 -3.96875 4.90625 -4.8125 C 4.90625 -5.375 4.671875 -5.90625 4.265625 -6.265625 C 3.859375 -6.625 3.375 -6.796875 2.71875 -6.796875 C 1.859375 -6.796875 1.21875 -6.5 0.84375 -5.921875 C 0.609375 -5.5625 0.5 -5.125 0.484375 -4.4375 L 1.328125 -4.4375 C 1.359375 -4.90625 1.40625 -5.1875 1.53125 -5.40625 C 1.75 -5.8125 2.1875 -6.0625 2.703125 -6.0625 C 3.46875 -6.0625 4.03125 -5.515625 4.03125 -4.78125 C 4.03125 -4.25 3.71875 -3.796875 3.125 -3.4375 L 2.234375 -2.9375 C 0.8125 -2.140625 0.40625 -1.5 0.328125 0 L 4.859375 0 Z \"/>\n",
       "</symbol>\n",
       "<symbol overflow=\"visible\" id=\"glyph0-4\">\n",
       "<path style=\"stroke:none;\" d=\"M 2.125 -3.125 L 2.578125 -3.125 C 3.515625 -3.125 3.984375 -2.703125 3.984375 -1.890625 C 3.984375 -1.03125 3.46875 -0.53125 2.578125 -0.53125 C 1.65625 -0.53125 1.203125 -0.984375 1.15625 -1.96875 L 0.3125 -1.96875 C 0.34375 -1.421875 0.4375 -1.078125 0.609375 -0.765625 C 0.953125 -0.109375 1.625 0.21875 2.546875 0.21875 C 3.953125 0.21875 4.859375 -0.609375 4.859375 -1.90625 C 4.859375 -2.765625 4.515625 -3.25 3.703125 -3.515625 C 4.34375 -3.765625 4.65625 -4.25 4.65625 -4.9375 C 4.65625 -6.109375 3.875 -6.796875 2.578125 -6.796875 C 1.203125 -6.796875 0.484375 -6.046875 0.453125 -4.609375 L 1.296875 -4.609375 C 1.3125 -5.015625 1.34375 -5.25 1.453125 -5.453125 C 1.640625 -5.828125 2.0625 -6.0625 2.59375 -6.0625 C 3.34375 -6.0625 3.796875 -5.625 3.796875 -4.90625 C 3.796875 -4.421875 3.609375 -4.140625 3.25 -3.984375 C 3.015625 -3.890625 2.71875 -3.84375 2.125 -3.84375 Z \"/>\n",
       "</symbol>\n",
       "<symbol overflow=\"visible\" id=\"glyph0-5\">\n",
       "<path style=\"stroke:none;\" d=\"M 4.5625 -6.796875 L 1.0625 -6.796875 L 0.546875 -3.09375 L 1.328125 -3.09375 C 1.71875 -3.5625 2.046875 -3.734375 2.578125 -3.734375 C 3.484375 -3.734375 4.0625 -3.109375 4.0625 -2.09375 C 4.0625 -1.125 3.484375 -0.53125 2.578125 -0.53125 C 1.828125 -0.53125 1.375 -0.90625 1.1875 -1.671875 L 0.328125 -1.671875 C 0.453125 -1.109375 0.546875 -0.84375 0.75 -0.59375 C 1.125 -0.078125 1.828125 0.21875 2.59375 0.21875 C 3.96875 0.21875 4.921875 -0.78125 4.921875 -2.21875 C 4.921875 -3.5625 4.03125 -4.484375 2.71875 -4.484375 C 2.25 -4.484375 1.859375 -4.359375 1.46875 -4.0625 L 1.734375 -5.96875 L 4.5625 -5.96875 Z \"/>\n",
       "</symbol>\n",
       "<symbol overflow=\"visible\" id=\"glyph0-6\">\n",
       "<path style=\"stroke:none;\" d=\"M 3.140625 -1.625 L 3.140625 0 L 3.984375 0 L 3.984375 -1.625 L 4.984375 -1.625 L 4.984375 -2.390625 L 3.984375 -2.390625 L 3.984375 -6.796875 L 3.359375 -6.796875 L 0.265625 -2.515625 L 0.265625 -1.625 Z M 3.140625 -2.390625 L 1 -2.390625 L 3.140625 -5.359375 Z \"/>\n",
       "</symbol>\n",
       "<symbol overflow=\"visible\" id=\"glyph1-0\">\n",
       "<path style=\"stroke:none;\" d=\"\"/>\n",
       "</symbol>\n",
       "<symbol overflow=\"visible\" id=\"glyph1-1\">\n",
       "<path style=\"stroke:none;\" d=\"M 5.9375 -8.75 L 4.9375 -8.75 L 4.9375 -5.5 C 4.53125 -6.125 3.859375 -6.46875 3.015625 -6.46875 C 1.375 -6.46875 0.3125 -5.15625 0.3125 -3.15625 C 0.3125 -1.03125 1.359375 0.28125 3.046875 0.28125 C 3.90625 0.28125 4.515625 -0.046875 5.046875 -0.828125 L 5.046875 0 L 5.9375 0 Z M 3.1875 -5.53125 C 4.265625 -5.53125 4.9375 -4.578125 4.9375 -3.078125 C 4.9375 -1.625 4.25 -0.65625 3.1875 -0.65625 C 2.09375 -0.65625 1.359375 -1.625 1.359375 -3.09375 C 1.359375 -4.5625 2.09375 -5.53125 3.1875 -5.53125 Z \"/>\n",
       "</symbol>\n",
       "<symbol overflow=\"visible\" id=\"glyph1-2\">\n",
       "<path style=\"stroke:none;\" d=\"M 6.421875 -0.59375 C 6.3125 -0.5625 6.265625 -0.5625 6.203125 -0.5625 C 5.859375 -0.5625 5.65625 -0.75 5.65625 -1.0625 L 5.65625 -4.75 C 5.65625 -5.875 4.84375 -6.46875 3.296875 -6.46875 C 2.390625 -6.46875 1.625 -6.203125 1.21875 -5.734375 C 0.921875 -5.40625 0.796875 -5.046875 0.78125 -4.421875 L 1.78125 -4.421875 C 1.875 -5.203125 2.328125 -5.546875 3.265625 -5.546875 C 4.15625 -5.546875 4.671875 -5.203125 4.671875 -4.609375 L 4.671875 -4.34375 C 4.671875 -3.921875 4.421875 -3.75 3.625 -3.640625 C 2.203125 -3.46875 1.984375 -3.421875 1.609375 -3.265625 C 0.875 -2.96875 0.5 -2.40625 0.5 -1.578125 C 0.5 -0.4375 1.296875 0.28125 2.5625 0.28125 C 3.359375 0.28125 4 0 4.703125 -0.640625 C 4.78125 -0.015625 5.09375 0.28125 5.734375 0.28125 C 5.9375 0.28125 6.09375 0.25 6.421875 0.171875 Z M 4.671875 -1.984375 C 4.671875 -1.640625 4.578125 -1.4375 4.265625 -1.15625 C 3.859375 -0.796875 3.375 -0.59375 2.78125 -0.59375 C 2 -0.59375 1.546875 -0.96875 1.546875 -1.609375 C 1.546875 -2.265625 1.984375 -2.609375 3.0625 -2.765625 C 4.109375 -2.90625 4.328125 -2.953125 4.671875 -3.109375 Z \"/>\n",
       "</symbol>\n",
       "<symbol overflow=\"visible\" id=\"glyph1-3\">\n",
       "<path style=\"stroke:none;\" d=\"M 3.046875 -6.28125 L 2.015625 -6.28125 L 2.015625 -8.015625 L 1.015625 -8.015625 L 1.015625 -6.28125 L 0.171875 -6.28125 L 0.171875 -5.46875 L 1.015625 -5.46875 L 1.015625 -0.71875 C 1.015625 -0.078125 1.453125 0.28125 2.234375 0.28125 C 2.46875 0.28125 2.71875 0.25 3.046875 0.1875 L 3.046875 -0.640625 C 2.921875 -0.609375 2.765625 -0.59375 2.5625 -0.59375 C 2.140625 -0.59375 2.015625 -0.71875 2.015625 -1.15625 L 2.015625 -5.46875 L 3.046875 -5.46875 Z \"/>\n",
       "</symbol>\n",
       "<symbol overflow=\"visible\" id=\"glyph1-4\">\n",
       "<path style=\"stroke:none;\" d=\"M 2.921875 -9.234375 L 2.921875 -8.59375 C 1.375 -8.40625 0.546875 -7.5625 0.546875 -6.1875 C 0.546875 -5.4375 0.84375 -4.84375 1.40625 -4.4375 C 1.71875 -4.21875 2.046875 -4.078125 2.921875 -3.8125 L 2.921875 -0.546875 C 2.375 -0.625 1.921875 -0.859375 1.640625 -1.234375 C 1.46875 -1.515625 1.421875 -1.71875 1.34375 -2.5 L 0.390625 -2.5 C 0.3125 -0.828125 1.21875 0.171875 2.921875 0.28125 L 2.921875 1.515625 L 3.625 1.515625 L 3.625 0.28125 C 4.265625 0.234375 4.71875 0.09375 5.109375 -0.140625 C 5.8125 -0.578125 6.21875 -1.40625 6.21875 -2.34375 C 6.21875 -3.1875 5.890625 -3.796875 5.203125 -4.1875 C 4.890625 -4.375 4.734375 -4.421875 3.625 -4.765625 L 3.625 -7.75 C 4.421875 -7.71875 4.984375 -7.109375 5 -6.234375 L 5.953125 -6.234375 C 5.953125 -7.59375 5.078125 -8.484375 3.625 -8.59375 L 3.625 -9.234375 Z M 2.921875 -4.859375 C 1.96875 -5.109375 1.53125 -5.578125 1.53125 -6.3125 C 1.53125 -7.109375 2.03125 -7.625 2.921875 -7.734375 Z M 3.625 -3.703125 C 4.84375 -3.34375 5.234375 -2.984375 5.234375 -2.203125 C 5.234375 -1.734375 5.046875 -1.3125 4.734375 -1 C 4.4375 -0.71875 4.140625 -0.609375 3.625 -0.546875 Z \"/>\n",
       "</symbol>\n",
       "<symbol overflow=\"visible\" id=\"glyph1-5\">\n",
       "<path style=\"stroke:none;\" d=\"M 0.953125 0 L 4.890625 0 C 5.71875 0 6.34375 -0.234375 6.796875 -0.734375 C 7.234375 -1.1875 7.46875 -1.8125 7.46875 -2.5 C 7.46875 -3.546875 7 -4.1875 5.875 -4.625 C 6.671875 -4.984375 7.09375 -5.640625 7.09375 -6.53125 C 7.09375 -7.15625 6.859375 -7.734375 6.390625 -8.140625 C 5.9375 -8.5625 5.34375 -8.75 4.5 -8.75 L 0.953125 -8.75 Z M 2.0625 -4.984375 L 2.0625 -7.765625 L 4.21875 -7.765625 C 4.84375 -7.765625 5.203125 -7.6875 5.5 -7.453125 C 5.8125 -7.21875 5.96875 -6.859375 5.96875 -6.375 C 5.96875 -5.90625 5.8125 -5.53125 5.5 -5.296875 C 5.203125 -5.0625 4.84375 -4.984375 4.21875 -4.984375 Z M 2.0625 -0.984375 L 2.0625 -4 L 4.78125 -4 C 5.328125 -4 5.6875 -3.859375 5.953125 -3.578125 C 6.21875 -3.296875 6.359375 -2.921875 6.359375 -2.484375 C 6.359375 -2.0625 6.21875 -1.6875 5.953125 -1.40625 C 5.6875 -1.109375 5.328125 -0.984375 4.78125 -0.984375 Z \"/>\n",
       "</symbol>\n",
       "<symbol overflow=\"visible\" id=\"glyph1-6\">\n",
       "<path style=\"stroke:none;\" d=\"M 5.609375 0 L 8.078125 -7.328125 L 8.078125 0 L 9.125 0 L 9.125 -8.75 L 7.578125 -8.75 L 5.046875 -1.125 L 2.453125 -8.75 L 0.90625 -8.75 L 0.90625 0 L 1.953125 0 L 1.953125 -7.328125 L 4.4375 0 Z \"/>\n",
       "</symbol>\n",
       "<symbol overflow=\"visible\" id=\"glyph1-7\">\n",
       "<path style=\"stroke:none;\" d=\"M 2.328125 -8.75 L 1.203125 -8.75 L 1.203125 0 L 2.328125 0 Z \"/>\n",
       "</symbol>\n",
       "<symbol overflow=\"visible\" id=\"glyph2-0\">\n",
       "<path style=\"stroke:none;\" d=\"\"/>\n",
       "</symbol>\n",
       "<symbol overflow=\"visible\" id=\"glyph2-1\">\n",
       "<path style=\"stroke:none;\" d=\"M -8.75 -5.9375 L -8.75 -4.9375 L -5.5 -4.9375 C -6.125 -4.53125 -6.46875 -3.859375 -6.46875 -3.015625 C -6.46875 -1.375 -5.15625 -0.3125 -3.15625 -0.3125 C -1.03125 -0.3125 0.28125 -1.359375 0.28125 -3.046875 C 0.28125 -3.90625 -0.046875 -4.515625 -0.828125 -5.046875 L 0 -5.046875 L 0 -5.9375 Z M -5.53125 -3.1875 C -5.53125 -4.265625 -4.578125 -4.9375 -3.078125 -4.9375 C -1.625 -4.9375 -0.65625 -4.25 -0.65625 -3.1875 C -0.65625 -2.09375 -1.625 -1.359375 -3.09375 -1.359375 C -4.5625 -1.359375 -5.53125 -2.09375 -5.53125 -3.1875 Z \"/>\n",
       "</symbol>\n",
       "<symbol overflow=\"visible\" id=\"glyph2-2\">\n",
       "<path style=\"stroke:none;\" d=\"M -0.59375 -6.421875 C -0.5625 -6.3125 -0.5625 -6.265625 -0.5625 -6.203125 C -0.5625 -5.859375 -0.75 -5.65625 -1.0625 -5.65625 L -4.75 -5.65625 C -5.875 -5.65625 -6.46875 -4.84375 -6.46875 -3.296875 C -6.46875 -2.390625 -6.203125 -1.625 -5.734375 -1.21875 C -5.40625 -0.921875 -5.046875 -0.796875 -4.421875 -0.78125 L -4.421875 -1.78125 C -5.203125 -1.875 -5.546875 -2.328125 -5.546875 -3.265625 C -5.546875 -4.15625 -5.203125 -4.671875 -4.609375 -4.671875 L -4.34375 -4.671875 C -3.921875 -4.671875 -3.75 -4.421875 -3.640625 -3.625 C -3.46875 -2.203125 -3.421875 -1.984375 -3.265625 -1.609375 C -2.96875 -0.875 -2.40625 -0.5 -1.578125 -0.5 C -0.4375 -0.5 0.28125 -1.296875 0.28125 -2.5625 C 0.28125 -3.359375 0 -4 -0.640625 -4.703125 C -0.015625 -4.78125 0.28125 -5.09375 0.28125 -5.734375 C 0.28125 -5.9375 0.25 -6.09375 0.171875 -6.421875 Z M -1.984375 -4.671875 C -1.640625 -4.671875 -1.4375 -4.578125 -1.15625 -4.265625 C -0.796875 -3.859375 -0.59375 -3.375 -0.59375 -2.78125 C -0.59375 -2 -0.96875 -1.546875 -1.609375 -1.546875 C -2.265625 -1.546875 -2.609375 -1.984375 -2.765625 -3.0625 C -2.90625 -4.109375 -2.953125 -4.328125 -3.109375 -4.671875 Z \"/>\n",
       "</symbol>\n",
       "<symbol overflow=\"visible\" id=\"glyph2-3\">\n",
       "<path style=\"stroke:none;\" d=\"M -6.28125 -3.046875 L -6.28125 -2.015625 L -8.015625 -2.015625 L -8.015625 -1.015625 L -6.28125 -1.015625 L -6.28125 -0.171875 L -5.46875 -0.171875 L -5.46875 -1.015625 L -0.71875 -1.015625 C -0.078125 -1.015625 0.28125 -1.453125 0.28125 -2.234375 C 0.28125 -2.46875 0.25 -2.71875 0.1875 -3.046875 L -0.640625 -3.046875 C -0.609375 -2.921875 -0.59375 -2.765625 -0.59375 -2.5625 C -0.59375 -2.140625 -0.71875 -2.015625 -1.15625 -2.015625 L -5.46875 -2.015625 L -5.46875 -3.046875 Z \"/>\n",
       "</symbol>\n",
       "<symbol overflow=\"visible\" id=\"glyph2-4\">\n",
       "<path style=\"stroke:none;\" d=\"M -9.234375 -2.921875 L -8.59375 -2.921875 C -8.40625 -1.375 -7.5625 -0.546875 -6.1875 -0.546875 C -5.4375 -0.546875 -4.84375 -0.84375 -4.4375 -1.40625 C -4.21875 -1.71875 -4.078125 -2.046875 -3.8125 -2.921875 L -0.546875 -2.921875 C -0.625 -2.375 -0.859375 -1.921875 -1.234375 -1.640625 C -1.515625 -1.46875 -1.71875 -1.421875 -2.5 -1.34375 L -2.5 -0.390625 C -0.828125 -0.3125 0.171875 -1.21875 0.28125 -2.921875 L 1.515625 -2.921875 L 1.515625 -3.625 L 0.28125 -3.625 C 0.234375 -4.265625 0.09375 -4.71875 -0.140625 -5.109375 C -0.578125 -5.8125 -1.40625 -6.21875 -2.34375 -6.21875 C -3.1875 -6.21875 -3.796875 -5.890625 -4.1875 -5.203125 C -4.375 -4.890625 -4.421875 -4.734375 -4.765625 -3.625 L -7.75 -3.625 C -7.71875 -4.421875 -7.109375 -4.984375 -6.234375 -5 L -6.234375 -5.953125 C -7.59375 -5.953125 -8.484375 -5.078125 -8.59375 -3.625 L -9.234375 -3.625 Z M -4.859375 -2.921875 C -5.109375 -1.96875 -5.578125 -1.53125 -6.3125 -1.53125 C -7.109375 -1.53125 -7.625 -2.03125 -7.734375 -2.921875 Z M -3.703125 -3.625 C -3.34375 -4.84375 -2.984375 -5.234375 -2.203125 -5.234375 C -1.734375 -5.234375 -1.3125 -5.046875 -1 -4.734375 C -0.71875 -4.4375 -0.609375 -4.140625 -0.546875 -3.625 Z \"/>\n",
       "</symbol>\n",
       "<symbol overflow=\"visible\" id=\"glyph2-5\">\n",
       "<path style=\"stroke:none;\" d=\"M -3.4375 -4.640625 L -8.75 -7.9375 L -8.75 -6.59375 L -4.484375 -4.109375 L -8.75 -1.53125 L -8.75 -0.15625 L -3.4375 -3.53125 L 0 -3.53125 L 0 -4.640625 Z \"/>\n",
       "</symbol>\n",
       "</g>\n",
       "<clipPath id=\"clip1\">\n",
       "  <path d=\"M 47.488281 14.398438 L 490 14.398438 L 490 467 L 47.488281 467 Z \"/>\n",
       "</clipPath>\n",
       "<clipPath id=\"clip2\">\n",
       "  <path d=\"M 47.488281 413 L 490 413 L 490 415 L 47.488281 415 Z \"/>\n",
       "</clipPath>\n",
       "<clipPath id=\"clip3\">\n",
       "  <path d=\"M 47.488281 285 L 490 285 L 490 287 L 47.488281 287 Z \"/>\n",
       "</clipPath>\n",
       "<clipPath id=\"clip4\">\n",
       "  <path d=\"M 47.488281 157 L 490 157 L 490 159 L 47.488281 159 Z \"/>\n",
       "</clipPath>\n",
       "<clipPath id=\"clip5\">\n",
       "  <path d=\"M 47.488281 29 L 490 29 L 490 31 L 47.488281 31 Z \"/>\n",
       "</clipPath>\n",
       "<clipPath id=\"clip6\">\n",
       "  <path d=\"M 59 14.398438 L 60 14.398438 L 60 467 L 59 467 Z \"/>\n",
       "</clipPath>\n",
       "<clipPath id=\"clip7\">\n",
       "  <path d=\"M 142 14.398438 L 143 14.398438 L 143 467 L 142 467 Z \"/>\n",
       "</clipPath>\n",
       "<clipPath id=\"clip8\">\n",
       "  <path d=\"M 225 14.398438 L 226 14.398438 L 226 467 L 225 467 Z \"/>\n",
       "</clipPath>\n",
       "<clipPath id=\"clip9\">\n",
       "  <path d=\"M 308 14.398438 L 309 14.398438 L 309 467 L 308 467 Z \"/>\n",
       "</clipPath>\n",
       "<clipPath id=\"clip10\">\n",
       "  <path d=\"M 391 14.398438 L 392 14.398438 L 392 467 L 391 467 Z \"/>\n",
       "</clipPath>\n",
       "<clipPath id=\"clip11\">\n",
       "  <path d=\"M 474 14.398438 L 475 14.398438 L 475 467 L 474 467 Z \"/>\n",
       "</clipPath>\n",
       "<clipPath id=\"clip12\">\n",
       "  <path d=\"M 47.488281 349 L 490.601562 349 L 490.601562 351 L 47.488281 351 Z \"/>\n",
       "</clipPath>\n",
       "<clipPath id=\"clip13\">\n",
       "  <path d=\"M 47.488281 221 L 490.601562 221 L 490.601562 223 L 47.488281 223 Z \"/>\n",
       "</clipPath>\n",
       "<clipPath id=\"clip14\">\n",
       "  <path d=\"M 47.488281 93 L 490.601562 93 L 490.601562 95 L 47.488281 95 Z \"/>\n",
       "</clipPath>\n",
       "<clipPath id=\"clip15\">\n",
       "  <path d=\"M 100 14.398438 L 102 14.398438 L 102 467.511719 L 100 467.511719 Z \"/>\n",
       "</clipPath>\n",
       "<clipPath id=\"clip16\">\n",
       "  <path d=\"M 183 14.398438 L 185 14.398438 L 185 467.511719 L 183 467.511719 Z \"/>\n",
       "</clipPath>\n",
       "<clipPath id=\"clip17\">\n",
       "  <path d=\"M 266 14.398438 L 268 14.398438 L 268 467.511719 L 266 467.511719 Z \"/>\n",
       "</clipPath>\n",
       "<clipPath id=\"clip18\">\n",
       "  <path d=\"M 349 14.398438 L 351 14.398438 L 351 467.511719 L 349 467.511719 Z \"/>\n",
       "</clipPath>\n",
       "<clipPath id=\"clip19\">\n",
       "  <path d=\"M 432 14.398438 L 434 14.398438 L 434 467.511719 L 432 467.511719 Z \"/>\n",
       "</clipPath>\n",
       "</defs>\n",
       "<g id=\"surface211\">\n",
       "<rect x=\"0\" y=\"0\" width=\"504\" height=\"504\" style=\"fill:rgb(100%,100%,100%);fill-opacity:1;stroke:none;\"/>\n",
       "<rect x=\"0\" y=\"0\" width=\"504\" height=\"504\" style=\"fill:rgb(100%,100%,100%);fill-opacity:1;stroke:none;\"/>\n",
       "<path style=\"fill:none;stroke-width:1.062992;stroke-linecap:round;stroke-linejoin:round;stroke:rgb(100%,100%,100%);stroke-opacity:1;stroke-miterlimit:10;\" d=\"M 0 504 L 504 504 L 504 0 L 0 0 Z \"/>\n",
       "<g clip-path=\"url(#clip1)\" clip-rule=\"nonzero\">\n",
       "<path style=\" stroke:none;fill-rule:nonzero;fill:rgb(89.803922%,89.803922%,89.803922%);fill-opacity:1;\" d=\"M 47.488281 466.511719 L 489.601562 466.511719 L 489.601562 14.398438 L 47.488281 14.398438 Z \"/>\n",
       "</g>\n",
       "<g clip-path=\"url(#clip2)\" clip-rule=\"nonzero\">\n",
       "<path style=\"fill:none;stroke-width:0.531496;stroke-linecap:butt;stroke-linejoin:round;stroke:rgb(94.901961%,94.901961%,94.901961%);stroke-opacity:1;stroke-miterlimit:10;\" d=\"M 47.488281 413.953125 L 489.601562 413.953125 \"/>\n",
       "</g>\n",
       "<g clip-path=\"url(#clip3)\" clip-rule=\"nonzero\">\n",
       "<path style=\"fill:none;stroke-width:0.531496;stroke-linecap:butt;stroke-linejoin:round;stroke:rgb(94.901961%,94.901961%,94.901961%);stroke-opacity:1;stroke-miterlimit:10;\" d=\"M 47.488281 285.910156 L 489.601562 285.910156 \"/>\n",
       "</g>\n",
       "<g clip-path=\"url(#clip4)\" clip-rule=\"nonzero\">\n",
       "<path style=\"fill:none;stroke-width:0.531496;stroke-linecap:butt;stroke-linejoin:round;stroke:rgb(94.901961%,94.901961%,94.901961%);stroke-opacity:1;stroke-miterlimit:10;\" d=\"M 47.488281 157.871094 L 489.601562 157.871094 \"/>\n",
       "</g>\n",
       "<g clip-path=\"url(#clip5)\" clip-rule=\"nonzero\">\n",
       "<path style=\"fill:none;stroke-width:0.531496;stroke-linecap:butt;stroke-linejoin:round;stroke:rgb(94.901961%,94.901961%,94.901961%);stroke-opacity:1;stroke-miterlimit:10;\" d=\"M 47.488281 29.828125 L 489.601562 29.828125 \"/>\n",
       "</g>\n",
       "<g clip-path=\"url(#clip6)\" clip-rule=\"nonzero\">\n",
       "<path style=\"fill:none;stroke-width:0.531496;stroke-linecap:butt;stroke-linejoin:round;stroke:rgb(94.901961%,94.901961%,94.901961%);stroke-opacity:1;stroke-miterlimit:10;\" d=\"M 59.277344 466.511719 L 59.277344 14.398438 \"/>\n",
       "</g>\n",
       "<g clip-path=\"url(#clip7)\" clip-rule=\"nonzero\">\n",
       "<path style=\"fill:none;stroke-width:0.531496;stroke-linecap:butt;stroke-linejoin:round;stroke:rgb(94.901961%,94.901961%,94.901961%);stroke-opacity:1;stroke-miterlimit:10;\" d=\"M 142.320312 466.511719 L 142.320312 14.398438 \"/>\n",
       "</g>\n",
       "<g clip-path=\"url(#clip8)\" clip-rule=\"nonzero\">\n",
       "<path style=\"fill:none;stroke-width:0.531496;stroke-linecap:butt;stroke-linejoin:round;stroke:rgb(94.901961%,94.901961%,94.901961%);stroke-opacity:1;stroke-miterlimit:10;\" d=\"M 225.363281 466.511719 L 225.363281 14.398438 \"/>\n",
       "</g>\n",
       "<g clip-path=\"url(#clip9)\" clip-rule=\"nonzero\">\n",
       "<path style=\"fill:none;stroke-width:0.531496;stroke-linecap:butt;stroke-linejoin:round;stroke:rgb(94.901961%,94.901961%,94.901961%);stroke-opacity:1;stroke-miterlimit:10;\" d=\"M 308.402344 466.511719 L 308.402344 14.398438 \"/>\n",
       "</g>\n",
       "<g clip-path=\"url(#clip10)\" clip-rule=\"nonzero\">\n",
       "<path style=\"fill:none;stroke-width:0.531496;stroke-linecap:butt;stroke-linejoin:round;stroke:rgb(94.901961%,94.901961%,94.901961%);stroke-opacity:1;stroke-miterlimit:10;\" d=\"M 391.445312 466.511719 L 391.445312 14.398438 \"/>\n",
       "</g>\n",
       "<g clip-path=\"url(#clip11)\" clip-rule=\"nonzero\">\n",
       "<path style=\"fill:none;stroke-width:0.531496;stroke-linecap:butt;stroke-linejoin:round;stroke:rgb(94.901961%,94.901961%,94.901961%);stroke-opacity:1;stroke-miterlimit:10;\" d=\"M 474.488281 466.511719 L 474.488281 14.398438 \"/>\n",
       "</g>\n",
       "<g clip-path=\"url(#clip12)\" clip-rule=\"nonzero\">\n",
       "<path style=\"fill:none;stroke-width:1.062992;stroke-linecap:butt;stroke-linejoin:round;stroke:rgb(100%,100%,100%);stroke-opacity:1;stroke-miterlimit:10;\" d=\"M 47.488281 349.933594 L 489.601562 349.933594 \"/>\n",
       "</g>\n",
       "<g clip-path=\"url(#clip13)\" clip-rule=\"nonzero\">\n",
       "<path style=\"fill:none;stroke-width:1.062992;stroke-linecap:butt;stroke-linejoin:round;stroke:rgb(100%,100%,100%);stroke-opacity:1;stroke-miterlimit:10;\" d=\"M 47.488281 221.890625 L 489.601562 221.890625 \"/>\n",
       "</g>\n",
       "<g clip-path=\"url(#clip14)\" clip-rule=\"nonzero\">\n",
       "<path style=\"fill:none;stroke-width:1.062992;stroke-linecap:butt;stroke-linejoin:round;stroke:rgb(100%,100%,100%);stroke-opacity:1;stroke-miterlimit:10;\" d=\"M 47.488281 93.847656 L 489.601562 93.847656 \"/>\n",
       "</g>\n",
       "<g clip-path=\"url(#clip15)\" clip-rule=\"nonzero\">\n",
       "<path style=\"fill:none;stroke-width:1.062992;stroke-linecap:butt;stroke-linejoin:round;stroke:rgb(100%,100%,100%);stroke-opacity:1;stroke-miterlimit:10;\" d=\"M 100.800781 466.511719 L 100.800781 14.398438 \"/>\n",
       "</g>\n",
       "<g clip-path=\"url(#clip16)\" clip-rule=\"nonzero\">\n",
       "<path style=\"fill:none;stroke-width:1.062992;stroke-linecap:butt;stroke-linejoin:round;stroke:rgb(100%,100%,100%);stroke-opacity:1;stroke-miterlimit:10;\" d=\"M 183.839844 466.511719 L 183.839844 14.398438 \"/>\n",
       "</g>\n",
       "<g clip-path=\"url(#clip17)\" clip-rule=\"nonzero\">\n",
       "<path style=\"fill:none;stroke-width:1.062992;stroke-linecap:butt;stroke-linejoin:round;stroke:rgb(100%,100%,100%);stroke-opacity:1;stroke-miterlimit:10;\" d=\"M 266.882812 466.511719 L 266.882812 14.398438 \"/>\n",
       "</g>\n",
       "<g clip-path=\"url(#clip18)\" clip-rule=\"nonzero\">\n",
       "<path style=\"fill:none;stroke-width:1.062992;stroke-linecap:butt;stroke-linejoin:round;stroke:rgb(100%,100%,100%);stroke-opacity:1;stroke-miterlimit:10;\" d=\"M 349.925781 466.511719 L 349.925781 14.398438 \"/>\n",
       "</g>\n",
       "<g clip-path=\"url(#clip19)\" clip-rule=\"nonzero\">\n",
       "<path style=\"fill:none;stroke-width:1.062992;stroke-linecap:butt;stroke-linejoin:round;stroke:rgb(100%,100%,100%);stroke-opacity:1;stroke-miterlimit:10;\" d=\"M 432.964844 466.511719 L 432.964844 14.398438 \"/>\n",
       "</g>\n",
       "<path style=\"fill:none;stroke-width:1.062992;stroke-linecap:butt;stroke-linejoin:round;stroke:rgb(0%,0%,0%);stroke-opacity:1;stroke-miterlimit:1;\" d=\"M 67.582031 357.613281 L 69.242188 344.808594 L 75.886719 362.734375 L 77.546875 348.652344 L 80.871094 369.136719 L 80.871094 412.671875 L 82.53125 385.785156 L 84.191406 348.652344 L 87.511719 302.558594 L 87.511719 329.445312 L 89.171875 306.398438 L 90.835938 407.550781 L 92.496094 416.511719 L 94.15625 296.15625 L 94.15625 404.988281 L 95.816406 379.382812 L 97.476562 415.234375 L 99.136719 416.511719 L 99.136719 275.667969 L 99.136719 397.308594 L 100.800781 385.785156 L 102.460938 407.550781 L 104.121094 402.429688 L 104.121094 376.820312 L 104.121094 379.382812 L 105.78125 402.429688 L 105.78125 203.964844 L 105.78125 282.070312 L 107.441406 260.304688 L 107.441406 371.699219 L 109.101562 394.746094 L 109.101562 430.597656 L 110.765625 330.726562 L 110.765625 420.355469 L 112.425781 351.210938 L 112.425781 364.015625 L 114.085938 388.34375 L 114.085938 385.785156 L 115.746094 367.859375 L 115.746094 396.027344 L 117.40625 155.308594 L 117.40625 397.308594 L 119.070312 390.90625 L 119.070312 243.65625 L 120.730469 428.035156 L 120.730469 305.117188 L 120.730469 338.40625 L 122.390625 294.875 L 122.390625 424.195312 L 124.050781 371.699219 L 125.710938 246.21875 L 127.371094 381.941406 L 129.035156 366.578125 L 129.035156 235.976562 L 130.695312 314.082031 L 132.355469 335.847656 L 132.355469 355.054688 L 134.015625 301.277344 L 134.015625 221.890625 L 134.015625 385.785156 L 135.675781 250.058594 L 135.675781 385.785156 L 135.675781 379.382812 L 135.675781 417.792969 L 135.675781 332.007812 L 135.675781 389.625 L 137.335938 347.371094 L 137.335938 362.734375 L 137.335938 358.894531 L 139 387.0625 L 140.660156 396.027344 L 142.320312 381.941406 L 142.320312 241.097656 L 142.320312 346.089844 L 143.980469 353.773438 L 143.980469 424.195312 L 143.980469 283.351562 L 145.640625 394.746094 L 145.640625 319.203125 L 145.640625 361.457031 L 147.300781 315.359375 L 147.300781 358.894531 L 147.300781 154.027344 L 147.300781 426.757812 L 148.964844 314.082031 L 148.964844 333.285156 L 148.964844 312.800781 L 150.625 305.117188 L 150.625 221.890625 L 150.625 413.953125 L 150.625 347.371094 L 152.285156 410.109375 L 152.285156 411.390625 L 152.285156 241.097656 L 152.285156 317.921875 L 153.945312 234.695312 L 153.945312 324.324219 L 155.605469 370.417969 L 155.605469 394.746094 L 155.605469 203.964844 L 155.605469 408.832031 L 155.605469 262.863281 L 155.605469 357.613281 L 157.269531 410.109375 L 157.269531 344.808594 L 157.269531 378.101562 L 157.269531 366.578125 L 158.929688 347.371094 L 158.929688 424.195312 L 158.929688 280.789062 L 158.929688 407.550781 L 158.929688 257.742188 L 158.929688 422.914062 L 158.929688 393.464844 L 160.589844 273.105469 L 160.589844 389.625 L 160.589844 326.882812 L 162.25 248.78125 L 163.910156 210.367188 L 165.570312 283.351562 L 167.234375 326.882812 L 167.234375 260.304688 L 167.234375 387.0625 L 167.234375 155.308594 L 167.234375 383.222656 L 167.234375 223.171875 L 168.894531 269.265625 L 168.894531 393.464844 L 168.894531 221.890625 L 168.894531 403.710938 L 168.894531 337.128906 L 168.894531 370.417969 L 170.554688 360.175781 L 170.554688 285.910156 L 170.554688 387.0625 L 170.554688 293.59375 L 170.554688 396.027344 L 172.214844 415.234375 L 172.214844 278.230469 L 172.214844 370.417969 L 173.875 310.238281 L 173.875 118.175781 L 173.875 340.96875 L 175.535156 417.792969 L 175.535156 169.394531 L 175.535156 353.773438 L 175.535156 288.472656 L 177.199219 203.964844 L 177.199219 197.5625 L 178.859375 259.023438 L 178.859375 379.382812 L 180.519531 362.734375 L 180.519531 375.539062 L 182.179688 344.808594 L 182.179688 284.632812 L 182.179688 410.109375 L 182.179688 344.808594 L 183.839844 353.773438 L 183.839844 319.203125 L 185.5 371.699219 L 185.5 201.402344 L 187.164062 219.328125 L 187.164062 104.09375 L 187.164062 361.457031 L 188.824219 214.207031 L 188.824219 357.613281 L 188.824219 221.890625 L 188.824219 246.21875 L 190.484375 399.867188 L 190.484375 248.78125 L 190.484375 445.960938 L 190.484375 262.863281 L 192.144531 402.429688 L 192.144531 148.90625 L 192.144531 401.148438 L 192.144531 225.730469 L 193.804688 349.933594 L 193.804688 271.828125 L 193.804688 374.257812 L 193.804688 251.339844 L 193.804688 438.28125 L 193.804688 310.238281 L 195.464844 279.507812 L 195.464844 411.390625 L 195.464844 160.429688 L 195.464844 356.332031 L 195.464844 244.9375 L 197.128906 115.617188 L 197.128906 306.398438 L 197.128906 197.5625 L 197.128906 267.984375 L 197.128906 142.503906 L 198.789062 360.175781 L 198.789062 316.640625 L 198.789062 329.445312 L 198.789062 183.476562 L 200.449219 390.90625 L 200.449219 399.867188 L 200.449219 219.328125 L 200.449219 365.296875 L 200.449219 224.453125 L 202.109375 297.433594 L 202.109375 299.996094 L 202.109375 200.125 L 203.769531 397.308594 L 203.769531 241.097656 L 203.769531 421.636719 L 205.433594 104.09375 L 205.433594 333.285156 L 207.09375 146.347656 L 208.753906 184.757812 L 208.753906 412.671875 L 208.753906 147.625 L 208.753906 415.234375 L 210.414062 369.136719 L 210.414062 164.273438 L 212.074219 312.800781 L 212.074219 384.503906 L 213.734375 293.59375 L 213.734375 416.511719 L 213.734375 221.890625 L 213.734375 340.96875 L 213.734375 233.414062 L 215.398438 401.148438 L 215.398438 79.765625 L 215.398438 392.183594 L 217.058594 123.300781 L 217.058594 392.183594 L 217.058594 244.9375 L 217.058594 338.40625 L 217.058594 310.238281 L 220.378906 315.359375 L 220.378906 255.179688 L 222.039062 209.085938 L 222.039062 285.910156 L 222.039062 177.078125 L 223.699219 124.578125 L 223.699219 335.847656 L 225.363281 293.59375 L 225.363281 294.875 L 225.363281 177.078125 L 228.683594 362.734375 L 228.683594 97.691406 L 228.683594 326.882812 L 228.683594 196.28125 L 230.34375 355.054688 L 230.34375 168.113281 L 232.003906 189.878906 L 232.003906 134.824219 L 232.003906 206.527344 L 233.664062 389.625 L 233.664062 256.460938 L 233.664062 299.996094 L 235.328125 138.664062 L 235.328125 333.285156 L 235.328125 128.421875 L 236.988281 174.515625 L 236.988281 142.503906 L 236.988281 250.058594 L 238.648438 162.992188 L 238.648438 225.730469 L 238.648438 118.175781 L 240.308594 250.058594 L 241.96875 138.664062 L 241.96875 180.917969 L 243.628906 323.042969 L 243.628906 138.664062 L 245.292969 244.9375 L 245.292969 321.761719 L 246.953125 227.011719 L 246.953125 115.617188 L 246.953125 411.390625 L 248.613281 189.878906 L 250.273438 260.304688 L 250.273438 91.289062 L 250.273438 292.3125 L 253.597656 257.742188 L 253.597656 193.722656 L 253.597656 321.761719 L 253.597656 165.550781 L 255.257812 98.972656 L 256.917969 211.648438 L 258.578125 132.261719 L 258.578125 285.910156 L 258.578125 224.453125 L 260.238281 370.417969 L 260.238281 175.796875 L 261.898438 160.429688 L 263.5625 388.34375 L 263.5625 362.734375 L 265.222656 264.144531 L 266.882812 81.046875 L 266.882812 369.136719 L 266.882812 196.28125 L 268.542969 279.507812 L 268.542969 247.5 L 268.542969 289.753906 L 270.203125 411.390625 L 270.203125 224.453125 L 271.863281 265.425781 L 271.863281 302.558594 L 273.527344 346.089844 L 273.527344 228.292969 L 275.1875 297.433594 L 275.1875 312.800781 L 276.847656 180.917969 L 276.847656 219.328125 L 276.847656 129.699219 L 276.847656 253.902344 L 278.507812 255.179688 L 278.507812 351.210938 L 280.167969 72.082031 L 280.167969 147.625 L 283.492188 293.59375 L 283.492188 119.457031 L 283.492188 195.003906 L 286.8125 267.984375 L 286.8125 183.476562 L 288.472656 269.265625 L 290.132812 296.15625 L 290.132812 102.8125 L 291.796875 390.90625 L 293.457031 129.699219 L 293.457031 81.046875 L 296.777344 125.859375 L 296.777344 303.835938 L 298.4375 369.136719 L 298.4375 134.824219 L 298.4375 361.457031 L 300.097656 164.273438 L 300.097656 239.816406 L 300.097656 166.832031 L 300.097656 308.957031 L 301.761719 284.632812 L 301.761719 337.128906 L 301.761719 118.175781 L 301.761719 168.113281 L 305.082031 200.125 L 306.742188 356.332031 L 306.742188 338.40625 L 310.0625 378.101562 L 311.726562 146.347656 L 311.726562 323.042969 L 313.386719 196.28125 L 313.386719 123.300781 L 315.046875 109.214844 L 316.707031 155.308594 L 316.707031 100.25 L 316.707031 407.550781 L 318.367188 310.238281 L 320.027344 125.859375 L 321.691406 125.859375 L 325.011719 52.875 L 326.671875 179.636719 L 329.992188 148.90625 L 331.65625 247.5 L 338.296875 86.167969 L 338.296875 143.785156 L 343.28125 120.738281 L 343.28125 139.945312 L 343.28125 81.046875 L 349.925781 314.082031 L 349.925781 221.890625 L 349.925781 298.714844 L 351.585938 141.226562 L 354.90625 127.140625 L 356.566406 125.859375 L 358.226562 166.832031 L 368.191406 132.261719 L 368.191406 66.960938 L 376.496094 147.625 L 378.15625 47.753906 L 383.140625 174.515625 L 396.425781 118.175781 L 399.75 41.351562 L 403.070312 83.605469 L 404.730469 146.347656 L 418.019531 179.636719 L 454.554688 34.949219 L 469.503906 168.113281 \"/>\n",
       "<g style=\"fill:rgb(49.803922%,49.803922%,49.803922%);fill-opacity:1;\">\n",
       "  <use xlink:href=\"#glyph0-1\" x=\"23.398438\" y=\"352.581055\"/>\n",
       "  <use xlink:href=\"#glyph0-2\" x=\"28.732422\" y=\"352.581055\"/>\n",
       "  <use xlink:href=\"#glyph0-2\" x=\"34.066406\" y=\"352.581055\"/>\n",
       "</g>\n",
       "<g style=\"fill:rgb(49.803922%,49.803922%,49.803922%);fill-opacity:1;\">\n",
       "  <use xlink:href=\"#glyph0-3\" x=\"23.398438\" y=\"224.538086\"/>\n",
       "  <use xlink:href=\"#glyph0-2\" x=\"28.732422\" y=\"224.538086\"/>\n",
       "  <use xlink:href=\"#glyph0-2\" x=\"34.066406\" y=\"224.538086\"/>\n",
       "</g>\n",
       "<g style=\"fill:rgb(49.803922%,49.803922%,49.803922%);fill-opacity:1;\">\n",
       "  <use xlink:href=\"#glyph0-4\" x=\"23.398438\" y=\"96.495117\"/>\n",
       "  <use xlink:href=\"#glyph0-2\" x=\"28.732422\" y=\"96.495117\"/>\n",
       "  <use xlink:href=\"#glyph0-2\" x=\"34.066406\" y=\"96.495117\"/>\n",
       "</g>\n",
       "<path style=\"fill:none;stroke-width:1.062992;stroke-linecap:butt;stroke-linejoin:round;stroke:rgb(49.803922%,49.803922%,49.803922%);stroke-opacity:1;stroke-miterlimit:10;\" d=\"M 43.234375 349.933594 L 47.488281 349.933594 \"/>\n",
       "<path style=\"fill:none;stroke-width:1.062992;stroke-linecap:butt;stroke-linejoin:round;stroke:rgb(49.803922%,49.803922%,49.803922%);stroke-opacity:1;stroke-miterlimit:10;\" d=\"M 43.234375 221.890625 L 47.488281 221.890625 \"/>\n",
       "<path style=\"fill:none;stroke-width:1.062992;stroke-linecap:butt;stroke-linejoin:round;stroke:rgb(49.803922%,49.803922%,49.803922%);stroke-opacity:1;stroke-miterlimit:10;\" d=\"M 43.234375 93.847656 L 47.488281 93.847656 \"/>\n",
       "<path style=\"fill:none;stroke-width:1.062992;stroke-linecap:butt;stroke-linejoin:round;stroke:rgb(49.803922%,49.803922%,49.803922%);stroke-opacity:1;stroke-miterlimit:10;\" d=\"M 100.800781 470.765625 L 100.800781 466.511719 \"/>\n",
       "<path style=\"fill:none;stroke-width:1.062992;stroke-linecap:butt;stroke-linejoin:round;stroke:rgb(49.803922%,49.803922%,49.803922%);stroke-opacity:1;stroke-miterlimit:10;\" d=\"M 183.839844 470.765625 L 183.839844 466.511719 \"/>\n",
       "<path style=\"fill:none;stroke-width:1.062992;stroke-linecap:butt;stroke-linejoin:round;stroke:rgb(49.803922%,49.803922%,49.803922%);stroke-opacity:1;stroke-miterlimit:10;\" d=\"M 266.882812 470.765625 L 266.882812 466.511719 \"/>\n",
       "<path style=\"fill:none;stroke-width:1.062992;stroke-linecap:butt;stroke-linejoin:round;stroke:rgb(49.803922%,49.803922%,49.803922%);stroke-opacity:1;stroke-miterlimit:10;\" d=\"M 349.925781 470.765625 L 349.925781 466.511719 \"/>\n",
       "<path style=\"fill:none;stroke-width:1.062992;stroke-linecap:butt;stroke-linejoin:round;stroke:rgb(49.803922%,49.803922%,49.803922%);stroke-opacity:1;stroke-miterlimit:10;\" d=\"M 432.964844 470.765625 L 432.964844 466.511719 \"/>\n",
       "<g style=\"fill:rgb(49.803922%,49.803922%,49.803922%);fill-opacity:1;\">\n",
       "  <use xlink:href=\"#glyph0-3\" x=\"95.300781\" y=\"479.749023\"/>\n",
       "  <use xlink:href=\"#glyph0-2\" x=\"100.634766\" y=\"479.749023\"/>\n",
       "</g>\n",
       "<g style=\"fill:rgb(49.803922%,49.803922%,49.803922%);fill-opacity:1;\">\n",
       "  <use xlink:href=\"#glyph0-3\" x=\"178.339844\" y=\"479.749023\"/>\n",
       "  <use xlink:href=\"#glyph0-5\" x=\"183.673828\" y=\"479.749023\"/>\n",
       "</g>\n",
       "<g style=\"fill:rgb(49.803922%,49.803922%,49.803922%);fill-opacity:1;\">\n",
       "  <use xlink:href=\"#glyph0-4\" x=\"261.382812\" y=\"479.749023\"/>\n",
       "  <use xlink:href=\"#glyph0-2\" x=\"266.716797\" y=\"479.749023\"/>\n",
       "</g>\n",
       "<g style=\"fill:rgb(49.803922%,49.803922%,49.803922%);fill-opacity:1;\">\n",
       "  <use xlink:href=\"#glyph0-4\" x=\"344.425781\" y=\"479.749023\"/>\n",
       "  <use xlink:href=\"#glyph0-5\" x=\"349.759766\" y=\"479.749023\"/>\n",
       "</g>\n",
       "<g style=\"fill:rgb(49.803922%,49.803922%,49.803922%);fill-opacity:1;\">\n",
       "  <use xlink:href=\"#glyph0-6\" x=\"427.464844\" y=\"479.749023\"/>\n",
       "  <use xlink:href=\"#glyph0-2\" x=\"432.798828\" y=\"479.749023\"/>\n",
       "</g>\n",
       "<g style=\"fill:rgb(0%,0%,0%);fill-opacity:1;\">\n",
       "  <use xlink:href=\"#glyph1-1\" x=\"242.542969\" y=\"492.634766\"/>\n",
       "  <use xlink:href=\"#glyph1-2\" x=\"249.214844\" y=\"492.634766\"/>\n",
       "  <use xlink:href=\"#glyph1-3\" x=\"255.886719\" y=\"492.634766\"/>\n",
       "  <use xlink:href=\"#glyph1-2\" x=\"259.222656\" y=\"492.634766\"/>\n",
       "  <use xlink:href=\"#glyph1-4\" x=\"265.894531\" y=\"492.634766\"/>\n",
       "  <use xlink:href=\"#glyph1-5\" x=\"272.566406\" y=\"492.634766\"/>\n",
       "  <use xlink:href=\"#glyph1-6\" x=\"280.570312\" y=\"492.634766\"/>\n",
       "  <use xlink:href=\"#glyph1-7\" x=\"290.566406\" y=\"492.634766\"/>\n",
       "</g>\n",
       "<g style=\"fill:rgb(0%,0%,0%);fill-opacity:1;\">\n",
       "  <use xlink:href=\"#glyph2-1\" x=\"19.236328\" y=\"259.957031\"/>\n",
       "  <use xlink:href=\"#glyph2-2\" x=\"19.236328\" y=\"253.285156\"/>\n",
       "  <use xlink:href=\"#glyph2-3\" x=\"19.236328\" y=\"246.613281\"/>\n",
       "  <use xlink:href=\"#glyph2-2\" x=\"19.236328\" y=\"243.277344\"/>\n",
       "  <use xlink:href=\"#glyph2-4\" x=\"19.236328\" y=\"236.605469\"/>\n",
       "  <use xlink:href=\"#glyph2-5\" x=\"19.236328\" y=\"229.933594\"/>\n",
       "</g>\n",
       "</g>\n",
       "</svg>\n"
      ],
      "text/plain": [
       "plot without title"
      ]
     },
     "metadata": {
      "image/svg+xml": {
       "isolated": true
      }
     },
     "output_type": "display_data"
    }
   ],
   "source": [
    "ggplot(data, aes(x=data$BMI, y=data$Y)) + geom_line()"
   ]
  },
  {
   "cell_type": "code",
   "execution_count": 44,
   "metadata": {
    "collapsed": false
   },
   "outputs": [
    {
     "data": {
      "image/png": "[encoded data removed]",
      "image/svg+xml": [
       "<?xml version=\"1.0\" encoding=\"UTF-8\"?>\n",
       "<svg xmlns=\"http://www.w3.org/2000/svg\" xmlns:xlink=\"http://www.w3.org/1999/xlink\" width=\"504pt\" height=\"504pt\" viewBox=\"0 0 504 504\" version=\"1.1\">\n",
       "<defs>\n",
       "<g>\n",
       "<symbol overflow=\"visible\" id=\"glyph0-0\">\n",
       "<path style=\"stroke:none;\" d=\"\"/>\n",
       "</symbol>\n",
       "<symbol overflow=\"visible\" id=\"glyph0-1\">\n",
       "<path style=\"stroke:none;\" d=\"M 2.484375 -4.84375 L 2.484375 0 L 3.328125 0 L 3.328125 -6.796875 L 2.765625 -6.796875 C 2.46875 -5.75 2.28125 -5.609375 0.984375 -5.453125 L 0.984375 -4.84375 Z \"/>\n",
       "</symbol>\n",
       "<symbol overflow=\"visible\" id=\"glyph0-2\">\n",
       "<path style=\"stroke:none;\" d=\"M 2.640625 -6.796875 C 2 -6.796875 1.421875 -6.53125 1.078125 -6.046875 C 0.640625 -5.453125 0.40625 -4.546875 0.40625 -3.296875 C 0.40625 -1 1.1875 0.21875 2.640625 0.21875 C 4.078125 0.21875 4.859375 -1 4.859375 -3.234375 C 4.859375 -4.5625 4.65625 -5.4375 4.203125 -6.046875 C 3.84375 -6.53125 3.28125 -6.796875 2.640625 -6.796875 Z M 2.640625 -6.046875 C 3.546875 -6.046875 4 -5.125 4 -3.3125 C 4 -1.375 3.5625 -0.484375 2.625 -0.484375 C 1.734375 -0.484375 1.28125 -1.421875 1.28125 -3.28125 C 1.28125 -5.140625 1.734375 -6.046875 2.640625 -6.046875 Z \"/>\n",
       "</symbol>\n",
       "<symbol overflow=\"visible\" id=\"glyph0-3\">\n",
       "<path style=\"stroke:none;\" d=\"M 4.859375 -0.828125 L 1.28125 -0.828125 C 1.359375 -1.390625 1.671875 -1.75 2.5 -2.234375 L 3.46875 -2.75 C 4.40625 -3.265625 4.90625 -3.96875 4.90625 -4.8125 C 4.90625 -5.375 4.671875 -5.90625 4.265625 -6.265625 C 3.859375 -6.625 3.375 -6.796875 2.71875 -6.796875 C 1.859375 -6.796875 1.21875 -6.5 0.84375 -5.921875 C 0.609375 -5.5625 0.5 -5.125 0.484375 -4.4375 L 1.328125 -4.4375 C 1.359375 -4.90625 1.40625 -5.1875 1.53125 -5.40625 C 1.75 -5.8125 2.1875 -6.0625 2.703125 -6.0625 C 3.46875 -6.0625 4.03125 -5.515625 4.03125 -4.78125 C 4.03125 -4.25 3.71875 -3.796875 3.125 -3.4375 L 2.234375 -2.9375 C 0.8125 -2.140625 0.40625 -1.5 0.328125 0 L 4.859375 0 Z \"/>\n",
       "</symbol>\n",
       "<symbol overflow=\"visible\" id=\"glyph0-4\">\n",
       "<path style=\"stroke:none;\" d=\"M 2.125 -3.125 L 2.578125 -3.125 C 3.515625 -3.125 3.984375 -2.703125 3.984375 -1.890625 C 3.984375 -1.03125 3.46875 -0.53125 2.578125 -0.53125 C 1.65625 -0.53125 1.203125 -0.984375 1.15625 -1.96875 L 0.3125 -1.96875 C 0.34375 -1.421875 0.4375 -1.078125 0.609375 -0.765625 C 0.953125 -0.109375 1.625 0.21875 2.546875 0.21875 C 3.953125 0.21875 4.859375 -0.609375 4.859375 -1.90625 C 4.859375 -2.765625 4.515625 -3.25 3.703125 -3.515625 C 4.34375 -3.765625 4.65625 -4.25 4.65625 -4.9375 C 4.65625 -6.109375 3.875 -6.796875 2.578125 -6.796875 C 1.203125 -6.796875 0.484375 -6.046875 0.453125 -4.609375 L 1.296875 -4.609375 C 1.3125 -5.015625 1.34375 -5.25 1.453125 -5.453125 C 1.640625 -5.828125 2.0625 -6.0625 2.59375 -6.0625 C 3.34375 -6.0625 3.796875 -5.625 3.796875 -4.90625 C 3.796875 -4.421875 3.609375 -4.140625 3.25 -3.984375 C 3.015625 -3.890625 2.71875 -3.84375 2.125 -3.84375 Z \"/>\n",
       "</symbol>\n",
       "<symbol overflow=\"visible\" id=\"glyph0-5\">\n",
       "<path style=\"stroke:none;\" d=\"M 4.5625 -6.796875 L 1.0625 -6.796875 L 0.546875 -3.09375 L 1.328125 -3.09375 C 1.71875 -3.5625 2.046875 -3.734375 2.578125 -3.734375 C 3.484375 -3.734375 4.0625 -3.109375 4.0625 -2.09375 C 4.0625 -1.125 3.484375 -0.53125 2.578125 -0.53125 C 1.828125 -0.53125 1.375 -0.90625 1.1875 -1.671875 L 0.328125 -1.671875 C 0.453125 -1.109375 0.546875 -0.84375 0.75 -0.59375 C 1.125 -0.078125 1.828125 0.21875 2.59375 0.21875 C 3.96875 0.21875 4.921875 -0.78125 4.921875 -2.21875 C 4.921875 -3.5625 4.03125 -4.484375 2.71875 -4.484375 C 2.25 -4.484375 1.859375 -4.359375 1.46875 -4.0625 L 1.734375 -5.96875 L 4.5625 -5.96875 Z \"/>\n",
       "</symbol>\n",
       "<symbol overflow=\"visible\" id=\"glyph1-0\">\n",
       "<path style=\"stroke:none;\" d=\"\"/>\n",
       "</symbol>\n",
       "<symbol overflow=\"visible\" id=\"glyph1-1\">\n",
       "<path style=\"stroke:none;\" d=\"M 5.9375 -8.75 L 4.9375 -8.75 L 4.9375 -5.5 C 4.53125 -6.125 3.859375 -6.46875 3.015625 -6.46875 C 1.375 -6.46875 0.3125 -5.15625 0.3125 -3.15625 C 0.3125 -1.03125 1.359375 0.28125 3.046875 0.28125 C 3.90625 0.28125 4.515625 -0.046875 5.046875 -0.828125 L 5.046875 0 L 5.9375 0 Z M 3.1875 -5.53125 C 4.265625 -5.53125 4.9375 -4.578125 4.9375 -3.078125 C 4.9375 -1.625 4.25 -0.65625 3.1875 -0.65625 C 2.09375 -0.65625 1.359375 -1.625 1.359375 -3.09375 C 1.359375 -4.5625 2.09375 -5.53125 3.1875 -5.53125 Z \"/>\n",
       "</symbol>\n",
       "<symbol overflow=\"visible\" id=\"glyph1-2\">\n",
       "<path style=\"stroke:none;\" d=\"M 6.421875 -0.59375 C 6.3125 -0.5625 6.265625 -0.5625 6.203125 -0.5625 C 5.859375 -0.5625 5.65625 -0.75 5.65625 -1.0625 L 5.65625 -4.75 C 5.65625 -5.875 4.84375 -6.46875 3.296875 -6.46875 C 2.390625 -6.46875 1.625 -6.203125 1.21875 -5.734375 C 0.921875 -5.40625 0.796875 -5.046875 0.78125 -4.421875 L 1.78125 -4.421875 C 1.875 -5.203125 2.328125 -5.546875 3.265625 -5.546875 C 4.15625 -5.546875 4.671875 -5.203125 4.671875 -4.609375 L 4.671875 -4.34375 C 4.671875 -3.921875 4.421875 -3.75 3.625 -3.640625 C 2.203125 -3.46875 1.984375 -3.421875 1.609375 -3.265625 C 0.875 -2.96875 0.5 -2.40625 0.5 -1.578125 C 0.5 -0.4375 1.296875 0.28125 2.5625 0.28125 C 3.359375 0.28125 4 0 4.703125 -0.640625 C 4.78125 -0.015625 5.09375 0.28125 5.734375 0.28125 C 5.9375 0.28125 6.09375 0.25 6.421875 0.171875 Z M 4.671875 -1.984375 C 4.671875 -1.640625 4.578125 -1.4375 4.265625 -1.15625 C 3.859375 -0.796875 3.375 -0.59375 2.78125 -0.59375 C 2 -0.59375 1.546875 -0.96875 1.546875 -1.609375 C 1.546875 -2.265625 1.984375 -2.609375 3.0625 -2.765625 C 4.109375 -2.90625 4.328125 -2.953125 4.671875 -3.109375 Z \"/>\n",
       "</symbol>\n",
       "<symbol overflow=\"visible\" id=\"glyph1-3\">\n",
       "<path style=\"stroke:none;\" d=\"M 3.046875 -6.28125 L 2.015625 -6.28125 L 2.015625 -8.015625 L 1.015625 -8.015625 L 1.015625 -6.28125 L 0.171875 -6.28125 L 0.171875 -5.46875 L 1.015625 -5.46875 L 1.015625 -0.71875 C 1.015625 -0.078125 1.453125 0.28125 2.234375 0.28125 C 2.46875 0.28125 2.71875 0.25 3.046875 0.1875 L 3.046875 -0.640625 C 2.921875 -0.609375 2.765625 -0.59375 2.5625 -0.59375 C 2.140625 -0.59375 2.015625 -0.71875 2.015625 -1.15625 L 2.015625 -5.46875 L 3.046875 -5.46875 Z \"/>\n",
       "</symbol>\n",
       "<symbol overflow=\"visible\" id=\"glyph1-4\">\n",
       "<path style=\"stroke:none;\" d=\"M 2.921875 -9.234375 L 2.921875 -8.59375 C 1.375 -8.40625 0.546875 -7.5625 0.546875 -6.1875 C 0.546875 -5.4375 0.84375 -4.84375 1.40625 -4.4375 C 1.71875 -4.21875 2.046875 -4.078125 2.921875 -3.8125 L 2.921875 -0.546875 C 2.375 -0.625 1.921875 -0.859375 1.640625 -1.234375 C 1.46875 -1.515625 1.421875 -1.71875 1.34375 -2.5 L 0.390625 -2.5 C 0.3125 -0.828125 1.21875 0.171875 2.921875 0.28125 L 2.921875 1.515625 L 3.625 1.515625 L 3.625 0.28125 C 4.265625 0.234375 4.71875 0.09375 5.109375 -0.140625 C 5.8125 -0.578125 6.21875 -1.40625 6.21875 -2.34375 C 6.21875 -3.1875 5.890625 -3.796875 5.203125 -4.1875 C 4.890625 -4.375 4.734375 -4.421875 3.625 -4.765625 L 3.625 -7.75 C 4.421875 -7.71875 4.984375 -7.109375 5 -6.234375 L 5.953125 -6.234375 C 5.953125 -7.59375 5.078125 -8.484375 3.625 -8.59375 L 3.625 -9.234375 Z M 2.921875 -4.859375 C 1.96875 -5.109375 1.53125 -5.578125 1.53125 -6.3125 C 1.53125 -7.109375 2.03125 -7.625 2.921875 -7.734375 Z M 3.625 -3.703125 C 4.84375 -3.34375 5.234375 -2.984375 5.234375 -2.203125 C 5.234375 -1.734375 5.046875 -1.3125 4.734375 -1 C 4.4375 -0.71875 4.140625 -0.609375 3.625 -0.546875 Z \"/>\n",
       "</symbol>\n",
       "<symbol overflow=\"visible\" id=\"glyph1-5\">\n",
       "<path style=\"stroke:none;\" d=\"M 7.15625 -6.1875 C 7.140625 -7.890625 5.96875 -8.890625 3.953125 -8.890625 C 2.03125 -8.890625 0.84375 -7.90625 0.84375 -6.328125 C 0.84375 -5.25 1.40625 -4.578125 2.5625 -4.28125 L 4.734375 -3.703125 C 5.828125 -3.421875 6.34375 -2.96875 6.34375 -2.296875 C 6.34375 -1.828125 6.078125 -1.34375 5.71875 -1.078125 C 5.359375 -0.84375 4.8125 -0.703125 4.109375 -0.703125 C 3.15625 -0.703125 2.515625 -0.9375 2.09375 -1.4375 C 1.765625 -1.828125 1.625 -2.25 1.625 -2.78125 L 0.578125 -2.78125 C 0.59375 -1.984375 0.75 -1.453125 1.09375 -0.96875 C 1.6875 -0.15625 2.703125 0.28125 4.03125 0.28125 C 5.078125 0.28125 5.921875 0.03125 6.484375 -0.390625 C 7.078125 -0.859375 7.453125 -1.640625 7.453125 -2.40625 C 7.453125 -3.484375 6.78125 -4.265625 5.59375 -4.59375 L 3.390625 -5.1875 C 2.34375 -5.46875 1.953125 -5.8125 1.953125 -6.484375 C 1.953125 -7.375 2.734375 -7.953125 3.90625 -7.953125 C 5.296875 -7.953125 6.078125 -7.3125 6.09375 -6.1875 Z \"/>\n",
       "</symbol>\n",
       "<symbol overflow=\"visible\" id=\"glyph1-6\">\n",
       "<path style=\"stroke:none;\" d=\"M 6.078125 -1.046875 L 1.59375 -1.046875 C 1.703125 -1.734375 2.09375 -2.1875 3.125 -2.796875 L 4.328125 -3.4375 C 5.515625 -4.09375 6.125 -4.96875 6.125 -6.015625 C 6.125 -6.71875 5.84375 -7.375 5.34375 -7.84375 C 4.84375 -8.296875 4.21875 -8.515625 3.40625 -8.515625 C 2.328125 -8.515625 1.53125 -8.125 1.0625 -7.40625 C 0.75 -6.953125 0.625 -6.421875 0.59375 -5.5625 L 1.65625 -5.5625 C 1.6875 -6.125 1.765625 -6.484375 1.90625 -6.75 C 2.1875 -7.265625 2.734375 -7.578125 3.375 -7.578125 C 4.328125 -7.578125 5.046875 -6.90625 5.046875 -5.984375 C 5.046875 -5.3125 4.65625 -4.734375 3.90625 -4.3125 L 2.796875 -3.6875 C 1.015625 -2.671875 0.5 -1.875 0.40625 0 L 6.078125 0 Z \"/>\n",
       "</symbol>\n",
       "<symbol overflow=\"visible\" id=\"glyph2-0\">\n",
       "<path style=\"stroke:none;\" d=\"\"/>\n",
       "</symbol>\n",
       "<symbol overflow=\"visible\" id=\"glyph2-1\">\n",
       "<path style=\"stroke:none;\" d=\"M -8.75 -5.9375 L -8.75 -4.9375 L -5.5 -4.9375 C -6.125 -4.53125 -6.46875 -3.859375 -6.46875 -3.015625 C -6.46875 -1.375 -5.15625 -0.3125 -3.15625 -0.3125 C -1.03125 -0.3125 0.28125 -1.359375 0.28125 -3.046875 C 0.28125 -3.90625 -0.046875 -4.515625 -0.828125 -5.046875 L 0 -5.046875 L 0 -5.9375 Z M -5.53125 -3.1875 C -5.53125 -4.265625 -4.578125 -4.9375 -3.078125 -4.9375 C -1.625 -4.9375 -0.65625 -4.25 -0.65625 -3.1875 C -0.65625 -2.09375 -1.625 -1.359375 -3.09375 -1.359375 C -4.5625 -1.359375 -5.53125 -2.09375 -5.53125 -3.1875 Z \"/>\n",
       "</symbol>\n",
       "<symbol overflow=\"visible\" id=\"glyph2-2\">\n",
       "<path style=\"stroke:none;\" d=\"M -0.59375 -6.421875 C -0.5625 -6.3125 -0.5625 -6.265625 -0.5625 -6.203125 C -0.5625 -5.859375 -0.75 -5.65625 -1.0625 -5.65625 L -4.75 -5.65625 C -5.875 -5.65625 -6.46875 -4.84375 -6.46875 -3.296875 C -6.46875 -2.390625 -6.203125 -1.625 -5.734375 -1.21875 C -5.40625 -0.921875 -5.046875 -0.796875 -4.421875 -0.78125 L -4.421875 -1.78125 C -5.203125 -1.875 -5.546875 -2.328125 -5.546875 -3.265625 C -5.546875 -4.15625 -5.203125 -4.671875 -4.609375 -4.671875 L -4.34375 -4.671875 C -3.921875 -4.671875 -3.75 -4.421875 -3.640625 -3.625 C -3.46875 -2.203125 -3.421875 -1.984375 -3.265625 -1.609375 C -2.96875 -0.875 -2.40625 -0.5 -1.578125 -0.5 C -0.4375 -0.5 0.28125 -1.296875 0.28125 -2.5625 C 0.28125 -3.359375 0 -4 -0.640625 -4.703125 C -0.015625 -4.78125 0.28125 -5.09375 0.28125 -5.734375 C 0.28125 -5.9375 0.25 -6.09375 0.171875 -6.421875 Z M -1.984375 -4.671875 C -1.640625 -4.671875 -1.4375 -4.578125 -1.15625 -4.265625 C -0.796875 -3.859375 -0.59375 -3.375 -0.59375 -2.78125 C -0.59375 -2 -0.96875 -1.546875 -1.609375 -1.546875 C -2.265625 -1.546875 -2.609375 -1.984375 -2.765625 -3.0625 C -2.90625 -4.109375 -2.953125 -4.328125 -3.109375 -4.671875 Z \"/>\n",
       "</symbol>\n",
       "<symbol overflow=\"visible\" id=\"glyph2-3\">\n",
       "<path style=\"stroke:none;\" d=\"M -6.28125 -3.046875 L -6.28125 -2.015625 L -8.015625 -2.015625 L -8.015625 -1.015625 L -6.28125 -1.015625 L -6.28125 -0.171875 L -5.46875 -0.171875 L -5.46875 -1.015625 L -0.71875 -1.015625 C -0.078125 -1.015625 0.28125 -1.453125 0.28125 -2.234375 C 0.28125 -2.46875 0.25 -2.71875 0.1875 -3.046875 L -0.640625 -3.046875 C -0.609375 -2.921875 -0.59375 -2.765625 -0.59375 -2.5625 C -0.59375 -2.140625 -0.71875 -2.015625 -1.15625 -2.015625 L -5.46875 -2.015625 L -5.46875 -3.046875 Z \"/>\n",
       "</symbol>\n",
       "<symbol overflow=\"visible\" id=\"glyph2-4\">\n",
       "<path style=\"stroke:none;\" d=\"M -9.234375 -2.921875 L -8.59375 -2.921875 C -8.40625 -1.375 -7.5625 -0.546875 -6.1875 -0.546875 C -5.4375 -0.546875 -4.84375 -0.84375 -4.4375 -1.40625 C -4.21875 -1.71875 -4.078125 -2.046875 -3.8125 -2.921875 L -0.546875 -2.921875 C -0.625 -2.375 -0.859375 -1.921875 -1.234375 -1.640625 C -1.515625 -1.46875 -1.71875 -1.421875 -2.5 -1.34375 L -2.5 -0.390625 C -0.828125 -0.3125 0.171875 -1.21875 0.28125 -2.921875 L 1.515625 -2.921875 L 1.515625 -3.625 L 0.28125 -3.625 C 0.234375 -4.265625 0.09375 -4.71875 -0.140625 -5.109375 C -0.578125 -5.8125 -1.40625 -6.21875 -2.34375 -6.21875 C -3.1875 -6.21875 -3.796875 -5.890625 -4.1875 -5.203125 C -4.375 -4.890625 -4.421875 -4.734375 -4.765625 -3.625 L -7.75 -3.625 C -7.71875 -4.421875 -7.109375 -4.984375 -6.234375 -5 L -6.234375 -5.953125 C -7.59375 -5.953125 -8.484375 -5.078125 -8.59375 -3.625 L -9.234375 -3.625 Z M -4.859375 -2.921875 C -5.109375 -1.96875 -5.578125 -1.53125 -6.3125 -1.53125 C -7.109375 -1.53125 -7.625 -2.03125 -7.734375 -2.921875 Z M -3.703125 -3.625 C -3.34375 -4.84375 -2.984375 -5.234375 -2.203125 -5.234375 C -1.734375 -5.234375 -1.3125 -5.046875 -1 -4.734375 C -0.71875 -4.4375 -0.609375 -4.140625 -0.546875 -3.625 Z \"/>\n",
       "</symbol>\n",
       "<symbol overflow=\"visible\" id=\"glyph2-5\">\n",
       "<path style=\"stroke:none;\" d=\"M -3.4375 -4.640625 L -8.75 -7.9375 L -8.75 -6.59375 L -4.484375 -4.109375 L -8.75 -1.53125 L -8.75 -0.15625 L -3.4375 -3.53125 L 0 -3.53125 L 0 -4.640625 Z \"/>\n",
       "</symbol>\n",
       "</g>\n",
       "<clipPath id=\"clip1\">\n",
       "  <path d=\"M 47.488281 14.398438 L 490 14.398438 L 490 467 L 47.488281 467 Z \"/>\n",
       "</clipPath>\n",
       "<clipPath id=\"clip2\">\n",
       "  <path d=\"M 47.488281 413 L 490 413 L 490 415 L 47.488281 415 Z \"/>\n",
       "</clipPath>\n",
       "<clipPath id=\"clip3\">\n",
       "  <path d=\"M 47.488281 285 L 490 285 L 490 287 L 47.488281 287 Z \"/>\n",
       "</clipPath>\n",
       "<clipPath id=\"clip4\">\n",
       "  <path d=\"M 47.488281 157 L 490 157 L 490 159 L 47.488281 159 Z \"/>\n",
       "</clipPath>\n",
       "<clipPath id=\"clip5\">\n",
       "  <path d=\"M 47.488281 29 L 490 29 L 490 31 L 47.488281 31 Z \"/>\n",
       "</clipPath>\n",
       "<clipPath id=\"clip6\">\n",
       "  <path d=\"M 134 14.398438 L 135 14.398438 L 135 467 L 134 467 Z \"/>\n",
       "</clipPath>\n",
       "<clipPath id=\"clip7\">\n",
       "  <path d=\"M 234 14.398438 L 235 14.398438 L 235 467 L 234 467 Z \"/>\n",
       "</clipPath>\n",
       "<clipPath id=\"clip8\">\n",
       "  <path d=\"M 334 14.398438 L 335 14.398438 L 335 467 L 334 467 Z \"/>\n",
       "</clipPath>\n",
       "<clipPath id=\"clip9\">\n",
       "  <path d=\"M 434 14.398438 L 435 14.398438 L 435 467 L 434 467 Z \"/>\n",
       "</clipPath>\n",
       "<clipPath id=\"clip10\">\n",
       "  <path d=\"M 47.488281 349 L 490.601562 349 L 490.601562 351 L 47.488281 351 Z \"/>\n",
       "</clipPath>\n",
       "<clipPath id=\"clip11\">\n",
       "  <path d=\"M 47.488281 221 L 490.601562 221 L 490.601562 223 L 47.488281 223 Z \"/>\n",
       "</clipPath>\n",
       "<clipPath id=\"clip12\">\n",
       "  <path d=\"M 47.488281 93 L 490.601562 93 L 490.601562 95 L 47.488281 95 Z \"/>\n",
       "</clipPath>\n",
       "<clipPath id=\"clip13\">\n",
       "  <path d=\"M 83 14.398438 L 85 14.398438 L 85 467.511719 L 83 467.511719 Z \"/>\n",
       "</clipPath>\n",
       "<clipPath id=\"clip14\">\n",
       "  <path d=\"M 183 14.398438 L 186 14.398438 L 186 467.511719 L 183 467.511719 Z \"/>\n",
       "</clipPath>\n",
       "<clipPath id=\"clip15\">\n",
       "  <path d=\"M 284 14.398438 L 286 14.398438 L 286 467.511719 L 284 467.511719 Z \"/>\n",
       "</clipPath>\n",
       "<clipPath id=\"clip16\">\n",
       "  <path d=\"M 384 14.398438 L 386 14.398438 L 386 467.511719 L 384 467.511719 Z \"/>\n",
       "</clipPath>\n",
       "<clipPath id=\"clip17\">\n",
       "  <path d=\"M 484 14.398438 L 486 14.398438 L 486 467.511719 L 484 467.511719 Z \"/>\n",
       "</clipPath>\n",
       "</defs>\n",
       "<g id=\"surface227\">\n",
       "<rect x=\"0\" y=\"0\" width=\"504\" height=\"504\" style=\"fill:rgb(100%,100%,100%);fill-opacity:1;stroke:none;\"/>\n",
       "<rect x=\"0\" y=\"0\" width=\"504\" height=\"504\" style=\"fill:rgb(100%,100%,100%);fill-opacity:1;stroke:none;\"/>\n",
       "<path style=\"fill:none;stroke-width:1.062992;stroke-linecap:round;stroke-linejoin:round;stroke:rgb(100%,100%,100%);stroke-opacity:1;stroke-miterlimit:10;\" d=\"M 0 504 L 504 504 L 504 0 L 0 0 Z \"/>\n",
       "<g clip-path=\"url(#clip1)\" clip-rule=\"nonzero\">\n",
       "<path style=\" stroke:none;fill-rule:nonzero;fill:rgb(89.803922%,89.803922%,89.803922%);fill-opacity:1;\" d=\"M 47.488281 466.511719 L 489.601562 466.511719 L 489.601562 14.398438 L 47.488281 14.398438 Z \"/>\n",
       "</g>\n",
       "<g clip-path=\"url(#clip2)\" clip-rule=\"nonzero\">\n",
       "<path style=\"fill:none;stroke-width:0.531496;stroke-linecap:butt;stroke-linejoin:round;stroke:rgb(94.901961%,94.901961%,94.901961%);stroke-opacity:1;stroke-miterlimit:10;\" d=\"M 47.488281 413.953125 L 489.601562 413.953125 \"/>\n",
       "</g>\n",
       "<g clip-path=\"url(#clip3)\" clip-rule=\"nonzero\">\n",
       "<path style=\"fill:none;stroke-width:0.531496;stroke-linecap:butt;stroke-linejoin:round;stroke:rgb(94.901961%,94.901961%,94.901961%);stroke-opacity:1;stroke-miterlimit:10;\" d=\"M 47.488281 285.910156 L 489.601562 285.910156 \"/>\n",
       "</g>\n",
       "<g clip-path=\"url(#clip4)\" clip-rule=\"nonzero\">\n",
       "<path style=\"fill:none;stroke-width:0.531496;stroke-linecap:butt;stroke-linejoin:round;stroke:rgb(94.901961%,94.901961%,94.901961%);stroke-opacity:1;stroke-miterlimit:10;\" d=\"M 47.488281 157.871094 L 489.601562 157.871094 \"/>\n",
       "</g>\n",
       "<g clip-path=\"url(#clip5)\" clip-rule=\"nonzero\">\n",
       "<path style=\"fill:none;stroke-width:0.531496;stroke-linecap:butt;stroke-linejoin:round;stroke:rgb(94.901961%,94.901961%,94.901961%);stroke-opacity:1;stroke-miterlimit:10;\" d=\"M 47.488281 29.828125 L 489.601562 29.828125 \"/>\n",
       "</g>\n",
       "<g clip-path=\"url(#clip6)\" clip-rule=\"nonzero\">\n",
       "<path style=\"fill:none;stroke-width:0.531496;stroke-linecap:butt;stroke-linejoin:round;stroke:rgb(94.901961%,94.901961%,94.901961%);stroke-opacity:1;stroke-miterlimit:10;\" d=\"M 134.4375 466.511719 L 134.4375 14.398438 \"/>\n",
       "</g>\n",
       "<g clip-path=\"url(#clip7)\" clip-rule=\"nonzero\">\n",
       "<path style=\"fill:none;stroke-width:0.531496;stroke-linecap:butt;stroke-linejoin:round;stroke:rgb(94.901961%,94.901961%,94.901961%);stroke-opacity:1;stroke-miterlimit:10;\" d=\"M 234.515625 466.511719 L 234.515625 14.398438 \"/>\n",
       "</g>\n",
       "<g clip-path=\"url(#clip8)\" clip-rule=\"nonzero\">\n",
       "<path style=\"fill:none;stroke-width:0.531496;stroke-linecap:butt;stroke-linejoin:round;stroke:rgb(94.901961%,94.901961%,94.901961%);stroke-opacity:1;stroke-miterlimit:10;\" d=\"M 334.597656 466.511719 L 334.597656 14.398438 \"/>\n",
       "</g>\n",
       "<g clip-path=\"url(#clip9)\" clip-rule=\"nonzero\">\n",
       "<path style=\"fill:none;stroke-width:0.531496;stroke-linecap:butt;stroke-linejoin:round;stroke:rgb(94.901961%,94.901961%,94.901961%);stroke-opacity:1;stroke-miterlimit:10;\" d=\"M 434.675781 466.511719 L 434.675781 14.398438 \"/>\n",
       "</g>\n",
       "<g clip-path=\"url(#clip10)\" clip-rule=\"nonzero\">\n",
       "<path style=\"fill:none;stroke-width:1.062992;stroke-linecap:butt;stroke-linejoin:round;stroke:rgb(100%,100%,100%);stroke-opacity:1;stroke-miterlimit:10;\" d=\"M 47.488281 349.933594 L 489.601562 349.933594 \"/>\n",
       "</g>\n",
       "<g clip-path=\"url(#clip11)\" clip-rule=\"nonzero\">\n",
       "<path style=\"fill:none;stroke-width:1.062992;stroke-linecap:butt;stroke-linejoin:round;stroke:rgb(100%,100%,100%);stroke-opacity:1;stroke-miterlimit:10;\" d=\"M 47.488281 221.890625 L 489.601562 221.890625 \"/>\n",
       "</g>\n",
       "<g clip-path=\"url(#clip12)\" clip-rule=\"nonzero\">\n",
       "<path style=\"fill:none;stroke-width:1.062992;stroke-linecap:butt;stroke-linejoin:round;stroke:rgb(100%,100%,100%);stroke-opacity:1;stroke-miterlimit:10;\" d=\"M 47.488281 93.847656 L 489.601562 93.847656 \"/>\n",
       "</g>\n",
       "<g clip-path=\"url(#clip13)\" clip-rule=\"nonzero\">\n",
       "<path style=\"fill:none;stroke-width:1.062992;stroke-linecap:butt;stroke-linejoin:round;stroke:rgb(100%,100%,100%);stroke-opacity:1;stroke-miterlimit:10;\" d=\"M 84.394531 466.511719 L 84.394531 14.398438 \"/>\n",
       "</g>\n",
       "<g clip-path=\"url(#clip14)\" clip-rule=\"nonzero\">\n",
       "<path style=\"fill:none;stroke-width:1.062992;stroke-linecap:butt;stroke-linejoin:round;stroke:rgb(100%,100%,100%);stroke-opacity:1;stroke-miterlimit:10;\" d=\"M 184.476562 466.511719 L 184.476562 14.398438 \"/>\n",
       "</g>\n",
       "<g clip-path=\"url(#clip15)\" clip-rule=\"nonzero\">\n",
       "<path style=\"fill:none;stroke-width:1.062992;stroke-linecap:butt;stroke-linejoin:round;stroke:rgb(100%,100%,100%);stroke-opacity:1;stroke-miterlimit:10;\" d=\"M 284.554688 466.511719 L 284.554688 14.398438 \"/>\n",
       "</g>\n",
       "<g clip-path=\"url(#clip16)\" clip-rule=\"nonzero\">\n",
       "<path style=\"fill:none;stroke-width:1.062992;stroke-linecap:butt;stroke-linejoin:round;stroke:rgb(100%,100%,100%);stroke-opacity:1;stroke-miterlimit:10;\" d=\"M 384.636719 466.511719 L 384.636719 14.398438 \"/>\n",
       "</g>\n",
       "<g clip-path=\"url(#clip17)\" clip-rule=\"nonzero\">\n",
       "<path style=\"fill:none;stroke-width:1.062992;stroke-linecap:butt;stroke-linejoin:round;stroke:rgb(100%,100%,100%);stroke-opacity:1;stroke-miterlimit:10;\" d=\"M 484.714844 466.511719 L 484.714844 14.398438 \"/>\n",
       "</g>\n",
       "<path style=\"fill:none;stroke-width:1.062992;stroke-linecap:butt;stroke-linejoin:round;stroke:rgb(0%,0%,0%);stroke-opacity:1;stroke-miterlimit:1;\" d=\"M 67.582031 426.757812 L 71.1875 283.351562 L 78.792969 260.304688 L 81.996094 430.597656 L 86.398438 118.175781 L 91.203125 379.382812 L 92.402344 302.558594 L 92.804688 115.617188 L 94.402344 284.632812 L 99.609375 348.652344 L 100.410156 366.578125 L 104.8125 401.148438 L 110.417969 294.875 L 111.21875 332.007812 L 111.617188 394.746094 L 114.019531 353.773438 L 114.820312 399.867188 L 115.621094 396.027344 L 118.023438 250.058594 L 118.824219 312.800781 L 120.425781 296.15625 L 120.425781 241.097656 L 122.425781 407.550781 L 122.425781 308.957031 L 122.828125 303.835938 L 123.628906 371.699219 L 124.828125 388.34375 L 125.230469 298.714844 L 126.429688 387.0625 L 127.628906 370.417969 L 128.03125 155.308594 L 128.429688 369.136719 L 128.832031 387.0625 L 130.433594 348.652344 L 130.433594 244.9375 L 134.035156 271.828125 L 135.238281 392.183594 L 136.839844 250.058594 L 137.238281 197.5625 L 138.4375 285.910156 L 138.839844 387.0625 L 138.839844 383.222656 L 140.441406 317.921875 L 140.839844 224.453125 L 141.242188 260.304688 L 141.640625 385.785156 L 142.042969 424.195312 L 142.441406 262.863281 L 144.042969 180.917969 L 145.644531 351.210938 L 145.644531 128.421875 L 146.046875 422.914062 L 146.445312 358.894531 L 146.847656 402.429688 L 147.648438 209.085938 L 150.847656 397.308594 L 152.050781 367.859375 L 152.851562 394.746094 L 152.851562 118.175781 L 152.851562 238.535156 L 153.652344 244.9375 L 154.453125 234.695312 L 154.453125 155.308594 L 154.851562 164.273438 L 154.851562 219.328125 L 155.253906 351.210938 L 155.253906 416.511719 L 156.054688 223.171875 L 157.65625 352.492188 L 157.65625 278.230469 L 158.855469 411.390625 L 159.65625 369.136719 L 159.65625 211.648438 L 160.054688 390.90625 L 160.054688 402.429688 L 160.457031 124.578125 L 160.457031 221.890625 L 160.457031 129.699219 L 162.457031 379.382812 L 164.058594 344.808594 L 165.261719 90.007812 L 165.660156 323.042969 L 167.261719 310.238281 L 167.664062 279.507812 L 168.0625 424.195312 L 168.0625 385.785156 L 168.464844 420.355469 L 168.863281 246.21875 L 169.265625 168.113281 L 169.664062 445.960938 L 170.066406 253.902344 L 170.863281 284.632812 L 170.863281 306.398438 L 171.265625 81.046875 L 171.265625 362.734375 L 171.265625 319.203125 L 171.664062 297.433594 L 171.664062 362.734375 L 172.066406 47.753906 L 172.066406 296.15625 L 172.867188 378.101562 L 173.265625 147.625 L 173.667969 146.347656 L 173.667969 329.445312 L 174.46875 141.226562 L 175.269531 428.035156 L 176.46875 411.390625 L 176.46875 357.613281 L 176.871094 394.746094 L 176.871094 195.003906 L 177.671875 288.472656 L 178.070312 189.878906 L 178.070312 305.117188 L 178.472656 270.546875 L 178.871094 138.664062 L 179.273438 403.710938 L 179.671875 102.8125 L 180.074219 221.890625 L 180.472656 293.59375 L 181.273438 66.960938 L 181.675781 415.234375 L 181.675781 221.890625 L 182.074219 138.664062 L 182.472656 346.089844 L 182.472656 344.808594 L 183.675781 301.277344 L 183.675781 421.636719 L 184.074219 364.015625 L 184.074219 438.28125 L 184.476562 273.105469 L 184.476562 162.992188 L 184.875 265.425781 L 184.875 365.296875 L 184.875 125.859375 L 185.277344 399.867188 L 185.277344 397.308594 L 185.675781 378.101562 L 185.675781 123.300781 L 185.675781 389.625 L 186.476562 314.082031 L 187.277344 371.699219 L 187.679688 410.109375 L 187.679688 147.625 L 188.078125 196.28125 L 188.480469 315.359375 L 188.878906 416.511719 L 189.28125 316.640625 L 190.082031 34.949219 L 190.480469 282.070312 L 190.882812 381.941406 L 190.882812 225.730469 L 191.683594 221.890625 L 191.683594 412.671875 L 192.882812 166.832031 L 192.882812 385.785156 L 193.28125 356.332031 L 193.28125 220.609375 L 194.082031 379.382812 L 194.082031 412.671875 L 194.484375 119.457031 L 194.882812 335.847656 L 194.882812 283.351562 L 194.882812 417.792969 L 195.285156 241.097656 L 195.285156 362.734375 L 195.285156 339.6875 L 195.683594 355.054688 L 195.683594 357.613281 L 196.085938 407.550781 L 196.085938 417.792969 L 196.886719 109.214844 L 197.285156 293.59375 L 197.6875 411.390625 L 197.6875 219.328125 L 198.085938 362.734375 L 198.085938 125.859375 L 198.488281 410.109375 L 198.488281 118.175781 L 198.886719 41.351562 L 198.886719 369.136719 L 199.289062 365.296875 L 199.289062 397.308594 L 199.6875 285.910156 L 199.6875 81.046875 L 200.890625 262.863281 L 200.890625 132.261719 L 201.691406 275.667969 L 202.089844 366.578125 L 202.492188 360.175781 L 202.492188 320.484375 L 202.890625 248.78125 L 202.890625 292.3125 L 203.691406 416.511719 L 205.292969 428.035156 L 205.691406 312.800781 L 205.691406 148.90625 L 206.09375 123.300781 L 206.894531 355.054688 L 208.894531 330.726562 L 208.894531 104.09375 L 208.894531 337.128906 L 209.296875 127.140625 L 209.695312 160.429688 L 210.097656 347.371094 L 210.496094 201.402344 L 210.496094 335.847656 L 211.296875 393.464844 L 211.296875 338.40625 L 211.699219 383.222656 L 212.097656 250.058594 L 212.5 125.859375 L 213.300781 241.097656 L 213.300781 267.984375 L 213.699219 326.882812 L 213.699219 407.550781 L 214.101562 424.195312 L 214.101562 289.753906 L 214.5 410.109375 L 214.902344 347.371094 L 215.300781 326.882812 L 215.699219 346.089844 L 216.5 358.894531 L 216.902344 310.238281 L 217.300781 410.109375 L 217.300781 196.28125 L 219.304688 376.820312 L 221.304688 219.328125 L 221.304688 146.347656 L 221.304688 396.027344 L 221.707031 142.503906 L 222.105469 214.207031 L 222.507812 310.238281 L 222.90625 381.941406 L 222.90625 340.96875 L 223.308594 337.128906 L 223.308594 362.734375 L 223.308594 296.15625 L 224.109375 401.148438 L 224.507812 228.292969 L 224.507812 361.457031 L 224.507812 333.285156 L 225.308594 390.90625 L 225.710938 273.105469 L 226.109375 353.773438 L 226.507812 280.789062 L 226.507812 338.40625 L 226.507812 333.285156 L 228.511719 402.429688 L 228.910156 134.824219 L 228.910156 138.664062 L 229.3125 164.273438 L 229.3125 415.234375 L 230.511719 180.917969 L 230.914062 285.910156 L 231.714844 387.0625 L 231.914062 413.953125 L 232.113281 143.785156 L 232.515625 312.800781 L 232.914062 338.40625 L 233.714844 203.964844 L 234.515625 269.265625 L 234.515625 338.40625 L 234.917969 196.28125 L 235.316406 305.117188 L 235.71875 100.25 L 236.117188 306.398438 L 236.117188 387.0625 L 236.117188 319.203125 L 236.117188 408.832031 L 236.917969 355.054688 L 236.917969 52.875 L 237.316406 369.136719 L 237.316406 411.390625 L 237.71875 83.605469 L 237.71875 79.765625 L 238.117188 244.9375 L 238.117188 407.550781 L 238.519531 250.058594 L 238.519531 148.90625 L 238.917969 189.878906 L 240.121094 235.976562 L 240.519531 162.992188 L 240.519531 347.371094 L 240.519531 269.265625 L 240.921875 333.285156 L 240.921875 385.785156 L 241.320312 97.691406 L 241.320312 262.863281 L 241.722656 125.859375 L 241.722656 353.773438 L 242.523438 361.457031 L 242.523438 179.636719 L 242.921875 256.460938 L 242.921875 81.046875 L 243.722656 344.808594 L 244.125 200.125 L 245.324219 314.082031 L 246.125 203.964844 L 247.328125 214.207031 L 247.328125 91.289062 L 247.328125 174.515625 L 248.527344 174.515625 L 248.925781 132.261719 L 248.925781 225.730469 L 250.128906 224.453125 L 250.527344 251.339844 L 250.929688 404.988281 L 251.730469 412.671875 L 252.929688 202.683594 L 253.730469 394.746094 L 255.332031 384.503906 L 255.734375 118.175781 L 255.734375 250.058594 L 256.132812 179.636719 L 256.535156 168.113281 L 257.335938 169.394531 L 258.535156 168.113281 L 260.9375 257.742188 L 261.738281 385.785156 L 262.136719 183.476562 L 262.136719 326.882812 L 262.539062 98.972656 L 262.539062 165.550781 L 262.9375 210.367188 L 263.339844 371.699219 L 263.339844 374.257812 L 263.339844 139.945312 L 263.738281 279.507812 L 264.539062 227.011719 L 264.941406 142.503906 L 266.140625 298.714844 L 266.542969 248.78125 L 267.34375 293.59375 L 268.144531 284.632812 L 268.542969 357.613281 L 269.746094 120.738281 L 269.746094 221.890625 L 270.144531 370.417969 L 270.144531 160.429688 L 270.945312 314.082031 L 272.144531 314.082031 L 272.144531 177.078125 L 272.546875 402.429688 L 272.546875 177.078125 L 272.945312 206.527344 L 273.347656 243.65625 L 274.148438 389.625 L 275.75 233.414062 L 275.75 255.179688 L 276.550781 340.96875 L 276.949219 355.054688 L 277.351562 260.304688 L 277.351562 321.761719 L 277.75 219.328125 L 277.75 166.832031 L 278.152344 275.667969 L 278.550781 293.59375 L 278.550781 184.757812 L 279.351562 396.027344 L 280.152344 255.179688 L 280.554688 378.101562 L 282.953125 361.457031 L 282.953125 364.015625 L 283.355469 390.90625 L 283.753906 294.875 L 287.359375 375.539062 L 287.757812 193.722656 L 287.757812 285.910156 L 287.757812 232.132812 L 287.757812 356.332031 L 288.558594 72.082031 L 288.558594 146.347656 L 288.960938 302.558594 L 289.359375 299.996094 L 292.960938 247.5 L 296.164062 134.824219 L 297.367188 247.5 L 297.765625 221.890625 L 297.765625 179.636719 L 298.167969 267.984375 L 300.96875 104.09375 L 303.371094 324.324219 L 304.972656 296.15625 L 305.773438 224.453125 L 305.773438 392.183594 L 308.574219 246.21875 L 308.976562 349.933594 L 309.375 361.457031 L 310.175781 160.429688 L 310.175781 234.695312 L 311.777344 155.308594 L 314.980469 159.152344 L 316.582031 344.808594 L 316.980469 330.726562 L 322.585938 329.445312 L 325.789062 239.816406 L 326.589844 389.625 L 328.992188 129.699219 L 329.390625 301.277344 L 329.792969 86.167969 L 331.792969 227.011719 L 332.59375 115.617188 L 332.996094 321.761719 L 335.796875 370.417969 L 347.007812 183.476562 L 353.011719 259.023438 L 354.613281 397.308594 L 364.21875 154.027344 L 365.019531 310.238281 L 375.429688 197.5625 L 378.230469 299.996094 L 379.03125 147.625 L 381.832031 323.042969 L 383.433594 200.125 L 414.660156 196.28125 L 469.503906 370.417969 \"/>\n",
       "<g style=\"fill:rgb(49.803922%,49.803922%,49.803922%);fill-opacity:1;\">\n",
       "  <use xlink:href=\"#glyph0-1\" x=\"23.398438\" y=\"352.581055\"/>\n",
       "  <use xlink:href=\"#glyph0-2\" x=\"28.732422\" y=\"352.581055\"/>\n",
       "  <use xlink:href=\"#glyph0-2\" x=\"34.066406\" y=\"352.581055\"/>\n",
       "</g>\n",
       "<g style=\"fill:rgb(49.803922%,49.803922%,49.803922%);fill-opacity:1;\">\n",
       "  <use xlink:href=\"#glyph0-3\" x=\"23.398438\" y=\"224.538086\"/>\n",
       "  <use xlink:href=\"#glyph0-2\" x=\"28.732422\" y=\"224.538086\"/>\n",
       "  <use xlink:href=\"#glyph0-2\" x=\"34.066406\" y=\"224.538086\"/>\n",
       "</g>\n",
       "<g style=\"fill:rgb(49.803922%,49.803922%,49.803922%);fill-opacity:1;\">\n",
       "  <use xlink:href=\"#glyph0-4\" x=\"23.398438\" y=\"96.495117\"/>\n",
       "  <use xlink:href=\"#glyph0-2\" x=\"28.732422\" y=\"96.495117\"/>\n",
       "  <use xlink:href=\"#glyph0-2\" x=\"34.066406\" y=\"96.495117\"/>\n",
       "</g>\n",
       "<path style=\"fill:none;stroke-width:1.062992;stroke-linecap:butt;stroke-linejoin:round;stroke:rgb(49.803922%,49.803922%,49.803922%);stroke-opacity:1;stroke-miterlimit:10;\" d=\"M 43.234375 349.933594 L 47.488281 349.933594 \"/>\n",
       "<path style=\"fill:none;stroke-width:1.062992;stroke-linecap:butt;stroke-linejoin:round;stroke:rgb(49.803922%,49.803922%,49.803922%);stroke-opacity:1;stroke-miterlimit:10;\" d=\"M 43.234375 221.890625 L 47.488281 221.890625 \"/>\n",
       "<path style=\"fill:none;stroke-width:1.062992;stroke-linecap:butt;stroke-linejoin:round;stroke:rgb(49.803922%,49.803922%,49.803922%);stroke-opacity:1;stroke-miterlimit:10;\" d=\"M 43.234375 93.847656 L 47.488281 93.847656 \"/>\n",
       "<path style=\"fill:none;stroke-width:1.062992;stroke-linecap:butt;stroke-linejoin:round;stroke:rgb(49.803922%,49.803922%,49.803922%);stroke-opacity:1;stroke-miterlimit:10;\" d=\"M 84.394531 470.765625 L 84.394531 466.511719 \"/>\n",
       "<path style=\"fill:none;stroke-width:1.062992;stroke-linecap:butt;stroke-linejoin:round;stroke:rgb(49.803922%,49.803922%,49.803922%);stroke-opacity:1;stroke-miterlimit:10;\" d=\"M 184.476562 470.765625 L 184.476562 466.511719 \"/>\n",
       "<path style=\"fill:none;stroke-width:1.062992;stroke-linecap:butt;stroke-linejoin:round;stroke:rgb(49.803922%,49.803922%,49.803922%);stroke-opacity:1;stroke-miterlimit:10;\" d=\"M 284.554688 470.765625 L 284.554688 466.511719 \"/>\n",
       "<path style=\"fill:none;stroke-width:1.062992;stroke-linecap:butt;stroke-linejoin:round;stroke:rgb(49.803922%,49.803922%,49.803922%);stroke-opacity:1;stroke-miterlimit:10;\" d=\"M 384.636719 470.765625 L 384.636719 466.511719 \"/>\n",
       "<path style=\"fill:none;stroke-width:1.062992;stroke-linecap:butt;stroke-linejoin:round;stroke:rgb(49.803922%,49.803922%,49.803922%);stroke-opacity:1;stroke-miterlimit:10;\" d=\"M 484.714844 470.765625 L 484.714844 466.511719 \"/>\n",
       "<g style=\"fill:rgb(49.803922%,49.803922%,49.803922%);fill-opacity:1;\">\n",
       "  <use xlink:href=\"#glyph0-5\" x=\"78.894531\" y=\"479.749023\"/>\n",
       "  <use xlink:href=\"#glyph0-2\" x=\"84.228516\" y=\"479.749023\"/>\n",
       "</g>\n",
       "<g style=\"fill:rgb(49.803922%,49.803922%,49.803922%);fill-opacity:1;\">\n",
       "  <use xlink:href=\"#glyph0-1\" x=\"175.976562\" y=\"479.749023\"/>\n",
       "  <use xlink:href=\"#glyph0-2\" x=\"181.310547\" y=\"479.749023\"/>\n",
       "  <use xlink:href=\"#glyph0-2\" x=\"186.644531\" y=\"479.749023\"/>\n",
       "</g>\n",
       "<g style=\"fill:rgb(49.803922%,49.803922%,49.803922%);fill-opacity:1;\">\n",
       "  <use xlink:href=\"#glyph0-1\" x=\"276.054688\" y=\"479.749023\"/>\n",
       "  <use xlink:href=\"#glyph0-5\" x=\"281.388672\" y=\"479.749023\"/>\n",
       "  <use xlink:href=\"#glyph0-2\" x=\"286.722656\" y=\"479.749023\"/>\n",
       "</g>\n",
       "<g style=\"fill:rgb(49.803922%,49.803922%,49.803922%);fill-opacity:1;\">\n",
       "  <use xlink:href=\"#glyph0-3\" x=\"376.136719\" y=\"479.749023\"/>\n",
       "  <use xlink:href=\"#glyph0-2\" x=\"381.470703\" y=\"479.749023\"/>\n",
       "  <use xlink:href=\"#glyph0-2\" x=\"386.804688\" y=\"479.749023\"/>\n",
       "</g>\n",
       "<g style=\"fill:rgb(49.803922%,49.803922%,49.803922%);fill-opacity:1;\">\n",
       "  <use xlink:href=\"#glyph0-3\" x=\"476.214844\" y=\"479.749023\"/>\n",
       "  <use xlink:href=\"#glyph0-5\" x=\"481.548828\" y=\"479.749023\"/>\n",
       "  <use xlink:href=\"#glyph0-2\" x=\"486.882812\" y=\"479.749023\"/>\n",
       "</g>\n",
       "<g style=\"fill:rgb(0%,0%,0%);fill-opacity:1;\">\n",
       "  <use xlink:href=\"#glyph1-1\" x=\"246.042969\" y=\"492.634766\"/>\n",
       "  <use xlink:href=\"#glyph1-2\" x=\"252.714844\" y=\"492.634766\"/>\n",
       "  <use xlink:href=\"#glyph1-3\" x=\"259.386719\" y=\"492.634766\"/>\n",
       "  <use xlink:href=\"#glyph1-2\" x=\"262.722656\" y=\"492.634766\"/>\n",
       "  <use xlink:href=\"#glyph1-4\" x=\"269.394531\" y=\"492.634766\"/>\n",
       "  <use xlink:href=\"#glyph1-5\" x=\"276.066406\" y=\"492.634766\"/>\n",
       "  <use xlink:href=\"#glyph1-6\" x=\"284.070312\" y=\"492.634766\"/>\n",
       "</g>\n",
       "<g style=\"fill:rgb(0%,0%,0%);fill-opacity:1;\">\n",
       "  <use xlink:href=\"#glyph2-1\" x=\"19.236328\" y=\"259.957031\"/>\n",
       "  <use xlink:href=\"#glyph2-2\" x=\"19.236328\" y=\"253.285156\"/>\n",
       "  <use xlink:href=\"#glyph2-3\" x=\"19.236328\" y=\"246.613281\"/>\n",
       "  <use xlink:href=\"#glyph2-2\" x=\"19.236328\" y=\"243.277344\"/>\n",
       "  <use xlink:href=\"#glyph2-4\" x=\"19.236328\" y=\"236.605469\"/>\n",
       "  <use xlink:href=\"#glyph2-5\" x=\"19.236328\" y=\"229.933594\"/>\n",
       "</g>\n",
       "</g>\n",
       "</svg>\n"
      ],
      "text/plain": [
       "plot without title"
      ]
     },
     "metadata": {
      "image/svg+xml": {
       "isolated": true
      }
     },
     "output_type": "display_data"
    }
   ],
   "source": [
    "ggplot(data, aes(x=data$S2, y=data$Y)) + geom_line()"
   ]
  },
  {
   "cell_type": "markdown",
   "metadata": {},
   "source": [
    "El gráfico de dispersión entre dos variables de correlación 1 es una línea recta de 45%. Por ejemplo el gráfico de dispersión entre la variable Y con sigo misma:"
   ]
  },
  {
   "cell_type": "code",
   "execution_count": 45,
   "metadata": {
    "collapsed": false
   },
   "outputs": [
    {
     "data": {
      "image/png": "[encoded data removed]",
      "image/svg+xml": [
       "<?xml version=\"1.0\" encoding=\"UTF-8\"?>\n",
       "<svg xmlns=\"http://www.w3.org/2000/svg\" xmlns:xlink=\"http://www.w3.org/1999/xlink\" width=\"504pt\" height=\"504pt\" viewBox=\"0 0 504 504\" version=\"1.1\">\n",
       "<defs>\n",
       "<g>\n",
       "<symbol overflow=\"visible\" id=\"glyph0-0\">\n",
       "<path style=\"stroke:none;\" d=\"\"/>\n",
       "</symbol>\n",
       "<symbol overflow=\"visible\" id=\"glyph0-1\">\n",
       "<path style=\"stroke:none;\" d=\"M 2.484375 -4.84375 L 2.484375 0 L 3.328125 0 L 3.328125 -6.796875 L 2.765625 -6.796875 C 2.46875 -5.75 2.28125 -5.609375 0.984375 -5.453125 L 0.984375 -4.84375 Z \"/>\n",
       "</symbol>\n",
       "<symbol overflow=\"visible\" id=\"glyph0-2\">\n",
       "<path style=\"stroke:none;\" d=\"M 2.640625 -6.796875 C 2 -6.796875 1.421875 -6.53125 1.078125 -6.046875 C 0.640625 -5.453125 0.40625 -4.546875 0.40625 -3.296875 C 0.40625 -1 1.1875 0.21875 2.640625 0.21875 C 4.078125 0.21875 4.859375 -1 4.859375 -3.234375 C 4.859375 -4.5625 4.65625 -5.4375 4.203125 -6.046875 C 3.84375 -6.53125 3.28125 -6.796875 2.640625 -6.796875 Z M 2.640625 -6.046875 C 3.546875 -6.046875 4 -5.125 4 -3.3125 C 4 -1.375 3.5625 -0.484375 2.625 -0.484375 C 1.734375 -0.484375 1.28125 -1.421875 1.28125 -3.28125 C 1.28125 -5.140625 1.734375 -6.046875 2.640625 -6.046875 Z \"/>\n",
       "</symbol>\n",
       "<symbol overflow=\"visible\" id=\"glyph0-3\">\n",
       "<path style=\"stroke:none;\" d=\"M 4.859375 -0.828125 L 1.28125 -0.828125 C 1.359375 -1.390625 1.671875 -1.75 2.5 -2.234375 L 3.46875 -2.75 C 4.40625 -3.265625 4.90625 -3.96875 4.90625 -4.8125 C 4.90625 -5.375 4.671875 -5.90625 4.265625 -6.265625 C 3.859375 -6.625 3.375 -6.796875 2.71875 -6.796875 C 1.859375 -6.796875 1.21875 -6.5 0.84375 -5.921875 C 0.609375 -5.5625 0.5 -5.125 0.484375 -4.4375 L 1.328125 -4.4375 C 1.359375 -4.90625 1.40625 -5.1875 1.53125 -5.40625 C 1.75 -5.8125 2.1875 -6.0625 2.703125 -6.0625 C 3.46875 -6.0625 4.03125 -5.515625 4.03125 -4.78125 C 4.03125 -4.25 3.71875 -3.796875 3.125 -3.4375 L 2.234375 -2.9375 C 0.8125 -2.140625 0.40625 -1.5 0.328125 0 L 4.859375 0 Z \"/>\n",
       "</symbol>\n",
       "<symbol overflow=\"visible\" id=\"glyph0-4\">\n",
       "<path style=\"stroke:none;\" d=\"M 2.125 -3.125 L 2.578125 -3.125 C 3.515625 -3.125 3.984375 -2.703125 3.984375 -1.890625 C 3.984375 -1.03125 3.46875 -0.53125 2.578125 -0.53125 C 1.65625 -0.53125 1.203125 -0.984375 1.15625 -1.96875 L 0.3125 -1.96875 C 0.34375 -1.421875 0.4375 -1.078125 0.609375 -0.765625 C 0.953125 -0.109375 1.625 0.21875 2.546875 0.21875 C 3.953125 0.21875 4.859375 -0.609375 4.859375 -1.90625 C 4.859375 -2.765625 4.515625 -3.25 3.703125 -3.515625 C 4.34375 -3.765625 4.65625 -4.25 4.65625 -4.9375 C 4.65625 -6.109375 3.875 -6.796875 2.578125 -6.796875 C 1.203125 -6.796875 0.484375 -6.046875 0.453125 -4.609375 L 1.296875 -4.609375 C 1.3125 -5.015625 1.34375 -5.25 1.453125 -5.453125 C 1.640625 -5.828125 2.0625 -6.0625 2.59375 -6.0625 C 3.34375 -6.0625 3.796875 -5.625 3.796875 -4.90625 C 3.796875 -4.421875 3.609375 -4.140625 3.25 -3.984375 C 3.015625 -3.890625 2.71875 -3.84375 2.125 -3.84375 Z \"/>\n",
       "</symbol>\n",
       "<symbol overflow=\"visible\" id=\"glyph1-0\">\n",
       "<path style=\"stroke:none;\" d=\"\"/>\n",
       "</symbol>\n",
       "<symbol overflow=\"visible\" id=\"glyph1-1\">\n",
       "<path style=\"stroke:none;\" d=\"M 5.9375 -8.75 L 4.9375 -8.75 L 4.9375 -5.5 C 4.53125 -6.125 3.859375 -6.46875 3.015625 -6.46875 C 1.375 -6.46875 0.3125 -5.15625 0.3125 -3.15625 C 0.3125 -1.03125 1.359375 0.28125 3.046875 0.28125 C 3.90625 0.28125 4.515625 -0.046875 5.046875 -0.828125 L 5.046875 0 L 5.9375 0 Z M 3.1875 -5.53125 C 4.265625 -5.53125 4.9375 -4.578125 4.9375 -3.078125 C 4.9375 -1.625 4.25 -0.65625 3.1875 -0.65625 C 2.09375 -0.65625 1.359375 -1.625 1.359375 -3.09375 C 1.359375 -4.5625 2.09375 -5.53125 3.1875 -5.53125 Z \"/>\n",
       "</symbol>\n",
       "<symbol overflow=\"visible\" id=\"glyph1-2\">\n",
       "<path style=\"stroke:none;\" d=\"M 6.421875 -0.59375 C 6.3125 -0.5625 6.265625 -0.5625 6.203125 -0.5625 C 5.859375 -0.5625 5.65625 -0.75 5.65625 -1.0625 L 5.65625 -4.75 C 5.65625 -5.875 4.84375 -6.46875 3.296875 -6.46875 C 2.390625 -6.46875 1.625 -6.203125 1.21875 -5.734375 C 0.921875 -5.40625 0.796875 -5.046875 0.78125 -4.421875 L 1.78125 -4.421875 C 1.875 -5.203125 2.328125 -5.546875 3.265625 -5.546875 C 4.15625 -5.546875 4.671875 -5.203125 4.671875 -4.609375 L 4.671875 -4.34375 C 4.671875 -3.921875 4.421875 -3.75 3.625 -3.640625 C 2.203125 -3.46875 1.984375 -3.421875 1.609375 -3.265625 C 0.875 -2.96875 0.5 -2.40625 0.5 -1.578125 C 0.5 -0.4375 1.296875 0.28125 2.5625 0.28125 C 3.359375 0.28125 4 0 4.703125 -0.640625 C 4.78125 -0.015625 5.09375 0.28125 5.734375 0.28125 C 5.9375 0.28125 6.09375 0.25 6.421875 0.171875 Z M 4.671875 -1.984375 C 4.671875 -1.640625 4.578125 -1.4375 4.265625 -1.15625 C 3.859375 -0.796875 3.375 -0.59375 2.78125 -0.59375 C 2 -0.59375 1.546875 -0.96875 1.546875 -1.609375 C 1.546875 -2.265625 1.984375 -2.609375 3.0625 -2.765625 C 4.109375 -2.90625 4.328125 -2.953125 4.671875 -3.109375 Z \"/>\n",
       "</symbol>\n",
       "<symbol overflow=\"visible\" id=\"glyph1-3\">\n",
       "<path style=\"stroke:none;\" d=\"M 3.046875 -6.28125 L 2.015625 -6.28125 L 2.015625 -8.015625 L 1.015625 -8.015625 L 1.015625 -6.28125 L 0.171875 -6.28125 L 0.171875 -5.46875 L 1.015625 -5.46875 L 1.015625 -0.71875 C 1.015625 -0.078125 1.453125 0.28125 2.234375 0.28125 C 2.46875 0.28125 2.71875 0.25 3.046875 0.1875 L 3.046875 -0.640625 C 2.921875 -0.609375 2.765625 -0.59375 2.5625 -0.59375 C 2.140625 -0.59375 2.015625 -0.71875 2.015625 -1.15625 L 2.015625 -5.46875 L 3.046875 -5.46875 Z \"/>\n",
       "</symbol>\n",
       "<symbol overflow=\"visible\" id=\"glyph1-4\">\n",
       "<path style=\"stroke:none;\" d=\"M 2.921875 -9.234375 L 2.921875 -8.59375 C 1.375 -8.40625 0.546875 -7.5625 0.546875 -6.1875 C 0.546875 -5.4375 0.84375 -4.84375 1.40625 -4.4375 C 1.71875 -4.21875 2.046875 -4.078125 2.921875 -3.8125 L 2.921875 -0.546875 C 2.375 -0.625 1.921875 -0.859375 1.640625 -1.234375 C 1.46875 -1.515625 1.421875 -1.71875 1.34375 -2.5 L 0.390625 -2.5 C 0.3125 -0.828125 1.21875 0.171875 2.921875 0.28125 L 2.921875 1.515625 L 3.625 1.515625 L 3.625 0.28125 C 4.265625 0.234375 4.71875 0.09375 5.109375 -0.140625 C 5.8125 -0.578125 6.21875 -1.40625 6.21875 -2.34375 C 6.21875 -3.1875 5.890625 -3.796875 5.203125 -4.1875 C 4.890625 -4.375 4.734375 -4.421875 3.625 -4.765625 L 3.625 -7.75 C 4.421875 -7.71875 4.984375 -7.109375 5 -6.234375 L 5.953125 -6.234375 C 5.953125 -7.59375 5.078125 -8.484375 3.625 -8.59375 L 3.625 -9.234375 Z M 2.921875 -4.859375 C 1.96875 -5.109375 1.53125 -5.578125 1.53125 -6.3125 C 1.53125 -7.109375 2.03125 -7.625 2.921875 -7.734375 Z M 3.625 -3.703125 C 4.84375 -3.34375 5.234375 -2.984375 5.234375 -2.203125 C 5.234375 -1.734375 5.046875 -1.3125 4.734375 -1 C 4.4375 -0.71875 4.140625 -0.609375 3.625 -0.546875 Z \"/>\n",
       "</symbol>\n",
       "<symbol overflow=\"visible\" id=\"glyph1-5\">\n",
       "<path style=\"stroke:none;\" d=\"M 4.640625 -3.4375 L 7.9375 -8.75 L 6.59375 -8.75 L 4.109375 -4.484375 L 1.53125 -8.75 L 0.15625 -8.75 L 3.53125 -3.4375 L 3.53125 0 L 4.640625 0 Z \"/>\n",
       "</symbol>\n",
       "<symbol overflow=\"visible\" id=\"glyph2-0\">\n",
       "<path style=\"stroke:none;\" d=\"\"/>\n",
       "</symbol>\n",
       "<symbol overflow=\"visible\" id=\"glyph2-1\">\n",
       "<path style=\"stroke:none;\" d=\"M -8.75 -5.9375 L -8.75 -4.9375 L -5.5 -4.9375 C -6.125 -4.53125 -6.46875 -3.859375 -6.46875 -3.015625 C -6.46875 -1.375 -5.15625 -0.3125 -3.15625 -0.3125 C -1.03125 -0.3125 0.28125 -1.359375 0.28125 -3.046875 C 0.28125 -3.90625 -0.046875 -4.515625 -0.828125 -5.046875 L 0 -5.046875 L 0 -5.9375 Z M -5.53125 -3.1875 C -5.53125 -4.265625 -4.578125 -4.9375 -3.078125 -4.9375 C -1.625 -4.9375 -0.65625 -4.25 -0.65625 -3.1875 C -0.65625 -2.09375 -1.625 -1.359375 -3.09375 -1.359375 C -4.5625 -1.359375 -5.53125 -2.09375 -5.53125 -3.1875 Z \"/>\n",
       "</symbol>\n",
       "<symbol overflow=\"visible\" id=\"glyph2-2\">\n",
       "<path style=\"stroke:none;\" d=\"M -0.59375 -6.421875 C -0.5625 -6.3125 -0.5625 -6.265625 -0.5625 -6.203125 C -0.5625 -5.859375 -0.75 -5.65625 -1.0625 -5.65625 L -4.75 -5.65625 C -5.875 -5.65625 -6.46875 -4.84375 -6.46875 -3.296875 C -6.46875 -2.390625 -6.203125 -1.625 -5.734375 -1.21875 C -5.40625 -0.921875 -5.046875 -0.796875 -4.421875 -0.78125 L -4.421875 -1.78125 C -5.203125 -1.875 -5.546875 -2.328125 -5.546875 -3.265625 C -5.546875 -4.15625 -5.203125 -4.671875 -4.609375 -4.671875 L -4.34375 -4.671875 C -3.921875 -4.671875 -3.75 -4.421875 -3.640625 -3.625 C -3.46875 -2.203125 -3.421875 -1.984375 -3.265625 -1.609375 C -2.96875 -0.875 -2.40625 -0.5 -1.578125 -0.5 C -0.4375 -0.5 0.28125 -1.296875 0.28125 -2.5625 C 0.28125 -3.359375 0 -4 -0.640625 -4.703125 C -0.015625 -4.78125 0.28125 -5.09375 0.28125 -5.734375 C 0.28125 -5.9375 0.25 -6.09375 0.171875 -6.421875 Z M -1.984375 -4.671875 C -1.640625 -4.671875 -1.4375 -4.578125 -1.15625 -4.265625 C -0.796875 -3.859375 -0.59375 -3.375 -0.59375 -2.78125 C -0.59375 -2 -0.96875 -1.546875 -1.609375 -1.546875 C -2.265625 -1.546875 -2.609375 -1.984375 -2.765625 -3.0625 C -2.90625 -4.109375 -2.953125 -4.328125 -3.109375 -4.671875 Z \"/>\n",
       "</symbol>\n",
       "<symbol overflow=\"visible\" id=\"glyph2-3\">\n",
       "<path style=\"stroke:none;\" d=\"M -6.28125 -3.046875 L -6.28125 -2.015625 L -8.015625 -2.015625 L -8.015625 -1.015625 L -6.28125 -1.015625 L -6.28125 -0.171875 L -5.46875 -0.171875 L -5.46875 -1.015625 L -0.71875 -1.015625 C -0.078125 -1.015625 0.28125 -1.453125 0.28125 -2.234375 C 0.28125 -2.46875 0.25 -2.71875 0.1875 -3.046875 L -0.640625 -3.046875 C -0.609375 -2.921875 -0.59375 -2.765625 -0.59375 -2.5625 C -0.59375 -2.140625 -0.71875 -2.015625 -1.15625 -2.015625 L -5.46875 -2.015625 L -5.46875 -3.046875 Z \"/>\n",
       "</symbol>\n",
       "<symbol overflow=\"visible\" id=\"glyph2-4\">\n",
       "<path style=\"stroke:none;\" d=\"M -9.234375 -2.921875 L -8.59375 -2.921875 C -8.40625 -1.375 -7.5625 -0.546875 -6.1875 -0.546875 C -5.4375 -0.546875 -4.84375 -0.84375 -4.4375 -1.40625 C -4.21875 -1.71875 -4.078125 -2.046875 -3.8125 -2.921875 L -0.546875 -2.921875 C -0.625 -2.375 -0.859375 -1.921875 -1.234375 -1.640625 C -1.515625 -1.46875 -1.71875 -1.421875 -2.5 -1.34375 L -2.5 -0.390625 C -0.828125 -0.3125 0.171875 -1.21875 0.28125 -2.921875 L 1.515625 -2.921875 L 1.515625 -3.625 L 0.28125 -3.625 C 0.234375 -4.265625 0.09375 -4.71875 -0.140625 -5.109375 C -0.578125 -5.8125 -1.40625 -6.21875 -2.34375 -6.21875 C -3.1875 -6.21875 -3.796875 -5.890625 -4.1875 -5.203125 C -4.375 -4.890625 -4.421875 -4.734375 -4.765625 -3.625 L -7.75 -3.625 C -7.71875 -4.421875 -7.109375 -4.984375 -6.234375 -5 L -6.234375 -5.953125 C -7.59375 -5.953125 -8.484375 -5.078125 -8.59375 -3.625 L -9.234375 -3.625 Z M -4.859375 -2.921875 C -5.109375 -1.96875 -5.578125 -1.53125 -6.3125 -1.53125 C -7.109375 -1.53125 -7.625 -2.03125 -7.734375 -2.921875 Z M -3.703125 -3.625 C -3.34375 -4.84375 -2.984375 -5.234375 -2.203125 -5.234375 C -1.734375 -5.234375 -1.3125 -5.046875 -1 -4.734375 C -0.71875 -4.4375 -0.609375 -4.140625 -0.546875 -3.625 Z \"/>\n",
       "</symbol>\n",
       "<symbol overflow=\"visible\" id=\"glyph2-5\">\n",
       "<path style=\"stroke:none;\" d=\"M -3.4375 -4.640625 L -8.75 -7.9375 L -8.75 -6.59375 L -4.484375 -4.109375 L -8.75 -1.53125 L -8.75 -0.15625 L -3.4375 -3.53125 L 0 -3.53125 L 0 -4.640625 Z \"/>\n",
       "</symbol>\n",
       "</g>\n",
       "<clipPath id=\"clip1\">\n",
       "  <path d=\"M 47.488281 14.398438 L 490 14.398438 L 490 467 L 47.488281 467 Z \"/>\n",
       "</clipPath>\n",
       "<clipPath id=\"clip2\">\n",
       "  <path d=\"M 47.488281 413 L 490 413 L 490 415 L 47.488281 415 Z \"/>\n",
       "</clipPath>\n",
       "<clipPath id=\"clip3\">\n",
       "  <path d=\"M 47.488281 285 L 490 285 L 490 287 L 47.488281 287 Z \"/>\n",
       "</clipPath>\n",
       "<clipPath id=\"clip4\">\n",
       "  <path d=\"M 47.488281 157 L 490 157 L 490 159 L 47.488281 159 Z \"/>\n",
       "</clipPath>\n",
       "<clipPath id=\"clip5\">\n",
       "  <path d=\"M 47.488281 29 L 490 29 L 490 31 L 47.488281 31 Z \"/>\n",
       "</clipPath>\n",
       "<clipPath id=\"clip6\">\n",
       "  <path d=\"M 98 14.398438 L 100 14.398438 L 100 467 L 98 467 Z \"/>\n",
       "</clipPath>\n",
       "<clipPath id=\"clip7\">\n",
       "  <path d=\"M 223 14.398438 L 225 14.398438 L 225 467 L 223 467 Z \"/>\n",
       "</clipPath>\n",
       "<clipPath id=\"clip8\">\n",
       "  <path d=\"M 349 14.398438 L 350 14.398438 L 350 467 L 349 467 Z \"/>\n",
       "</clipPath>\n",
       "<clipPath id=\"clip9\">\n",
       "  <path d=\"M 474 14.398438 L 475 14.398438 L 475 467 L 474 467 Z \"/>\n",
       "</clipPath>\n",
       "<clipPath id=\"clip10\">\n",
       "  <path d=\"M 47.488281 349 L 490.601562 349 L 490.601562 351 L 47.488281 351 Z \"/>\n",
       "</clipPath>\n",
       "<clipPath id=\"clip11\">\n",
       "  <path d=\"M 47.488281 221 L 490.601562 221 L 490.601562 223 L 47.488281 223 Z \"/>\n",
       "</clipPath>\n",
       "<clipPath id=\"clip12\">\n",
       "  <path d=\"M 47.488281 93 L 490.601562 93 L 490.601562 95 L 47.488281 95 Z \"/>\n",
       "</clipPath>\n",
       "<clipPath id=\"clip13\">\n",
       "  <path d=\"M 160 14.398438 L 163 14.398438 L 163 467.511719 L 160 467.511719 Z \"/>\n",
       "</clipPath>\n",
       "<clipPath id=\"clip14\">\n",
       "  <path d=\"M 286 14.398438 L 288 14.398438 L 288 467.511719 L 286 467.511719 Z \"/>\n",
       "</clipPath>\n",
       "<clipPath id=\"clip15\">\n",
       "  <path d=\"M 411 14.398438 L 413 14.398438 L 413 467.511719 L 411 467.511719 Z \"/>\n",
       "</clipPath>\n",
       "</defs>\n",
       "<g id=\"surface241\">\n",
       "<rect x=\"0\" y=\"0\" width=\"504\" height=\"504\" style=\"fill:rgb(100%,100%,100%);fill-opacity:1;stroke:none;\"/>\n",
       "<rect x=\"0\" y=\"0\" width=\"504\" height=\"504\" style=\"fill:rgb(100%,100%,100%);fill-opacity:1;stroke:none;\"/>\n",
       "<path style=\"fill:none;stroke-width:1.062992;stroke-linecap:round;stroke-linejoin:round;stroke:rgb(100%,100%,100%);stroke-opacity:1;stroke-miterlimit:10;\" d=\"M 0 504 L 504 504 L 504 0 L 0 0 Z \"/>\n",
       "<g clip-path=\"url(#clip1)\" clip-rule=\"nonzero\">\n",
       "<path style=\" stroke:none;fill-rule:nonzero;fill:rgb(89.803922%,89.803922%,89.803922%);fill-opacity:1;\" d=\"M 47.488281 466.511719 L 489.601562 466.511719 L 489.601562 14.398438 L 47.488281 14.398438 Z \"/>\n",
       "</g>\n",
       "<g clip-path=\"url(#clip2)\" clip-rule=\"nonzero\">\n",
       "<path style=\"fill:none;stroke-width:0.531496;stroke-linecap:butt;stroke-linejoin:round;stroke:rgb(94.901961%,94.901961%,94.901961%);stroke-opacity:1;stroke-miterlimit:10;\" d=\"M 47.488281 413.953125 L 489.601562 413.953125 \"/>\n",
       "</g>\n",
       "<g clip-path=\"url(#clip3)\" clip-rule=\"nonzero\">\n",
       "<path style=\"fill:none;stroke-width:0.531496;stroke-linecap:butt;stroke-linejoin:round;stroke:rgb(94.901961%,94.901961%,94.901961%);stroke-opacity:1;stroke-miterlimit:10;\" d=\"M 47.488281 285.910156 L 489.601562 285.910156 \"/>\n",
       "</g>\n",
       "<g clip-path=\"url(#clip4)\" clip-rule=\"nonzero\">\n",
       "<path style=\"fill:none;stroke-width:0.531496;stroke-linecap:butt;stroke-linejoin:round;stroke:rgb(94.901961%,94.901961%,94.901961%);stroke-opacity:1;stroke-miterlimit:10;\" d=\"M 47.488281 157.871094 L 489.601562 157.871094 \"/>\n",
       "</g>\n",
       "<g clip-path=\"url(#clip5)\" clip-rule=\"nonzero\">\n",
       "<path style=\"fill:none;stroke-width:0.531496;stroke-linecap:butt;stroke-linejoin:round;stroke:rgb(94.901961%,94.901961%,94.901961%);stroke-opacity:1;stroke-miterlimit:10;\" d=\"M 47.488281 29.828125 L 489.601562 29.828125 \"/>\n",
       "</g>\n",
       "<g clip-path=\"url(#clip6)\" clip-rule=\"nonzero\">\n",
       "<path style=\"fill:none;stroke-width:0.531496;stroke-linecap:butt;stroke-linejoin:round;stroke:rgb(94.901961%,94.901961%,94.901961%);stroke-opacity:1;stroke-miterlimit:10;\" d=\"M 98.886719 466.511719 L 98.886719 14.398438 \"/>\n",
       "</g>\n",
       "<g clip-path=\"url(#clip7)\" clip-rule=\"nonzero\">\n",
       "<path style=\"fill:none;stroke-width:0.531496;stroke-linecap:butt;stroke-linejoin:round;stroke:rgb(94.901961%,94.901961%,94.901961%);stroke-opacity:1;stroke-miterlimit:10;\" d=\"M 224.09375 466.511719 L 224.09375 14.398438 \"/>\n",
       "</g>\n",
       "<g clip-path=\"url(#clip8)\" clip-rule=\"nonzero\">\n",
       "<path style=\"fill:none;stroke-width:0.531496;stroke-linecap:butt;stroke-linejoin:round;stroke:rgb(94.901961%,94.901961%,94.901961%);stroke-opacity:1;stroke-miterlimit:10;\" d=\"M 349.304688 466.511719 L 349.304688 14.398438 \"/>\n",
       "</g>\n",
       "<g clip-path=\"url(#clip9)\" clip-rule=\"nonzero\">\n",
       "<path style=\"fill:none;stroke-width:0.531496;stroke-linecap:butt;stroke-linejoin:round;stroke:rgb(94.901961%,94.901961%,94.901961%);stroke-opacity:1;stroke-miterlimit:10;\" d=\"M 474.511719 466.511719 L 474.511719 14.398438 \"/>\n",
       "</g>\n",
       "<g clip-path=\"url(#clip10)\" clip-rule=\"nonzero\">\n",
       "<path style=\"fill:none;stroke-width:1.062992;stroke-linecap:butt;stroke-linejoin:round;stroke:rgb(100%,100%,100%);stroke-opacity:1;stroke-miterlimit:10;\" d=\"M 47.488281 349.933594 L 489.601562 349.933594 \"/>\n",
       "</g>\n",
       "<g clip-path=\"url(#clip11)\" clip-rule=\"nonzero\">\n",
       "<path style=\"fill:none;stroke-width:1.062992;stroke-linecap:butt;stroke-linejoin:round;stroke:rgb(100%,100%,100%);stroke-opacity:1;stroke-miterlimit:10;\" d=\"M 47.488281 221.890625 L 489.601562 221.890625 \"/>\n",
       "</g>\n",
       "<g clip-path=\"url(#clip12)\" clip-rule=\"nonzero\">\n",
       "<path style=\"fill:none;stroke-width:1.062992;stroke-linecap:butt;stroke-linejoin:round;stroke:rgb(100%,100%,100%);stroke-opacity:1;stroke-miterlimit:10;\" d=\"M 47.488281 93.847656 L 489.601562 93.847656 \"/>\n",
       "</g>\n",
       "<g clip-path=\"url(#clip13)\" clip-rule=\"nonzero\">\n",
       "<path style=\"fill:none;stroke-width:1.062992;stroke-linecap:butt;stroke-linejoin:round;stroke:rgb(100%,100%,100%);stroke-opacity:1;stroke-miterlimit:10;\" d=\"M 161.488281 466.511719 L 161.488281 14.398438 \"/>\n",
       "</g>\n",
       "<g clip-path=\"url(#clip14)\" clip-rule=\"nonzero\">\n",
       "<path style=\"fill:none;stroke-width:1.062992;stroke-linecap:butt;stroke-linejoin:round;stroke:rgb(100%,100%,100%);stroke-opacity:1;stroke-miterlimit:10;\" d=\"M 286.699219 466.511719 L 286.699219 14.398438 \"/>\n",
       "</g>\n",
       "<g clip-path=\"url(#clip15)\" clip-rule=\"nonzero\">\n",
       "<path style=\"fill:none;stroke-width:1.062992;stroke-linecap:butt;stroke-linejoin:round;stroke:rgb(100%,100%,100%);stroke-opacity:1;stroke-miterlimit:10;\" d=\"M 411.90625 466.511719 L 411.90625 14.398438 \"/>\n",
       "</g>\n",
       "<path style=\"fill:none;stroke-width:1.062992;stroke-linecap:butt;stroke-linejoin:round;stroke:rgb(0%,0%,0%);stroke-opacity:1;stroke-miterlimit:1;\" d=\"M 67.582031 445.960938 L 75.09375 438.28125 L 82.609375 430.597656 L 85.113281 428.035156 L 86.363281 426.757812 L 88.867188 424.195312 L 90.121094 422.914062 L 91.371094 421.636719 L 92.625 420.355469 L 95.128906 417.792969 L 96.378906 416.511719 L 97.632812 415.234375 L 98.886719 413.953125 L 100.136719 412.671875 L 101.390625 411.390625 L 102.640625 410.109375 L 103.894531 408.832031 L 105.144531 407.550781 L 107.648438 404.988281 L 108.902344 403.710938 L 110.152344 402.429688 L 111.40625 401.148438 L 112.65625 399.867188 L 115.164062 397.308594 L 116.414062 396.027344 L 117.667969 394.746094 L 118.917969 393.464844 L 120.171875 392.183594 L 121.421875 390.90625 L 122.675781 389.625 L 123.925781 388.34375 L 125.179688 387.0625 L 126.429688 385.785156 L 127.683594 384.503906 L 128.933594 383.222656 L 130.1875 381.941406 L 132.691406 379.382812 L 133.945312 378.101562 L 135.195312 376.820312 L 136.449219 375.539062 L 137.699219 374.257812 L 140.203125 371.699219 L 141.457031 370.417969 L 142.707031 369.136719 L 143.960938 367.859375 L 145.210938 366.578125 L 146.464844 365.296875 L 147.714844 364.015625 L 148.96875 362.734375 L 150.21875 361.457031 L 152.726562 358.894531 L 153.976562 357.613281 L 155.230469 356.332031 L 156.480469 355.054688 L 157.734375 353.773438 L 158.984375 352.492188 L 160.238281 351.210938 L 161.488281 349.933594 L 162.742188 348.652344 L 163.992188 347.371094 L 165.246094 346.089844 L 166.496094 344.808594 L 170.253906 340.96875 L 171.507812 339.6875 L 172.757812 338.40625 L 174.011719 337.128906 L 175.261719 335.847656 L 177.765625 333.285156 L 179.019531 332.007812 L 180.269531 330.726562 L 181.523438 329.445312 L 184.027344 326.882812 L 186.53125 324.324219 L 187.785156 323.042969 L 189.035156 321.761719 L 190.289062 320.484375 L 191.539062 319.203125 L 192.792969 317.921875 L 194.042969 316.640625 L 195.296875 315.359375 L 196.546875 314.082031 L 197.800781 312.800781 L 200.304688 310.238281 L 201.554688 308.957031 L 204.0625 306.398438 L 205.3125 305.117188 L 206.566406 303.835938 L 207.816406 302.558594 L 209.070312 301.277344 L 210.320312 299.996094 L 211.574219 298.714844 L 212.824219 297.433594 L 214.078125 296.15625 L 215.328125 294.875 L 216.582031 293.59375 L 217.832031 292.3125 L 220.335938 289.753906 L 221.589844 288.472656 L 224.09375 285.910156 L 225.347656 284.632812 L 226.597656 283.351562 L 227.851562 282.070312 L 229.101562 280.789062 L 230.355469 279.507812 L 231.605469 278.230469 L 236.613281 273.105469 L 237.867188 271.828125 L 239.121094 270.546875 L 240.371094 269.265625 L 241.625 267.984375 L 244.128906 265.425781 L 245.378906 264.144531 L 246.632812 262.863281 L 249.136719 260.304688 L 250.386719 259.023438 L 251.640625 257.742188 L 252.890625 256.460938 L 254.144531 255.179688 L 255.394531 253.902344 L 257.902344 251.339844 L 259.152344 250.058594 L 260.40625 248.78125 L 261.65625 247.5 L 262.910156 246.21875 L 264.160156 244.9375 L 265.414062 243.65625 L 267.917969 241.097656 L 269.167969 239.816406 L 270.421875 238.535156 L 272.925781 235.976562 L 274.175781 234.695312 L 276.683594 232.132812 L 280.4375 228.292969 L 281.691406 227.011719 L 282.941406 225.730469 L 284.195312 224.453125 L 285.445312 223.171875 L 286.699219 221.890625 L 287.949219 220.609375 L 289.203125 219.328125 L 294.210938 214.207031 L 296.714844 211.648438 L 297.96875 210.367188 L 299.21875 209.085938 L 301.722656 206.527344 L 304.226562 203.964844 L 305.480469 202.683594 L 306.730469 201.402344 L 307.984375 200.125 L 310.488281 197.5625 L 311.742188 196.28125 L 312.992188 195.003906 L 314.246094 193.722656 L 318 189.878906 L 323.007812 184.757812 L 324.261719 183.476562 L 326.765625 180.917969 L 328.019531 179.636719 L 330.523438 177.078125 L 331.773438 175.796875 L 333.027344 174.515625 L 338.035156 169.394531 L 339.285156 168.113281 L 340.539062 166.832031 L 341.789062 165.550781 L 343.042969 164.273438 L 344.292969 162.992188 L 346.800781 160.429688 L 348.050781 159.152344 L 351.808594 155.308594 L 353.058594 154.027344 L 358.066406 148.90625 L 359.320312 147.625 L 360.570312 146.347656 L 363.078125 143.785156 L 364.328125 142.503906 L 365.582031 141.226562 L 366.832031 139.945312 L 368.085938 138.664062 L 371.839844 134.824219 L 376.847656 129.699219 L 378.101562 128.421875 L 379.351562 127.140625 L 381.859375 124.578125 L 383.109375 123.300781 L 385.613281 120.738281 L 386.867188 119.457031 L 388.117188 118.175781 L 390.621094 115.617188 L 396.882812 109.214844 L 401.890625 104.09375 L 403.144531 102.8125 L 405.648438 100.25 L 406.898438 98.972656 L 408.152344 97.691406 L 414.410156 91.289062 L 415.664062 90.007812 L 419.421875 86.167969 L 421.925781 83.605469 L 424.429688 81.046875 L 425.679688 79.765625 L 433.191406 72.082031 L 438.203125 66.960938 L 451.976562 52.875 L 456.984375 47.753906 L 463.242188 41.351562 L 469.503906 34.949219 \"/>\n",
       "<g style=\"fill:rgb(49.803922%,49.803922%,49.803922%);fill-opacity:1;\">\n",
       "  <use xlink:href=\"#glyph0-1\" x=\"23.398438\" y=\"352.581055\"/>\n",
       "  <use xlink:href=\"#glyph0-2\" x=\"28.732422\" y=\"352.581055\"/>\n",
       "  <use xlink:href=\"#glyph0-2\" x=\"34.066406\" y=\"352.581055\"/>\n",
       "</g>\n",
       "<g style=\"fill:rgb(49.803922%,49.803922%,49.803922%);fill-opacity:1;\">\n",
       "  <use xlink:href=\"#glyph0-3\" x=\"23.398438\" y=\"224.538086\"/>\n",
       "  <use xlink:href=\"#glyph0-2\" x=\"28.732422\" y=\"224.538086\"/>\n",
       "  <use xlink:href=\"#glyph0-2\" x=\"34.066406\" y=\"224.538086\"/>\n",
       "</g>\n",
       "<g style=\"fill:rgb(49.803922%,49.803922%,49.803922%);fill-opacity:1;\">\n",
       "  <use xlink:href=\"#glyph0-4\" x=\"23.398438\" y=\"96.495117\"/>\n",
       "  <use xlink:href=\"#glyph0-2\" x=\"28.732422\" y=\"96.495117\"/>\n",
       "  <use xlink:href=\"#glyph0-2\" x=\"34.066406\" y=\"96.495117\"/>\n",
       "</g>\n",
       "<path style=\"fill:none;stroke-width:1.062992;stroke-linecap:butt;stroke-linejoin:round;stroke:rgb(49.803922%,49.803922%,49.803922%);stroke-opacity:1;stroke-miterlimit:10;\" d=\"M 43.234375 349.933594 L 47.488281 349.933594 \"/>\n",
       "<path style=\"fill:none;stroke-width:1.062992;stroke-linecap:butt;stroke-linejoin:round;stroke:rgb(49.803922%,49.803922%,49.803922%);stroke-opacity:1;stroke-miterlimit:10;\" d=\"M 43.234375 221.890625 L 47.488281 221.890625 \"/>\n",
       "<path style=\"fill:none;stroke-width:1.062992;stroke-linecap:butt;stroke-linejoin:round;stroke:rgb(49.803922%,49.803922%,49.803922%);stroke-opacity:1;stroke-miterlimit:10;\" d=\"M 43.234375 93.847656 L 47.488281 93.847656 \"/>\n",
       "<path style=\"fill:none;stroke-width:1.062992;stroke-linecap:butt;stroke-linejoin:round;stroke:rgb(49.803922%,49.803922%,49.803922%);stroke-opacity:1;stroke-miterlimit:10;\" d=\"M 161.488281 470.765625 L 161.488281 466.511719 \"/>\n",
       "<path style=\"fill:none;stroke-width:1.062992;stroke-linecap:butt;stroke-linejoin:round;stroke:rgb(49.803922%,49.803922%,49.803922%);stroke-opacity:1;stroke-miterlimit:10;\" d=\"M 286.699219 470.765625 L 286.699219 466.511719 \"/>\n",
       "<path style=\"fill:none;stroke-width:1.062992;stroke-linecap:butt;stroke-linejoin:round;stroke:rgb(49.803922%,49.803922%,49.803922%);stroke-opacity:1;stroke-miterlimit:10;\" d=\"M 411.90625 470.765625 L 411.90625 466.511719 \"/>\n",
       "<g style=\"fill:rgb(49.803922%,49.803922%,49.803922%);fill-opacity:1;\">\n",
       "  <use xlink:href=\"#glyph0-1\" x=\"152.988281\" y=\"479.749023\"/>\n",
       "  <use xlink:href=\"#glyph0-2\" x=\"158.322266\" y=\"479.749023\"/>\n",
       "  <use xlink:href=\"#glyph0-2\" x=\"163.65625\" y=\"479.749023\"/>\n",
       "</g>\n",
       "<g style=\"fill:rgb(49.803922%,49.803922%,49.803922%);fill-opacity:1;\">\n",
       "  <use xlink:href=\"#glyph0-3\" x=\"278.199219\" y=\"479.749023\"/>\n",
       "  <use xlink:href=\"#glyph0-2\" x=\"283.533203\" y=\"479.749023\"/>\n",
       "  <use xlink:href=\"#glyph0-2\" x=\"288.867188\" y=\"479.749023\"/>\n",
       "</g>\n",
       "<g style=\"fill:rgb(49.803922%,49.803922%,49.803922%);fill-opacity:1;\">\n",
       "  <use xlink:href=\"#glyph0-4\" x=\"403.40625\" y=\"479.749023\"/>\n",
       "  <use xlink:href=\"#glyph0-2\" x=\"408.740234\" y=\"479.749023\"/>\n",
       "  <use xlink:href=\"#glyph0-2\" x=\"414.074219\" y=\"479.749023\"/>\n",
       "</g>\n",
       "<g style=\"fill:rgb(0%,0%,0%);fill-opacity:1;\">\n",
       "  <use xlink:href=\"#glyph1-1\" x=\"249.042969\" y=\"492.634766\"/>\n",
       "  <use xlink:href=\"#glyph1-2\" x=\"255.714844\" y=\"492.634766\"/>\n",
       "  <use xlink:href=\"#glyph1-3\" x=\"262.386719\" y=\"492.634766\"/>\n",
       "  <use xlink:href=\"#glyph1-2\" x=\"265.722656\" y=\"492.634766\"/>\n",
       "  <use xlink:href=\"#glyph1-4\" x=\"272.394531\" y=\"492.634766\"/>\n",
       "  <use xlink:href=\"#glyph1-5\" x=\"279.066406\" y=\"492.634766\"/>\n",
       "</g>\n",
       "<g style=\"fill:rgb(0%,0%,0%);fill-opacity:1;\">\n",
       "  <use xlink:href=\"#glyph2-1\" x=\"19.236328\" y=\"259.957031\"/>\n",
       "  <use xlink:href=\"#glyph2-2\" x=\"19.236328\" y=\"253.285156\"/>\n",
       "  <use xlink:href=\"#glyph2-3\" x=\"19.236328\" y=\"246.613281\"/>\n",
       "  <use xlink:href=\"#glyph2-2\" x=\"19.236328\" y=\"243.277344\"/>\n",
       "  <use xlink:href=\"#glyph2-4\" x=\"19.236328\" y=\"236.605469\"/>\n",
       "  <use xlink:href=\"#glyph2-5\" x=\"19.236328\" y=\"229.933594\"/>\n",
       "</g>\n",
       "</g>\n",
       "</svg>\n"
      ],
      "text/plain": [
       "plot without title"
      ]
     },
     "metadata": {
      "image/svg+xml": {
       "isolated": true
      }
     },
     "output_type": "display_data"
    }
   ],
   "source": [
    "ggplot(data, aes(x=data$Y, y=data$Y)) + geom_line()"
   ]
  },
  {
   "cell_type": "markdown",
   "metadata": {},
   "source": [
    "## - Transformar la variable SEX, que es un factor, en una variable numérica utilizando, por ejemplo, la codificación M=1 y F=2."
   ]
  },
  {
   "cell_type": "code",
   "execution_count": 46,
   "metadata": {
    "collapsed": false
   },
   "outputs": [
    {
     "name": "stdout",
     "output_type": "stream",
     "text": [
      "[1] \"Antes:\"\n"
     ]
    },
    {
     "data": {
      "text/html": [
       "<ol class=list-inline>\n",
       "\t<li>F</li>\n",
       "\t<li>M</li>\n",
       "\t<li>F</li>\n",
       "\t<li>M</li>\n",
       "\t<li>M</li>\n",
       "\t<li>M</li>\n",
       "\t<li>F</li>\n",
       "\t<li>F</li>\n",
       "\t<li>F</li>\n",
       "\t<li>M</li>\n",
       "</ol>\n"
      ],
      "text/latex": [
       "\\begin{enumerate*}\n",
       "\\item F\n",
       "\\item M\n",
       "\\item F\n",
       "\\item M\n",
       "\\item M\n",
       "\\item M\n",
       "\\item F\n",
       "\\item F\n",
       "\\item F\n",
       "\\item M\n",
       "\\end{enumerate*}\n"
      ],
      "text/markdown": [
       "1. F\n",
       "2. M\n",
       "3. F\n",
       "4. M\n",
       "5. M\n",
       "6. M\n",
       "7. F\n",
       "8. F\n",
       "9. F\n",
       "10. M\n",
       "\n",
       "\n"
      ],
      "text/plain": [
       " [1] F M F M M M F F F M\n",
       "Levels: F M"
      ]
     },
     "execution_count": 46,
     "metadata": {},
     "output_type": "execute_result"
    },
    {
     "data": {
      "text/html": [
       "'factor'"
      ],
      "text/latex": [
       "'factor'"
      ],
      "text/markdown": [
       "'factor'"
      ],
      "text/plain": [
       "[1] \"factor\""
      ]
     },
     "execution_count": 46,
     "metadata": {},
     "output_type": "execute_result"
    },
    {
     "name": "stdout",
     "output_type": "stream",
     "text": [
      "[1] \"Después:\"\n"
     ]
    },
    {
     "data": {
      "text/html": [
       "<ol class=list-inline>\n",
       "\t<li>2</li>\n",
       "\t<li>1</li>\n",
       "\t<li>2</li>\n",
       "\t<li>1</li>\n",
       "\t<li>1</li>\n",
       "\t<li>1</li>\n",
       "\t<li>2</li>\n",
       "\t<li>2</li>\n",
       "\t<li>2</li>\n",
       "\t<li>1</li>\n",
       "</ol>\n"
      ],
      "text/latex": [
       "\\begin{enumerate*}\n",
       "\\item 2\n",
       "\\item 1\n",
       "\\item 2\n",
       "\\item 1\n",
       "\\item 1\n",
       "\\item 1\n",
       "\\item 2\n",
       "\\item 2\n",
       "\\item 2\n",
       "\\item 1\n",
       "\\end{enumerate*}\n"
      ],
      "text/markdown": [
       "1. 2\n",
       "2. 1\n",
       "3. 2\n",
       "4. 1\n",
       "5. 1\n",
       "6. 1\n",
       "7. 2\n",
       "8. 2\n",
       "9. 2\n",
       "10. 1\n",
       "\n",
       "\n"
      ],
      "text/plain": [
       " [1] 2 1 2 1 1 1 2 2 2 1"
      ]
     },
     "execution_count": 46,
     "metadata": {},
     "output_type": "execute_result"
    },
    {
     "data": {
      "text/html": [
       "'numeric'"
      ],
      "text/latex": [
       "'numeric'"
      ],
      "text/markdown": [
       "'numeric'"
      ],
      "text/plain": [
       "[1] \"numeric\""
      ]
     },
     "execution_count": 46,
     "metadata": {},
     "output_type": "execute_result"
    },
    {
     "data": {
      "text/html": [
       "<table>\n",
       "<thead><tr><th></th><th scope=col>AGE</th><th scope=col>SEX</th><th scope=col>BMI</th><th scope=col>BP</th><th scope=col>S1</th><th scope=col>S2</th><th scope=col>S3</th><th scope=col>S4</th><th scope=col>S5</th><th scope=col>S6</th><th scope=col>Y</th></tr></thead>\n",
       "<tbody>\n",
       "\t<tr><th scope=row>1</th><td>59</td><td>2</td><td>32.1</td><td>101</td><td>157</td><td>93.2</td><td>38</td><td>4</td><td>4.8598</td><td>87</td><td>151</td></tr>\n",
       "\t<tr><th scope=row>2</th><td>48</td><td>1</td><td>21.6</td><td>87</td><td>183</td><td>103.2</td><td>70</td><td>3</td><td>3.8918</td><td>69</td><td>75</td></tr>\n",
       "\t<tr><th scope=row>3</th><td>72</td><td>2</td><td>30.5</td><td>93</td><td>156</td><td>93.6</td><td>41</td><td>4</td><td>4.6728</td><td>85</td><td>141</td></tr>\n",
       "\t<tr><th scope=row>4</th><td>24</td><td>1</td><td>25.3</td><td>84</td><td>198</td><td>131.4</td><td>40</td><td>5</td><td>4.8903</td><td>89</td><td>206</td></tr>\n",
       "\t<tr><th scope=row>5</th><td>50</td><td>1</td><td>23</td><td>101</td><td>192</td><td>125.4</td><td>52</td><td>4</td><td>4.2905</td><td>80</td><td>135</td></tr>\n",
       "\t<tr><th scope=row>6</th><td>23</td><td>1</td><td>22.6</td><td>89</td><td>139</td><td>64.8</td><td>61</td><td>2</td><td>4.1897</td><td>68</td><td>97</td></tr>\n",
       "</tbody>\n",
       "</table>\n"
      ],
      "text/latex": [
       "\\begin{tabular}{r|lllllllllll}\n",
       "  & AGE & SEX & BMI & BP & S1 & S2 & S3 & S4 & S5 & S6 & Y\\\\\n",
       "\\hline\n",
       "\t1 & 59 & 2 & 32.1 & 101 & 157 & 93.2 & 38 & 4 & 4.8598 & 87 & 151\\\\\n",
       "\t2 & 48 & 1 & 21.6 & 87 & 183 & 103.2 & 70 & 3 & 3.8918 & 69 & 75\\\\\n",
       "\t3 & 72 & 2 & 30.5 & 93 & 156 & 93.6 & 41 & 4 & 4.6728 & 85 & 141\\\\\n",
       "\t4 & 24 & 1 & 25.3 & 84 & 198 & 131.4 & 40 & 5 & 4.8903 & 89 & 206\\\\\n",
       "\t5 & 50 & 1 & 23 & 101 & 192 & 125.4 & 52 & 4 & 4.2905 & 80 & 135\\\\\n",
       "\t6 & 23 & 1 & 22.6 & 89 & 139 & 64.8 & 61 & 2 & 4.1897 & 68 & 97\\\\\n",
       "\\end{tabular}\n"
      ],
      "text/plain": [
       "  AGE SEX  BMI  BP  S1    S2 S3 S4     S5 S6   Y\n",
       "1  59   2 32.1 101 157  93.2 38  4 4.8598 87 151\n",
       "2  48   1 21.6  87 183 103.2 70  3 3.8918 69  75\n",
       "3  72   2 30.5  93 156  93.6 41  4 4.6728 85 141\n",
       "4  24   1 25.3  84 198 131.4 40  5 4.8903 89 206\n",
       "5  50   1 23.0 101 192 125.4 52  4 4.2905 80 135\n",
       "6  23   1 22.6  89 139  64.8 61  2 4.1897 68  97"
      ]
     },
     "execution_count": 46,
     "metadata": {},
     "output_type": "execute_result"
    }
   ],
   "source": [
    "# Muestra el valor de la variable SEX antes de la modificación\n",
    "print(\"Antes:\")\n",
    "head(data$SEX, 10)\n",
    "class(data$SEX)\n",
    "\n",
    "# Modifica los valores de la variable SEX\n",
    "data$SEX<-as.character(data$SEX)\n",
    "data$SEX<-replace(data$SEX, data$SEX==\"M\",\"1\")\n",
    "data$SEX<-replace(data$SEX, data$SEX==\"F\",\"2\")\n",
    "data$SEX <- as.numeric(data$SEX)\n",
    "\n",
    "# Muestra el valor de la variable SEX después de la modificación\n",
    "print(\"Después:\")\n",
    "head(data$SEX, 10)\n",
    "class(data$SEX)\n",
    "head(data)"
   ]
  },
  {
   "cell_type": "markdown",
   "metadata": {},
   "source": [
    "## - Definimos los outliers como los elementos (filas) de los datos para los que cualquiera de las variables está por encima o por debajo de la mediana más/menos 3 veces el MAD (Median Absolute Deviation). Identificar estos outliers y quitarlos."
   ]
  },
  {
   "cell_type": "code",
   "execution_count": 47,
   "metadata": {
    "collapsed": false
   },
   "outputs": [
    {
     "name": "stdout",
     "output_type": "stream",
     "text": [
      "[1] \"Numero de filas antes:\"\n"
     ]
    },
    {
     "data": {
      "text/html": [
       "433"
      ],
      "text/latex": [
       "433"
      ],
      "text/markdown": [
       "433"
      ],
      "text/plain": [
       "[1] 433"
      ]
     },
     "execution_count": 47,
     "metadata": {},
     "output_type": "execute_result"
    },
    {
     "name": "stdout",
     "output_type": "stream",
     "text": [
      "[1] \"Numero de filas después:\"\n"
     ]
    },
    {
     "data": {
      "text/html": [
       "415"
      ],
      "text/latex": [
       "415"
      ],
      "text/markdown": [
       "415"
      ],
      "text/plain": [
       "[1] 415"
      ]
     },
     "execution_count": 47,
     "metadata": {},
     "output_type": "execute_result"
    }
   ],
   "source": [
    "# Creamos una función que reemplace los outlier por NA\n",
    "quitar_outliers <- function(x) {\n",
    "  mediana <- median(x)\n",
    "  desviacion <- mad(x)\n",
    "  maximo <- mediana + 3 * desviacion\n",
    "  minimo <- mediana - 3 * desviacion\n",
    "  y <- x\n",
    "  y[x < minimo] <- NA\n",
    "  y[x > maximo] <- NA\n",
    "  y\n",
    "}\n",
    "\n",
    "# Mostramos las dimensiones del dataframe antes de la modificación\n",
    "print(\"Numero de filas antes:\")\n",
    "nrow(data)\n",
    "\n",
    "# Cambiamos los outlier de las variables (excepto sexo y edad) por NA\n",
    "for (i in 3:ncol(data)) {\n",
    "  data[[i]] <- quitar_outliers(data[[i]])\n",
    "}\n",
    "# Eliminamos las líneas del dataframe con algún valor NA\n",
    "data <- na.omit(data)\n",
    "\n",
    "# Mostramos las dimensiones del dataframe después de la modificación\n",
    "print(\"Numero de filas después:\")\n",
    "nrow(data)"
   ]
  },
  {
   "cell_type": "markdown",
   "metadata": {},
   "source": [
    "## - Separar el conjunto de datos en dos, el primero (entrenamiento) conteniendo un 70% de los datos y el segundo (test) un 30%, de forma aleatoria."
   ]
  },
  {
   "cell_type": "code",
   "execution_count": 48,
   "metadata": {
    "collapsed": false
   },
   "outputs": [
    {
     "data": {
      "text/html": [
       "290"
      ],
      "text/latex": [
       "290"
      ],
      "text/markdown": [
       "290"
      ],
      "text/plain": [
       "[1] 290"
      ]
     },
     "execution_count": 48,
     "metadata": {},
     "output_type": "execute_result"
    },
    {
     "name": "stdout",
     "output_type": "stream",
     "text": [
      " int [1:290] 70 335 159 136 248 411 51 121 236 257 ...\n",
      "'data.frame':\t290 obs. of  11 variables:\n",
      " $ AGE: int  52 25 49 57 52 45 46 34 60 59 ...\n",
      " $ SEX: num  2 2 2 2 1 1 1 1 1 2 ...\n",
      " $ BMI: num  26.6 22.6 31.9 30.7 23 24.2 24.9 20.6 23.4 27.2 ...\n",
      " $ BP : num  111 85 94 90 107 ...\n",
      " $ S1 : int  209 130 234 204 179 177 198 185 247 158 ...\n",
      " $ S2 : num  126 71 156 148 124 ...\n",
      " $ S3 : num  61 48 34 34 42.5 45 54 58 65 39 ...\n",
      " $ S4 : num  3 3 7 6 4.21 4 4 3 3.8 4 ...\n",
      " $ S5 : num  4.68 4.01 5.4 4.71 4.16 ...\n",
      " $ S6 : int  109 81 122 93 93 82 103 74 77 93 ...\n",
      " $ Y  : int  85 71 268 174 50 64 104 115 78 127 ...\n",
      " - attr(*, \"na.action\")=Class 'omit'  Named int [1:18] 23 57 114 120 138 158 227 253 257 258 ...\n",
      "  .. ..- attr(*, \"names\")= chr [1:18] \"24\" \"59\" \"118\" \"124\" ...\n",
      "'data.frame':\t125 obs. of  11 variables:\n",
      " $ AGE: int  59 50 60 61 41 35 63 53 46 48 ...\n",
      " $ SEX: num  2 1 2 1 1 1 1 1 1 2 ...\n",
      " $ BMI: num  32.1 23 32.1 24 24.7 21.1 24.4 20.5 27.4 33 ...\n",
      " $ BP : num  101 101 83 91 83 82 73 78 78 123 ...\n",
      " $ S1 : int  157 192 179 202 187 156 160 147 171 253 ...\n",
      " $ S2 : num  93.2 125.4 119.4 115.4 108.2 ...\n",
      " $ S3 : num  38 52 42 72 60 50 48 52 58 44 ...\n",
      " $ S4 : num  4 4 4 3 3 3 3 3 3 6 ...\n",
      " $ S5 : num  4.86 4.29 4.48 4.29 4.54 ...\n",
      " $ S6 : int  87 80 94 73 78 95 78 75 90 97 ...\n",
      " $ Y  : int  151 135 110 118 168 68 131 65 276 252 ...\n",
      " - attr(*, \"na.action\")=Class 'omit'  Named int [1:18] 23 57 114 120 138 158 227 253 257 258 ...\n",
      "  .. ..- attr(*, \"names\")= chr [1:18] \"24\" \"59\" \"118\" \"124\" ...\n"
     ]
    }
   ],
   "source": [
    "# Calculamos el número de filas correspondiente al 70%\n",
    "corte70 <- floor(0.70 * nrow(data))\n",
    "corte70\n",
    "\n",
    "# Fijamos la semilla para generación de números aleatorios\n",
    "set.seed(3)\n",
    "\n",
    "# Generamos la lista de números aleatorios (70%)\n",
    "aleatorios <- sample(seq_len(nrow(data)), size=corte70)\n",
    "str(aleatorios)\n",
    "\n",
    "# Generamos el dataframe de entrenamiento\n",
    "entrenamiento <- data[aleatorios,]\n",
    "str(entrenamiento)\n",
    "\n",
    "# Generamos el dataframe de test\n",
    "test <- data[-aleatorios,]\n",
    "str(test)"
   ]
  },
  {
   "cell_type": "markdown",
   "metadata": {},
   "source": [
    "## - Escalar los datos para que tengan media 0 y varianza 1, es decir, restar a cada variable numérica su media y dividir por la desviación tı́pica. Calcular la media y desviación en el conjunto de train, y utilizar esa misma media y desviación para escalar el conjunto de test."
   ]
  },
  {
   "cell_type": "code",
   "execution_count": 49,
   "metadata": {
    "collapsed": false
   },
   "outputs": [
    {
     "data": {
      "text/html": [
       "<table>\n",
       "<thead><tr><th></th><th scope=col>AGE</th><th scope=col>BMI</th><th scope=col>BP</th><th scope=col>S1</th><th scope=col>S2</th><th scope=col>S3</th><th scope=col>S4</th><th scope=col>S5</th><th scope=col>S6</th><th scope=col>Y</th></tr></thead>\n",
       "<tbody>\n",
       "\t<tr><th scope=row>1</th><td>48.53448</td><td>25.9769</td><td>94.45972</td><td>185.9931</td><td>112.8114</td><td>49.70172</td><td>3.984759</td><td>4.623143</td><td>91.21379</td><td>150.9621</td></tr>\n",
       "</tbody>\n",
       "</table>\n"
      ],
      "text/latex": [
       "\\begin{tabular}{r|llllllllll}\n",
       "  & AGE & BMI & BP & S1 & S2 & S3 & S4 & S5 & S6 & Y\\\\\n",
       "\\hline\n",
       "\t1 & 48.53448 & 25.9769 & 94.45972 & 185.9931 & 112.8114 & 49.70172 & 3.984759 & 4.623143 & 91.21379 & 150.9621\\\\\n",
       "\\end{tabular}\n"
      ],
      "text/plain": [
       "       AGE     BMI       BP       S1       S2       S3       S4       S5\n",
       "1 48.53448 25.9769 94.45972 185.9931 112.8114 49.70172 3.984759 4.623143\n",
       "        S6        Y\n",
       "1 91.21379 150.9621"
      ]
     },
     "execution_count": 49,
     "metadata": {},
     "output_type": "execute_result"
    },
    {
     "data": {
      "text/html": [
       "<table>\n",
       "<thead><tr><th></th><th scope=col>AGE</th><th scope=col>BMI</th><th scope=col>BP</th><th scope=col>S1</th><th scope=col>S2</th><th scope=col>S3</th><th scope=col>S4</th><th scope=col>S5</th><th scope=col>S6</th><th scope=col>Y</th></tr></thead>\n",
       "<tbody>\n",
       "\t<tr><th scope=row>1</th><td>13.36112</td><td>4.054668</td><td>13.28631</td><td>32.41662</td><td>28.33212</td><td>12.4252</td><td>1.223236</td><td>0.5254454</td><td>10.99052</td><td>76.61589</td></tr>\n",
       "</tbody>\n",
       "</table>\n"
      ],
      "text/latex": [
       "\\begin{tabular}{r|llllllllll}\n",
       "  & AGE & BMI & BP & S1 & S2 & S3 & S4 & S5 & S6 & Y\\\\\n",
       "\\hline\n",
       "\t1 & 13.36112 & 4.054668 & 13.28631 & 32.41662 & 28.33212 & 12.4252 & 1.223236 & 0.5254454 & 10.99052 & 76.61589\\\\\n",
       "\\end{tabular}\n"
      ],
      "text/plain": [
       "       AGE      BMI       BP       S1       S2      S3       S4        S5\n",
       "1 13.36112 4.054668 13.28631 32.41662 28.33212 12.4252 1.223236 0.5254454\n",
       "        S6        Y\n",
       "1 10.99052 76.61589"
      ]
     },
     "execution_count": 49,
     "metadata": {},
     "output_type": "execute_result"
    },
    {
     "data": {
      "text/plain": [
       "      AGE               BMI                 BP                S1          \n",
       " Min.   :-2.2105   Min.   :-1.96734   Min.   :-2.4431   Min.   :-2.74529  \n",
       " 1st Qu.:-0.6949   1st Qu.:-0.72802   1st Qu.:-0.7120   1st Qu.:-0.70159  \n",
       " Median : 0.1097   Median :-0.09295   Median :-0.1099   Median :-0.03064  \n",
       " Mean   : 0.0000   Mean   : 0.00000   Mean   : 0.0000   Mean   : 0.00000  \n",
       " 3rd Qu.: 0.7084   3rd Qu.: 0.66543   3rd Qu.: 0.6428   3rd Qu.: 0.58633  \n",
       " Max.   : 2.2802   Max.   : 3.03924   Max.   : 2.9008   Max.   : 2.96166  \n",
       "       S2                 S3                S4                 S5          \n",
       " Min.   :-2.51345   Min.   :-2.2295   Min.   :-1.62255   Min.   :-2.59788  \n",
       " 1st Qu.:-0.65337   1st Qu.:-0.7808   1st Qu.:-0.80504   1st Qu.:-0.71300  \n",
       " Median :-0.07452   Median :-0.1370   Median : 0.01246   Median :-0.06298  \n",
       " Mean   : 0.00000   Mean   : 0.0000   Mean   : 0.00000   Mean   : 0.00000  \n",
       " 3rd Qu.: 0.56786   3rd Qu.: 0.6679   3rd Qu.: 0.82996   3rd Qu.: 0.71189  \n",
       " Max.   : 2.96443   Max.   : 2.9213   Max.   : 3.51138   Max.   : 2.81981  \n",
       "       S6                 Y          \n",
       " Min.   :-2.84007   Min.   :-1.6441  \n",
       " 1st Qu.:-0.74735   1st Qu.:-0.8577  \n",
       " Median : 0.02604   Median :-0.1366  \n",
       " Mean   : 0.00000   Mean   : 0.0000  \n",
       " 3rd Qu.: 0.61746   3rd Qu.: 0.7673  \n",
       " Max.   : 2.80116   Max.   : 2.4804  "
      ]
     },
     "execution_count": 49,
     "metadata": {},
     "output_type": "execute_result"
    },
    {
     "data": {
      "text/plain": [
       "      AGE                BMI                 BP                 S1          \n",
       " Min.   :-2.21048   Min.   :-1.72071   Min.   :-2.19246   Min.   :-2.25172  \n",
       " 1st Qu.:-0.86329   1st Qu.:-0.61088   1st Qu.:-0.86252   1st Qu.:-0.67845  \n",
       " Median : 0.10969   Median :-0.01896   Median :-0.10987   Median : 0.06191  \n",
       " Mean   :-0.00767   Mean   : 0.18880   Mean   : 0.02701   Mean   : 0.17346  \n",
       " 3rd Qu.: 0.78328   3rd Qu.: 0.86890   3rd Qu.: 0.86858   3rd Qu.: 0.92566  \n",
       " Max.   : 1.98079   Max.   : 3.01458   Max.   : 2.37389   Max.   : 2.96166  \n",
       "       S2                 S3                 S4                 S5          \n",
       " Min.   :-2.25932   Min.   :-1.74659   Min.   :-1.62255   Min.   :-2.14417  \n",
       " 1st Qu.:-0.52278   1st Qu.:-0.61985   1st Qu.:-0.80504   1st Qu.:-0.60719  \n",
       " Median : 0.09137   Median :-0.13696   Median : 0.01246   Median : 0.02200  \n",
       " Mean   : 0.19528   Mean   :-0.03072   Mean   : 0.14241   Mean   : 0.05017  \n",
       " 3rd Qu.: 0.93846   3rd Qu.: 0.50690   3rd Qu.: 0.82996   3rd Qu.: 0.59256  \n",
       " Max.   : 2.97855   Max.   : 3.08231   Max.   : 3.28248   Max.   : 2.82400  \n",
       "       S6                 Y           \n",
       " Min.   :-2.84007   Min.   :-1.56576  \n",
       " 1st Qu.:-0.74735   1st Qu.:-0.87400  \n",
       " Median :-0.01945   Median :-0.16918  \n",
       " Mean   :-0.12354   Mean   :-0.01339  \n",
       " 3rd Qu.: 0.52647   3rd Qu.: 0.64005  \n",
       " Max.   : 1.98227   Max.   : 2.41514  "
      ]
     },
     "execution_count": 49,
     "metadata": {},
     "output_type": "execute_result"
    }
   ],
   "source": [
    "# Crea una función para normalzar dataframes\n",
    "normalizar_dataframe =  function(datos, parametros) {\n",
    "    as.data.frame(\n",
    "        Map(function(columna, parametros) {\n",
    "            (columna - parametros[1]) / parametros[2]\n",
    "        }, datos, parametros)\n",
    "    )\n",
    "}\n",
    "\n",
    "# Obtiene la media y la desviación típica\n",
    "media <- numcolwise(mean)(entrenamiento[-2])\n",
    "desviacion <- numcolwise(sd)(entrenamiento[-2])\n",
    "media\n",
    "desviacion\n",
    "\n",
    "# Normaliza los dataframe\n",
    "parametros <- rbind(media, desviacion)\n",
    "entrenamiento_norm <- normalizar_dataframe(entrenamiento[-2], parametros)\n",
    "test_norm <- normalizar_dataframe(test[-2], parametros)\n",
    "summary(entrenamiento_norm)\n",
    "summary(test_norm)"
   ]
  },
  {
   "cell_type": "markdown",
   "metadata": {},
   "source": [
    "## - (Opcional) Realizar un modelo de regresión lineal de la variable de respuesta sobre el resto y ajustarlo por mı́nimos cuadrados usando únicamente los datos del conjunto de entrenamiento."
   ]
  },
  {
   "cell_type": "code",
   "execution_count": 50,
   "metadata": {
    "collapsed": false
   },
   "outputs": [
    {
     "data": {
      "text/plain": [
       "\n",
       "Call:\n",
       "lm(formula = Y ~ ., data = entrenamiento)\n",
       "\n",
       "Residuals:\n",
       "     Min       1Q   Median       3Q      Max \n",
       "-150.814  -40.160   -0.702   38.584  133.678 \n",
       "\n",
       "Coefficients:\n",
       "             Estimate Std. Error t value Pr(>|t|)    \n",
       "(Intercept) -236.2874    89.9868  -2.626 0.009122 ** \n",
       "AGE            0.2315     0.2803   0.826 0.409642    \n",
       "SEX          -25.5947     7.3715  -3.472 0.000598 ***\n",
       "BMI            4.1570     1.0171   4.087 5.72e-05 ***\n",
       "BP             1.0532     0.2984   3.530 0.000486 ***\n",
       "S1            -0.3003     0.7689  -0.391 0.696418    \n",
       "S2             0.1014     0.7048   0.144 0.885665    \n",
       "S3            -0.8716     1.0753  -0.811 0.418306    \n",
       "S4             4.0195     7.8092   0.515 0.607158    \n",
       "S5            53.4959    19.6611   2.721 0.006920 ** \n",
       "S6             0.3357     0.3535   0.950 0.343058    \n",
       "---\n",
       "Signif. codes:  0 ‘***’ 0.001 ‘**’ 0.01 ‘*’ 0.05 ‘.’ 0.1 ‘ ’ 1\n",
       "\n",
       "Residual standard error: 55.15 on 279 degrees of freedom\n",
       "Multiple R-squared:  0.4997,\tAdjusted R-squared:  0.4818 \n",
       "F-statistic: 27.87 on 10 and 279 DF,  p-value: < 2.2e-16\n"
      ]
     },
     "execution_count": 50,
     "metadata": {},
     "output_type": "execute_result"
    }
   ],
   "source": [
    "regresion <- lm(Y~ ., data=entrenamiento)\n",
    "summary(regresion)"
   ]
  },
  {
   "cell_type": "markdown",
   "metadata": {},
   "source": [
    "## - (Opcional) Calcular el error cuadrático medio de los datos del conjunto de entrenamiento y de los datos del conjunto de test, definido como (...ver documento de sesión 3...), donde y es el vector de respuesta de los datos y ŷ es el vector que predice el modelo (para los mismos datos)."
   ]
  },
  {
   "cell_type": "code",
   "execution_count": 51,
   "metadata": {
    "collapsed": false
   },
   "outputs": [
    {
     "name": "stdout",
     "output_type": "stream",
     "text": [
      "Error cuadrático medio: 2963.389 \n"
     ]
    }
   ],
   "source": [
    "vector_predictivo <- predict.lm(regresion, newdata=data)\n",
    "error_cuadratico_medio <- mean((data$Y - vector_predictivo)^2)\n",
    "cat(\"Error cuadrático medio:\", error_cuadratico_medio, \"\\n\")"
   ]
  }
 ],
 "metadata": {
  "kernelspec": {
   "display_name": "R",
   "language": "R",
   "name": "ir"
  },
  "language_info": {
   "codemirror_mode": "r",
   "file_extension": ".r",
   "mimetype": "text/x-r-source",
   "name": "R",
   "pygments_lexer": "r",
   "version": "3.2.2"
  }
 },
 "nbformat": 4,
 "nbformat_minor": 0
}
